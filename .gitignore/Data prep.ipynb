{
 "cells": [
  {
   "cell_type": "markdown",
   "metadata": {
    "colab_type": "text",
    "id": "5S766rj7dZLJ"
   },
   "source": [
    "<h2> <center><strong>Ecole Polytechnique de Tunisie</strong> </center> </h2> !\n",
    "<center> <img src=\"https://nhoues.github.io/Infrastructure-Project/Animations/EPT.jpg\" style=\"width:80px; height:80px\"  ></center>\n"
   ]
  },
  {
   "cell_type": "markdown",
   "metadata": {
    "colab_type": "text",
    "id": "Zk-vfb5pos3E"
   },
   "source": [
    "<h1><center>Mini projet conception des systèmes d'information</center></h1>\n",
    "<h1><em><center>Problème de détection de fraud STEG : Partie préparation des données</em></center></h1>\n",
    "<h3><center><em>Réalisé par :</em> <font color='blue'> Naim Houes & Malek Mechergui</font></center></h3> \n"
   ]
  },
  {
   "cell_type": "markdown",
   "metadata": {
    "colab_type": "text",
    "id": "oUBSqTkvrBUw"
   },
   "source": [
    "### Exploration et nettoyage de la data"
   ]
  },
  {
   "cell_type": "markdown",
   "metadata": {
    "colab_type": "text",
    "id": "K1HBYgjUqlKU"
   },
   "source": [
    "**Importation des bibliothèques nécessaires à la préparation des données.**"
   ]
  },
  {
   "cell_type": "code",
   "execution_count": 1,
   "metadata": {
    "colab": {
     "base_uri": "https://localhost:8080/",
     "height": 71
    },
    "colab_type": "code",
    "id": "QtifR3OrXcDo",
    "outputId": "39251d09-6034-47da-c561-5286d8b00933"
   },
   "outputs": [
    {
     "name": "stderr",
     "output_type": "stream",
     "text": [
      "/usr/local/lib/python3.6/dist-packages/statsmodels/tools/_testing.py:19: FutureWarning: pandas.util.testing is deprecated. Use the functions in the public API at pandas.testing instead.\n",
      "  import pandas.util.testing as tm\n"
     ]
    }
   ],
   "source": [
    "import pandas as pd \n",
    "from tqdm.notebook import tqdm \n",
    "import gc \n",
    "from sklearn import preprocessing\n",
    "import numpy as np \n",
    "import matplotlib.pyplot as plt\n",
    "import seaborn as sns\n"
   ]
  },
  {
   "cell_type": "code",
   "execution_count": 0,
   "metadata": {
    "colab": {},
    "colab_type": "code",
    "id": "xvPZdh7pXxvD"
   },
   "outputs": [],
   "source": [
    "client = pd.read_csv('/content/drive/My Drive/colab/CLIENT.csv')\n",
    "client = pd.DataFrame(data=[ x[0].split() for x in client.values] , columns = client.iloc[0].index[0].split())"
   ]
  },
  {
   "cell_type": "code",
   "execution_count": 3,
   "metadata": {
    "colab": {
     "base_uri": "https://localhost:8080/",
     "height": 34
    },
    "colab_type": "code",
    "id": "5pL0RZ08X6lc",
    "outputId": "0e7ab6d2-f781-4068-e0ba-bd8af817d6a7"
   },
   "outputs": [
    {
     "name": "stdout",
     "output_type": "stream",
     "text": [
      "Drive already mounted at /content/drive; to attempt to forcibly remount, call drive.mount(\"/content/drive\", force_remount=True).\n"
     ]
    }
   ],
   "source": [
    "from google.colab import drive\n",
    "drive.mount('/content/drive')"
   ]
  },
  {
   "cell_type": "code",
   "execution_count": 4,
   "metadata": {
    "colab": {
     "base_uri": "https://localhost:8080/",
     "height": 71
    },
    "colab_type": "code",
    "id": "fleSSpPYJzHC",
    "outputId": "d24d960f-fa0b-41ce-8ad3-083ccf145cf7"
   },
   "outputs": [
    {
     "name": "stderr",
     "output_type": "stream",
     "text": [
      "/usr/local/lib/python3.6/dist-packages/IPython/core/interactiveshell.py:2718: DtypeWarning: Columns (1) have mixed types.Specify dtype option on import or set low_memory=False.\n",
      "  interactivity=interactivity, compiler=compiler, result=result)\n"
     ]
    }
   ],
   "source": [
    "con1 = pd.read_csv('/content/drive/My Drive/colab/CLIENT_CONSOMMATION_UR60.csv')\n",
    "con1 = pd.DataFrame(data=[ x[0].split() for x in con1.values] , columns = con1.iloc[0].index[0].split()+['to_drop'])\n",
    "con1.drop('to_drop',1,inplace = True)\n",
    "con2 = pd.read_csv('/content/drive/My Drive/colab/CLIENT_CONSOMMATION_UR62.csv')\n",
    "con2 = pd.DataFrame(data=[ x[0].split() for x in con2.values] , columns = con2.iloc[0].index[0].split()+['to_drop'])\n",
    "con2.drop('to_drop',1,inplace = True)\n",
    "con3 = pd.read_csv('/content/drive/My Drive/colab/CLIENT_CONSOMMATION_UR63.csv')\n",
    "con3 = pd.DataFrame(data=[ x[0].split() for x in con3.values] , columns = con3.iloc[0].index[0].split()+['to_drop'])\n",
    "con3.drop('to_drop',1,inplace = True)\n",
    "con4 = pd.read_csv('/content/drive/My Drive/colab/CLIENT_CONSOMMATION_UR69.csv')\n",
    "con4 = pd.DataFrame(data=[ x[0].split() for x in con4.values] , columns = con4.iloc[0].index[0].split()+['to_drop'])\n",
    "con4.drop('to_drop',1,inplace = True)\n",
    "con = pd.concat([con1,con2,con3,con4],ignore_index=True)"
   ]
  },
  {
   "cell_type": "markdown",
   "metadata": {
    "colab_type": "text",
    "id": "v7fmETfOrYv4"
   },
   "source": [
    "**La base de données des clients**"
   ]
  },
  {
   "cell_type": "code",
   "execution_count": 5,
   "metadata": {
    "colab": {
     "base_uri": "https://localhost:8080/",
     "height": 204
    },
    "colab_type": "code",
    "id": "IFdjJT0KQ4W6",
    "outputId": "dd649b52-797e-4fad-9b00-e11b8003dfb7"
   },
   "outputs": [
    {
     "data": {
      "text/html": [
       "<div>\n",
       "<style scoped>\n",
       "    .dataframe tbody tr th:only-of-type {\n",
       "        vertical-align: middle;\n",
       "    }\n",
       "\n",
       "    .dataframe tbody tr th {\n",
       "        vertical-align: top;\n",
       "    }\n",
       "\n",
       "    .dataframe thead th {\n",
       "        text-align: right;\n",
       "    }\n",
       "</style>\n",
       "<table border=\"1\" class=\"dataframe\">\n",
       "  <thead>\n",
       "    <tr style=\"text-align: right;\">\n",
       "      <th></th>\n",
       "      <th>RC_UR_CODE</th>\n",
       "      <th>CF_AB_CODE</th>\n",
       "      <th>CF_AB_REF</th>\n",
       "      <th>RC_CATEG_CODE</th>\n",
       "      <th>RC_COMMUNE_CODE</th>\n",
       "      <th>CF_AB_DAT_CREATION</th>\n",
       "      <th>CF_AB_SOLDE_FINAL</th>\n",
       "      <th>CF_AB_MENSUALISE</th>\n",
       "      <th>CF_AB_RELANCE</th>\n",
       "      <th>FRAUDE</th>\n",
       "    </tr>\n",
       "  </thead>\n",
       "  <tbody>\n",
       "    <tr>\n",
       "      <th>0</th>\n",
       "      <td>60</td>\n",
       "      <td>BT</td>\n",
       "      <td>000010010</td>\n",
       "      <td>11</td>\n",
       "      <td>0101</td>\n",
       "      <td>15/01/2009</td>\n",
       "      <td>299704</td>\n",
       "      <td>0</td>\n",
       "      <td>1</td>\n",
       "      <td>0</td>\n",
       "    </tr>\n",
       "    <tr>\n",
       "      <th>1</th>\n",
       "      <td>60</td>\n",
       "      <td>BT</td>\n",
       "      <td>000010020</td>\n",
       "      <td>11</td>\n",
       "      <td>0101</td>\n",
       "      <td>29/04/2014</td>\n",
       "      <td>0</td>\n",
       "      <td>0</td>\n",
       "      <td>0</td>\n",
       "      <td>0</td>\n",
       "    </tr>\n",
       "    <tr>\n",
       "      <th>2</th>\n",
       "      <td>60</td>\n",
       "      <td>BT</td>\n",
       "      <td>000110020</td>\n",
       "      <td>11</td>\n",
       "      <td>0101</td>\n",
       "      <td>23/12/2013</td>\n",
       "      <td>636432</td>\n",
       "      <td>0</td>\n",
       "      <td>1</td>\n",
       "      <td>0</td>\n",
       "    </tr>\n",
       "    <tr>\n",
       "      <th>3</th>\n",
       "      <td>60</td>\n",
       "      <td>BT</td>\n",
       "      <td>000110050</td>\n",
       "      <td>51</td>\n",
       "      <td>0101</td>\n",
       "      <td>08/10/2004</td>\n",
       "      <td>523661</td>\n",
       "      <td>0</td>\n",
       "      <td>0</td>\n",
       "      <td>0</td>\n",
       "    </tr>\n",
       "    <tr>\n",
       "      <th>4</th>\n",
       "      <td>60</td>\n",
       "      <td>BT</td>\n",
       "      <td>000110070</td>\n",
       "      <td>51</td>\n",
       "      <td>0101</td>\n",
       "      <td>08/10/2008</td>\n",
       "      <td>218691</td>\n",
       "      <td>0</td>\n",
       "      <td>0</td>\n",
       "      <td>0</td>\n",
       "    </tr>\n",
       "  </tbody>\n",
       "</table>\n",
       "</div>"
      ],
      "text/plain": [
       "  RC_UR_CODE CF_AB_CODE  CF_AB_REF  ... CF_AB_MENSUALISE CF_AB_RELANCE FRAUDE\n",
       "0         60         BT  000010010  ...                0             1      0\n",
       "1         60         BT  000010020  ...                0             0      0\n",
       "2         60         BT  000110020  ...                0             1      0\n",
       "3         60         BT  000110050  ...                0             0      0\n",
       "4         60         BT  000110070  ...                0             0      0\n",
       "\n",
       "[5 rows x 10 columns]"
      ]
     },
     "execution_count": 5,
     "metadata": {
      "tags": []
     },
     "output_type": "execute_result"
    }
   ],
   "source": [
    "client.head()"
   ]
  },
  {
   "cell_type": "markdown",
   "metadata": {
    "colab_type": "text",
    "id": "lCEB1Dy0rnVX"
   },
   "source": [
    "Supprimer les colonnes inutiles aux traitements, renommer les colonnes restantes plus explicitements et afficher la base de données obtenue."
   ]
  },
  {
   "cell_type": "code",
   "execution_count": 6,
   "metadata": {
    "colab": {
     "base_uri": "https://localhost:8080/",
     "height": 204
    },
    "colab_type": "code",
    "id": "qx7Au66GKKeQ",
    "outputId": "0987bfed-33a0-40f8-bb6d-992d25a3ea16"
   },
   "outputs": [
    {
     "data": {
      "text/html": [
       "<div>\n",
       "<style scoped>\n",
       "    .dataframe tbody tr th:only-of-type {\n",
       "        vertical-align: middle;\n",
       "    }\n",
       "\n",
       "    .dataframe tbody tr th {\n",
       "        vertical-align: top;\n",
       "    }\n",
       "\n",
       "    .dataframe thead th {\n",
       "        text-align: right;\n",
       "    }\n",
       "</style>\n",
       "<table border=\"1\" class=\"dataframe\">\n",
       "  <thead>\n",
       "    <tr style=\"text-align: right;\">\n",
       "      <th></th>\n",
       "      <th>district</th>\n",
       "      <th>client_id</th>\n",
       "      <th>client_catg</th>\n",
       "      <th>region</th>\n",
       "      <th>creation</th>\n",
       "      <th>Fraud</th>\n",
       "    </tr>\n",
       "  </thead>\n",
       "  <tbody>\n",
       "    <tr>\n",
       "      <th>0</th>\n",
       "      <td>60</td>\n",
       "      <td>000010010</td>\n",
       "      <td>11</td>\n",
       "      <td>0101</td>\n",
       "      <td>15/01/2009</td>\n",
       "      <td>0</td>\n",
       "    </tr>\n",
       "    <tr>\n",
       "      <th>1</th>\n",
       "      <td>60</td>\n",
       "      <td>000010020</td>\n",
       "      <td>11</td>\n",
       "      <td>0101</td>\n",
       "      <td>29/04/2014</td>\n",
       "      <td>0</td>\n",
       "    </tr>\n",
       "    <tr>\n",
       "      <th>2</th>\n",
       "      <td>60</td>\n",
       "      <td>000110020</td>\n",
       "      <td>11</td>\n",
       "      <td>0101</td>\n",
       "      <td>23/12/2013</td>\n",
       "      <td>0</td>\n",
       "    </tr>\n",
       "    <tr>\n",
       "      <th>3</th>\n",
       "      <td>60</td>\n",
       "      <td>000110050</td>\n",
       "      <td>51</td>\n",
       "      <td>0101</td>\n",
       "      <td>08/10/2004</td>\n",
       "      <td>0</td>\n",
       "    </tr>\n",
       "    <tr>\n",
       "      <th>4</th>\n",
       "      <td>60</td>\n",
       "      <td>000110070</td>\n",
       "      <td>51</td>\n",
       "      <td>0101</td>\n",
       "      <td>08/10/2008</td>\n",
       "      <td>0</td>\n",
       "    </tr>\n",
       "  </tbody>\n",
       "</table>\n",
       "</div>"
      ],
      "text/plain": [
       "  district  client_id client_catg region    creation Fraud\n",
       "0       60  000010010          11   0101  15/01/2009     0\n",
       "1       60  000010020          11   0101  29/04/2014     0\n",
       "2       60  000110020          11   0101  23/12/2013     0\n",
       "3       60  000110050          51   0101  08/10/2004     0\n",
       "4       60  000110070          51   0101  08/10/2008     0"
      ]
     },
     "execution_count": 6,
     "metadata": {
      "tags": []
     },
     "output_type": "execute_result"
    }
   ],
   "source": [
    "client.drop(['CF_AB_CODE','CF_AB_SOLDE_FINAL','CF_AB_MENSUALISE','CF_AB_RELANCE'], axis = 1, inplace= True)\n",
    "col_name = ['district', 'client_id','client_catg','region','creation','Fraud']\n",
    "client.columns = col_name \n",
    "client.head() "
   ]
  },
  {
   "cell_type": "markdown",
   "metadata": {
    "colab_type": "text",
    "id": "xR0f9hIAsYRP"
   },
   "source": [
    "**La base de données des consommations des clients**"
   ]
  },
  {
   "cell_type": "code",
   "execution_count": 7,
   "metadata": {
    "colab": {
     "base_uri": "https://localhost:8080/",
     "height": 224
    },
    "colab_type": "code",
    "id": "Z1KfI6bYSmGG",
    "outputId": "b19116f3-d76c-429a-a675-df7d676cf390"
   },
   "outputs": [
    {
     "data": {
      "text/html": [
       "<div>\n",
       "<style scoped>\n",
       "    .dataframe tbody tr th:only-of-type {\n",
       "        vertical-align: middle;\n",
       "    }\n",
       "\n",
       "    .dataframe tbody tr th {\n",
       "        vertical-align: top;\n",
       "    }\n",
       "\n",
       "    .dataframe thead th {\n",
       "        text-align: right;\n",
       "    }\n",
       "</style>\n",
       "<table border=\"1\" class=\"dataframe\">\n",
       "  <thead>\n",
       "    <tr style=\"text-align: right;\">\n",
       "      <th></th>\n",
       "      <th>CF_AB_CODE</th>\n",
       "      <th>CF_AB_REF</th>\n",
       "      <th>CF_FACT_DATFACT</th>\n",
       "      <th>RC_BTTARIF_CODE</th>\n",
       "      <th>BT_CONSO_NUMCPTR</th>\n",
       "      <th>RC_BT_SCPTR_CODE</th>\n",
       "      <th>RC_CCPTEUR_CODE</th>\n",
       "      <th>RC_BT_ERLV_CODE</th>\n",
       "      <th>BT_CONSO_COEFF</th>\n",
       "      <th>BT_CONSO_CONSO1</th>\n",
       "      <th>BT_CONSO_CONSO2</th>\n",
       "      <th>BT_CONSO_CONSO3</th>\n",
       "      <th>BT_CONSO_CONSO4</th>\n",
       "      <th>BT_CONSO_AINDEX</th>\n",
       "      <th>BT_CONSO_NINDEX</th>\n",
       "      <th>BT_CONSO_NBRMOIS</th>\n",
       "    </tr>\n",
       "  </thead>\n",
       "  <tbody>\n",
       "    <tr>\n",
       "      <th>0</th>\n",
       "      <td>BT</td>\n",
       "      <td>000110050</td>\n",
       "      <td>03/10/2017</td>\n",
       "      <td>11</td>\n",
       "      <td>124416</td>\n",
       "      <td>0</td>\n",
       "      <td>433</td>\n",
       "      <td>9</td>\n",
       "      <td>1</td>\n",
       "      <td>200</td>\n",
       "      <td>100</td>\n",
       "      <td>200</td>\n",
       "      <td>3409</td>\n",
       "      <td>762111</td>\n",
       "      <td>766020</td>\n",
       "      <td>1</td>\n",
       "    </tr>\n",
       "    <tr>\n",
       "      <th>1</th>\n",
       "      <td>BT</td>\n",
       "      <td>000110050</td>\n",
       "      <td>05/12/2017</td>\n",
       "      <td>11</td>\n",
       "      <td>124416</td>\n",
       "      <td>0</td>\n",
       "      <td>433</td>\n",
       "      <td>9</td>\n",
       "      <td>1</td>\n",
       "      <td>200</td>\n",
       "      <td>100</td>\n",
       "      <td>200</td>\n",
       "      <td>4327</td>\n",
       "      <td>771442</td>\n",
       "      <td>776269</td>\n",
       "      <td>1</td>\n",
       "    </tr>\n",
       "    <tr>\n",
       "      <th>2</th>\n",
       "      <td>BT</td>\n",
       "      <td>000110050</td>\n",
       "      <td>02/02/2018</td>\n",
       "      <td>11</td>\n",
       "      <td>124416</td>\n",
       "      <td>0</td>\n",
       "      <td>433</td>\n",
       "      <td>9</td>\n",
       "      <td>1</td>\n",
       "      <td>200</td>\n",
       "      <td>100</td>\n",
       "      <td>200</td>\n",
       "      <td>3756</td>\n",
       "      <td>779828</td>\n",
       "      <td>784084</td>\n",
       "      <td>1</td>\n",
       "    </tr>\n",
       "    <tr>\n",
       "      <th>3</th>\n",
       "      <td>BT</td>\n",
       "      <td>000110050</td>\n",
       "      <td>02/03/2018</td>\n",
       "      <td>11</td>\n",
       "      <td>124416</td>\n",
       "      <td>0</td>\n",
       "      <td>433</td>\n",
       "      <td>9</td>\n",
       "      <td>1</td>\n",
       "      <td>200</td>\n",
       "      <td>100</td>\n",
       "      <td>200</td>\n",
       "      <td>4130</td>\n",
       "      <td>784084</td>\n",
       "      <td>788714</td>\n",
       "      <td>1</td>\n",
       "    </tr>\n",
       "    <tr>\n",
       "      <th>4</th>\n",
       "      <td>BT</td>\n",
       "      <td>000110050</td>\n",
       "      <td>03/04/2018</td>\n",
       "      <td>11</td>\n",
       "      <td>124416</td>\n",
       "      <td>0</td>\n",
       "      <td>433</td>\n",
       "      <td>9</td>\n",
       "      <td>1</td>\n",
       "      <td>200</td>\n",
       "      <td>100</td>\n",
       "      <td>200</td>\n",
       "      <td>3732</td>\n",
       "      <td>788714</td>\n",
       "      <td>792946</td>\n",
       "      <td>1</td>\n",
       "    </tr>\n",
       "  </tbody>\n",
       "</table>\n",
       "</div>"
      ],
      "text/plain": [
       "  CF_AB_CODE  CF_AB_REF  ... BT_CONSO_NINDEX BT_CONSO_NBRMOIS\n",
       "0         BT  000110050  ...          766020                1\n",
       "1         BT  000110050  ...          776269                1\n",
       "2         BT  000110050  ...          784084                1\n",
       "3         BT  000110050  ...          788714                1\n",
       "4         BT  000110050  ...          792946                1\n",
       "\n",
       "[5 rows x 16 columns]"
      ]
     },
     "execution_count": 7,
     "metadata": {
      "tags": []
     },
     "output_type": "execute_result"
    }
   ],
   "source": [
    "con.head()"
   ]
  },
  {
   "cell_type": "markdown",
   "metadata": {
    "colab_type": "text",
    "id": "EcMycCpbsdTw"
   },
   "source": [
    "Supprimer les colonnes inutiles aux traitements, renommer les colonnes restantes plus explicitements et afficher la base de données obtenue."
   ]
  },
  {
   "cell_type": "code",
   "execution_count": 8,
   "metadata": {
    "colab": {
     "base_uri": "https://localhost:8080/",
     "height": 224
    },
    "colab_type": "code",
    "id": "JRhtfA-JKgaC",
    "outputId": "35f89efc-85f3-4f82-e312-aa370f978fd7"
   },
   "outputs": [
    {
     "data": {
      "text/html": [
       "<div>\n",
       "<style scoped>\n",
       "    .dataframe tbody tr th:only-of-type {\n",
       "        vertical-align: middle;\n",
       "    }\n",
       "\n",
       "    .dataframe tbody tr th {\n",
       "        vertical-align: top;\n",
       "    }\n",
       "\n",
       "    .dataframe thead th {\n",
       "        text-align: right;\n",
       "    }\n",
       "</style>\n",
       "<table border=\"1\" class=\"dataframe\">\n",
       "  <thead>\n",
       "    <tr style=\"text-align: right;\">\n",
       "      <th></th>\n",
       "      <th>client_id</th>\n",
       "      <th>invoice_date</th>\n",
       "      <th>Tarif</th>\n",
       "      <th>counter_number</th>\n",
       "      <th>counter_statue</th>\n",
       "      <th>counter_type</th>\n",
       "      <th>counter_coefficient</th>\n",
       "      <th>consommation_level_1</th>\n",
       "      <th>consommation_level_2</th>\n",
       "      <th>consommation_level_3</th>\n",
       "      <th>consommation_level_4</th>\n",
       "      <th>old_index</th>\n",
       "      <th>new_index</th>\n",
       "      <th>months_number</th>\n",
       "    </tr>\n",
       "  </thead>\n",
       "  <tbody>\n",
       "    <tr>\n",
       "      <th>0</th>\n",
       "      <td>000110050</td>\n",
       "      <td>03/10/2017</td>\n",
       "      <td>11</td>\n",
       "      <td>124416</td>\n",
       "      <td>0</td>\n",
       "      <td>433</td>\n",
       "      <td>1</td>\n",
       "      <td>200</td>\n",
       "      <td>100</td>\n",
       "      <td>200</td>\n",
       "      <td>3409</td>\n",
       "      <td>762111</td>\n",
       "      <td>766020</td>\n",
       "      <td>1</td>\n",
       "    </tr>\n",
       "    <tr>\n",
       "      <th>1</th>\n",
       "      <td>000110050</td>\n",
       "      <td>05/12/2017</td>\n",
       "      <td>11</td>\n",
       "      <td>124416</td>\n",
       "      <td>0</td>\n",
       "      <td>433</td>\n",
       "      <td>1</td>\n",
       "      <td>200</td>\n",
       "      <td>100</td>\n",
       "      <td>200</td>\n",
       "      <td>4327</td>\n",
       "      <td>771442</td>\n",
       "      <td>776269</td>\n",
       "      <td>1</td>\n",
       "    </tr>\n",
       "    <tr>\n",
       "      <th>2</th>\n",
       "      <td>000110050</td>\n",
       "      <td>02/02/2018</td>\n",
       "      <td>11</td>\n",
       "      <td>124416</td>\n",
       "      <td>0</td>\n",
       "      <td>433</td>\n",
       "      <td>1</td>\n",
       "      <td>200</td>\n",
       "      <td>100</td>\n",
       "      <td>200</td>\n",
       "      <td>3756</td>\n",
       "      <td>779828</td>\n",
       "      <td>784084</td>\n",
       "      <td>1</td>\n",
       "    </tr>\n",
       "    <tr>\n",
       "      <th>3</th>\n",
       "      <td>000110050</td>\n",
       "      <td>02/03/2018</td>\n",
       "      <td>11</td>\n",
       "      <td>124416</td>\n",
       "      <td>0</td>\n",
       "      <td>433</td>\n",
       "      <td>1</td>\n",
       "      <td>200</td>\n",
       "      <td>100</td>\n",
       "      <td>200</td>\n",
       "      <td>4130</td>\n",
       "      <td>784084</td>\n",
       "      <td>788714</td>\n",
       "      <td>1</td>\n",
       "    </tr>\n",
       "    <tr>\n",
       "      <th>4</th>\n",
       "      <td>000110050</td>\n",
       "      <td>03/04/2018</td>\n",
       "      <td>11</td>\n",
       "      <td>124416</td>\n",
       "      <td>0</td>\n",
       "      <td>433</td>\n",
       "      <td>1</td>\n",
       "      <td>200</td>\n",
       "      <td>100</td>\n",
       "      <td>200</td>\n",
       "      <td>3732</td>\n",
       "      <td>788714</td>\n",
       "      <td>792946</td>\n",
       "      <td>1</td>\n",
       "    </tr>\n",
       "  </tbody>\n",
       "</table>\n",
       "</div>"
      ],
      "text/plain": [
       "   client_id invoice_date Tarif  ... old_index new_index months_number\n",
       "0  000110050   03/10/2017    11  ...    762111    766020             1\n",
       "1  000110050   05/12/2017    11  ...    771442    776269             1\n",
       "2  000110050   02/02/2018    11  ...    779828    784084             1\n",
       "3  000110050   02/03/2018    11  ...    784084    788714             1\n",
       "4  000110050   03/04/2018    11  ...    788714    792946             1\n",
       "\n",
       "[5 rows x 14 columns]"
      ]
     },
     "execution_count": 8,
     "metadata": {
      "tags": []
     },
     "output_type": "execute_result"
    }
   ],
   "source": [
    "con.drop([\"CF_AB_CODE\",\"RC_BT_ERLV_CODE\"] , 1 , inplace = True )\n",
    "cols_name= ['client_id', 'invoice_date','Tarif','counter_number','counter_statue','counter_type','counter_coefficient',\n",
    "            'consommation_level_1','consommation_level_2','consommation_level_3','consommation_level_4','old_index','new_index','months_number']\n",
    "            \n",
    "con.columns = cols_name\n",
    "con.head()"
   ]
  },
  {
   "cell_type": "code",
   "execution_count": 9,
   "metadata": {
    "colab": {
     "base_uri": "https://localhost:8080/",
     "height": 272
    },
    "colab_type": "code",
    "id": "HkmCdgPILSi1",
    "outputId": "4a008272-26dd-428d-be20-36f9c1a866d2"
   },
   "outputs": [
    {
     "data": {
      "text/plain": [
       "client_id               object\n",
       "invoice_date            object\n",
       "Tarif                   object\n",
       "counter_number          object\n",
       "counter_statue          object\n",
       "counter_type            object\n",
       "counter_coefficient     object\n",
       "consommation_level_1    object\n",
       "consommation_level_2    object\n",
       "consommation_level_3    object\n",
       "consommation_level_4    object\n",
       "old_index               object\n",
       "new_index               object\n",
       "months_number           object\n",
       "dtype: object"
      ]
     },
     "execution_count": 9,
     "metadata": {
      "tags": []
     },
     "output_type": "execute_result"
    }
   ],
   "source": [
    "con.dtypes"
   ]
  },
  {
   "cell_type": "markdown",
   "metadata": {
    "colab_type": "text",
    "id": "Jh6doPEwsqyq"
   },
   "source": [
    "On constate que les colonnes sont de type objet donc pour mieux les manipuler on doit faire la conversion."
   ]
  },
  {
   "cell_type": "markdown",
   "metadata": {
    "colab_type": "text",
    "id": "ClZfWzJGtCxT"
   },
   "source": [
    "**Un coup d'oeil sur la distribution de nombre de mois qui séparent deux prises d'index du compteur du client.**"
   ]
  },
  {
   "cell_type": "code",
   "execution_count": 10,
   "metadata": {
    "colab": {
     "base_uri": "https://localhost:8080/",
     "height": 293
    },
    "colab_type": "code",
    "id": "SyUR13dicinF",
    "outputId": "60f68b2c-60c0-40ba-e20a-7d70069483d7"
   },
   "outputs": [
    {
     "data": {
      "text/plain": [
       "<matplotlib.axes._subplots.AxesSubplot at 0x7f1b9d3ece80>"
      ]
     },
     "execution_count": 10,
     "metadata": {
      "tags": []
     },
     "output_type": "execute_result"
    },
    {
     "data": {
      "image/png": "[encoded data removed]",
      "text/plain": [
       "<Figure size 432x288 with 1 Axes>"
      ]
     },
     "metadata": {
      "needs_background": "light",
      "tags": []
     },
     "output_type": "display_data"
    }
   ],
   "source": [
    "con['months_number'] = con['months_number'].astype('float')\n",
    "con['months_number'].hist()"
   ]
  },
  {
   "cell_type": "markdown",
   "metadata": {
    "colab_type": "text",
    "id": "YSMT39wXtqis"
   },
   "source": [
    "On constate un nombre de mois énorme entre deux prises du compteur qui n'est pas confrome à la réalité. Dans la suite du travail, on s'est restreind à 36 mois qui est une durée plus proche de la réalité."
   ]
  },
  {
   "cell_type": "code",
   "execution_count": 11,
   "metadata": {
    "colab": {
     "base_uri": "https://localhost:8080/",
     "height": 293
    },
    "colab_type": "code",
    "id": "JroRzVwLciqb",
    "outputId": "81ba3aa1-d24d-4a1f-96f8-44d978fa084a"
   },
   "outputs": [
    {
     "data": {
      "text/plain": [
       "<matplotlib.axes._subplots.AxesSubplot at 0x7f1ba736bac8>"
      ]
     },
     "execution_count": 11,
     "metadata": {
      "tags": []
     },
     "output_type": "execute_result"
    },
    {
     "data": {
      "image/png": "[encoded data removed]",
      "text/plain": [
       "<Figure size 432x288 with 1 Axes>"
      ]
     },
     "metadata": {
      "needs_background": "light",
      "tags": []
     },
     "output_type": "display_data"
    }
   ],
   "source": [
    "con = con.set_index('counter_number')\n",
    "con.drop(con[con['months_number']>36].index,inplace=True)\n",
    "con.reset_index(inplace=True)\n",
    "con['months_number'].hist()"
   ]
  },
  {
   "cell_type": "code",
   "execution_count": 12,
   "metadata": {
    "colab": {
     "base_uri": "https://localhost:8080/",
     "height": 34
    },
    "colab_type": "code",
    "id": "Qt08W61KHlbI",
    "outputId": "86e60b5b-6bf3-4741-f3e9-084f1868a7c5"
   },
   "outputs": [
    {
     "data": {
      "text/plain": [
       "0"
      ]
     },
     "execution_count": 12,
     "metadata": {
      "tags": []
     },
     "output_type": "execute_result"
    }
   ],
   "source": [
    "gc.collect()"
   ]
  },
  {
   "cell_type": "markdown",
   "metadata": {
    "colab_type": "text",
    "id": "i_fxBXG3u9Wk"
   },
   "source": [
    "**Creation de colonne pour la consommation mensuel des clients**\n",
    "\n",
    "$La \\: consommation \\: mensuel = (\\sum_{i=1}^{4} Consommation \\: du \\: niveau \\:i)/nombre \\: de \\: mois$"
   ]
  },
  {
   "cell_type": "code",
   "execution_count": 0,
   "metadata": {
    "colab": {},
    "colab_type": "code",
    "id": "tmgvRGzlLOFh"
   },
   "outputs": [],
   "source": [
    "con['consumption_per_month'] =  (con['consommation_level_1'].astype('float') + con['consommation_level_2'].astype('float')+con['consommation_level_3'].astype('float')+con['consommation_level_4'].astype('float')) / con['months_number']"
   ]
  },
  {
   "cell_type": "code",
   "execution_count": 14,
   "metadata": {
    "colab": {
     "base_uri": "https://localhost:8080/",
     "height": 170
    },
    "colab_type": "code",
    "id": "-m_q_5--v1b9",
    "outputId": "75442e38-d092-40e4-8523-246fbacc8681"
   },
   "outputs": [
    {
     "data": {
      "text/plain": [
       "count    4157453.00\n",
       "mean            inf\n",
       "std             NaN\n",
       "min         -379.00\n",
       "25%           19.00\n",
       "50%           75.00\n",
       "75%          166.25\n",
       "max             inf\n",
       "Name: consumption_per_month, dtype: float64"
      ]
     },
     "execution_count": 14,
     "metadata": {
      "tags": []
     },
     "output_type": "execute_result"
    }
   ],
   "source": [
    "con['consumption_per_month'].describe()"
   ]
  },
  {
   "cell_type": "markdown",
   "metadata": {
    "colab_type": "text",
    "id": "tgqteOeLwSrd"
   },
   "source": [
    "La présence de valeurs négatives ou infinies dans les consommations des clients fait qu'on doit éliminer ces dernières (outliers)."
   ]
  },
  {
   "cell_type": "code",
   "execution_count": 0,
   "metadata": {
    "colab": {},
    "colab_type": "code",
    "id": "e8zILOYBwZ_3"
   },
   "outputs": [],
   "source": [
    "con.drop(con[con['consumption_per_month']<0].index,inplace = True)"
   ]
  },
  {
   "cell_type": "code",
   "execution_count": 16,
   "metadata": {
    "colab": {
     "base_uri": "https://localhost:8080/",
     "height": 224
    },
    "colab_type": "code",
    "id": "zNvl3s7-xAWM",
    "outputId": "e4bc0e9b-0fba-42d5-e205-da2d4c6a84ab"
   },
   "outputs": [
    {
     "data": {
      "text/html": [
       "<div>\n",
       "<style scoped>\n",
       "    .dataframe tbody tr th:only-of-type {\n",
       "        vertical-align: middle;\n",
       "    }\n",
       "\n",
       "    .dataframe tbody tr th {\n",
       "        vertical-align: top;\n",
       "    }\n",
       "\n",
       "    .dataframe thead th {\n",
       "        text-align: right;\n",
       "    }\n",
       "</style>\n",
       "<table border=\"1\" class=\"dataframe\">\n",
       "  <thead>\n",
       "    <tr style=\"text-align: right;\">\n",
       "      <th></th>\n",
       "      <th>counter_number</th>\n",
       "      <th>client_id</th>\n",
       "      <th>invoice_date</th>\n",
       "      <th>Tarif</th>\n",
       "      <th>counter_statue</th>\n",
       "      <th>counter_type</th>\n",
       "      <th>counter_coefficient</th>\n",
       "      <th>consommation_level_1</th>\n",
       "      <th>consommation_level_2</th>\n",
       "      <th>consommation_level_3</th>\n",
       "      <th>consommation_level_4</th>\n",
       "      <th>old_index</th>\n",
       "      <th>new_index</th>\n",
       "      <th>months_number</th>\n",
       "      <th>consumption_per_month</th>\n",
       "    </tr>\n",
       "  </thead>\n",
       "  <tbody>\n",
       "    <tr>\n",
       "      <th>2048565</th>\n",
       "      <td>j</td>\n",
       "      <td>258925000</td>\n",
       "      <td>30/07/2009</td>\n",
       "      <td>40</td>\n",
       "      <td>coof</td>\n",
       "      <td>0</td>\n",
       "      <td>6</td>\n",
       "      <td>1</td>\n",
       "      <td>0</td>\n",
       "      <td>0</td>\n",
       "      <td>0</td>\n",
       "      <td>0</td>\n",
       "      <td>0</td>\n",
       "      <td>0.0</td>\n",
       "      <td>inf</td>\n",
       "    </tr>\n",
       "    <tr>\n",
       "      <th>2048568</th>\n",
       "      <td>j</td>\n",
       "      <td>258925000</td>\n",
       "      <td>03/12/2009</td>\n",
       "      <td>40</td>\n",
       "      <td>coof</td>\n",
       "      <td>5</td>\n",
       "      <td>6</td>\n",
       "      <td>1</td>\n",
       "      <td>0</td>\n",
       "      <td>0</td>\n",
       "      <td>0</td>\n",
       "      <td>0</td>\n",
       "      <td>0</td>\n",
       "      <td>0.0</td>\n",
       "      <td>inf</td>\n",
       "    </tr>\n",
       "    <tr>\n",
       "      <th>2051799</th>\n",
       "      <td>j</td>\n",
       "      <td>258925200</td>\n",
       "      <td>30/07/2009</td>\n",
       "      <td>40</td>\n",
       "      <td>cof</td>\n",
       "      <td>0</td>\n",
       "      <td>6</td>\n",
       "      <td>1</td>\n",
       "      <td>0</td>\n",
       "      <td>0</td>\n",
       "      <td>0</td>\n",
       "      <td>0</td>\n",
       "      <td>0</td>\n",
       "      <td>0.0</td>\n",
       "      <td>inf</td>\n",
       "    </tr>\n",
       "    <tr>\n",
       "      <th>2051801</th>\n",
       "      <td>j</td>\n",
       "      <td>258925200</td>\n",
       "      <td>05/04/2010</td>\n",
       "      <td>40</td>\n",
       "      <td>cof</td>\n",
       "      <td>0</td>\n",
       "      <td>6</td>\n",
       "      <td>1</td>\n",
       "      <td>0</td>\n",
       "      <td>0</td>\n",
       "      <td>0</td>\n",
       "      <td>0</td>\n",
       "      <td>0</td>\n",
       "      <td>0.0</td>\n",
       "      <td>inf</td>\n",
       "    </tr>\n",
       "    <tr>\n",
       "      <th>2051803</th>\n",
       "      <td>j</td>\n",
       "      <td>258925200</td>\n",
       "      <td>28/07/2010</td>\n",
       "      <td>40</td>\n",
       "      <td>cof</td>\n",
       "      <td>0</td>\n",
       "      <td>6</td>\n",
       "      <td>1</td>\n",
       "      <td>0</td>\n",
       "      <td>0</td>\n",
       "      <td>0</td>\n",
       "      <td>0</td>\n",
       "      <td>0</td>\n",
       "      <td>0.0</td>\n",
       "      <td>inf</td>\n",
       "    </tr>\n",
       "  </tbody>\n",
       "</table>\n",
       "</div>"
      ],
      "text/plain": [
       "        counter_number  client_id  ... months_number consumption_per_month\n",
       "2048565              j  258925000  ...           0.0                   inf\n",
       "2048568              j  258925000  ...           0.0                   inf\n",
       "2051799              j  258925200  ...           0.0                   inf\n",
       "2051801              j  258925200  ...           0.0                   inf\n",
       "2051803              j  258925200  ...           0.0                   inf\n",
       "\n",
       "[5 rows x 15 columns]"
      ]
     },
     "execution_count": 16,
     "metadata": {
      "tags": []
     },
     "output_type": "execute_result"
    }
   ],
   "source": [
    "con[con['consumption_per_month']==np.inf].head()"
   ]
  },
  {
   "cell_type": "code",
   "execution_count": 0,
   "metadata": {
    "colab": {},
    "colab_type": "code",
    "id": "ndHEJ-BNxDYX"
   },
   "outputs": [],
   "source": [
    "con = con.set_index('counter_number')\n",
    "con.drop(con[con['consumption_per_month']==np.inf].index,inplace=True)\n",
    "con.reset_index(inplace=True)"
   ]
  },
  {
   "cell_type": "markdown",
   "metadata": {
    "colab_type": "text",
    "id": "mV5dnv2nvWzd"
   },
   "source": [
    "**Creation de colonne pour indiquer le niveau de consommation**"
   ]
  },
  {
   "cell_type": "code",
   "execution_count": 0,
   "metadata": {
    "colab": {},
    "colab_type": "code",
    "id": "0rZ8ThKWvXAI"
   },
   "outputs": [],
   "source": [
    "con['consommation_level_1']=1\n",
    "con['consommation_level_2']=(con['consommation_level_2'].astype('float')>0.0).astype('int')\n",
    "con['consommation_level_3']=(con['consommation_level_3'].astype('float')>0.0).astype('int')\n",
    "con['consommation_level_4']=(con['consommation_level_4'].astype('float')>0.0).astype('int')\n",
    "con['level'] = con[['consommation_level_1','consommation_level_2','consommation_level_3','consommation_level_4']].sum(axis=1)"
   ]
  },
  {
   "cell_type": "code",
   "execution_count": 0,
   "metadata": {
    "colab": {},
    "colab_type": "code",
    "id": "RP2D3RrvFzH-"
   },
   "outputs": [],
   "source": [
    "con.drop(['consommation_level_1','consommation_level_2','consommation_level_3','consommation_level_4','counter_type','old_index','new_index'],1,inplace=True)"
   ]
  },
  {
   "cell_type": "markdown",
   "metadata": {
    "colab_type": "text",
    "id": "V4c1ksJbxeno"
   },
   "source": [
    "En réalité, les fraudes dans les compteurs de gaz sont très rares donc nous nous sommes concentrés sur les fraudes de l'éléctricité."
   ]
  },
  {
   "cell_type": "code",
   "execution_count": 0,
   "metadata": {
    "colab": {},
    "colab_type": "code",
    "id": "TpCmQRaNLbhz"
   },
   "outputs": [],
   "source": [
    "#Les compteurs de gaz sont indiqués par un tarif > 29\n",
    "\n",
    "con['is_Gaz'] = (con['Tarif'].astype('float')>29).astype('int')\n",
    "con.drop(con[con['is_Gaz']==1].index,inplace=True) \n",
    "con.drop('is_Gaz',1,inplace=True)"
   ]
  },
  {
   "cell_type": "markdown",
   "metadata": {
    "colab_type": "text",
    "id": "CI9Y4kBfyILb"
   },
   "source": [
    "**Générer des nouveaux features à partir de la date de la dernière facture**"
   ]
  },
  {
   "cell_type": "code",
   "execution_count": 0,
   "metadata": {
    "colab": {},
    "colab_type": "code",
    "id": "ZuiYof6ZL7Y8"
   },
   "outputs": [],
   "source": [
    "con['invoice_date'] = pd.to_datetime(con['invoice_date'])\n",
    "\n",
    "con['year'] = con['invoice_date'].dt.year\n",
    "con['month'] = con['invoice_date'].dt.month\n",
    "con['quarter'] = con['invoice_date'].dt.quarter"
   ]
  },
  {
   "cell_type": "markdown",
   "metadata": {
    "colab_type": "text",
    "id": "HEcE6apFzCI2"
   },
   "source": [
    "**Un coup d'oeil sur les valeurs manquantes**"
   ]
  },
  {
   "cell_type": "code",
   "execution_count": 22,
   "metadata": {
    "colab": {
     "base_uri": "https://localhost:8080/",
     "height": 238
    },
    "colab_type": "code",
    "id": "lKxKpOT9T4Im",
    "outputId": "a218647d-50cc-434b-d265-6228c9eeb994"
   },
   "outputs": [
    {
     "data": {
      "text/plain": [
       "counter_number             28\n",
       "client_id                   0\n",
       "invoice_date                0\n",
       "Tarif                       0\n",
       "counter_statue             28\n",
       "counter_coefficient        28\n",
       "months_number            1728\n",
       "consumption_per_month    1728\n",
       "level                       0\n",
       "year                        0\n",
       "month                       0\n",
       "quarter                     0\n",
       "dtype: int64"
      ]
     },
     "execution_count": 22,
     "metadata": {
      "tags": []
     },
     "output_type": "execute_result"
    }
   ],
   "source": [
    "#valeurs manquantes dans la dataset de consommation\n",
    "con.isnull().sum()"
   ]
  },
  {
   "cell_type": "code",
   "execution_count": 0,
   "metadata": {
    "colab": {},
    "colab_type": "code",
    "id": "xuJCMt19MD5u"
   },
   "outputs": [],
   "source": [
    "#se débarasser des colonnes où il manque le nombre des compteurs\n",
    "con = con.drop(con[con['counter_number'].isnull()].index)"
   ]
  },
  {
   "cell_type": "code",
   "execution_count": 0,
   "metadata": {
    "colab": {},
    "colab_type": "code",
    "id": "0RwVY6BTlcx9"
   },
   "outputs": [],
   "source": [
    "#invoice_date dans un ordre chronoligique\n",
    "con = con.sort_values('invoice_date')"
   ]
  },
  {
   "cell_type": "code",
   "execution_count": 0,
   "metadata": {
    "colab": {},
    "colab_type": "code",
    "id": "X8SzwJZKMHmd"
   },
   "outputs": [],
   "source": [
    "#conversion du type object vers str (meilleure manipulation)\n",
    "\n",
    "con['counter_number'] = con['counter_number'].astype(str)\n",
    "client['client_id'] = client['client_id'].astype(str) \n",
    "con['counter_number'] = con['counter_number'].astype(str)"
   ]
  },
  {
   "cell_type": "code",
   "execution_count": 26,
   "metadata": {
    "colab": {
     "base_uri": "https://localhost:8080/",
     "height": 51
    },
    "colab_type": "code",
    "id": "9-8D0lWsz6m8",
    "outputId": "65fefa6c-4c2f-4e95-9cab-4ebffd996da5"
   },
   "outputs": [
    {
     "name": "stdout",
     "output_type": "stream",
     "text": [
      "686576\n",
      "116076\n"
     ]
    }
   ],
   "source": [
    "print(client['client_id'].nunique())\n",
    "print(con['client_id'].nunique())"
   ]
  },
  {
   "cell_type": "markdown",
   "metadata": {
    "colab_type": "text",
    "id": "j3Eu2xs50IUk"
   },
   "source": [
    "On constate que dans la dataset des clients il y a beaucoup plus de clients que dans la dataset des consommations des clients. Donc on n'a pas l'historique de consommation de tous les clients."
   ]
  },
  {
   "cell_type": "code",
   "execution_count": 0,
   "metadata": {
    "colab": {},
    "colab_type": "code",
    "id": "5U1o7fDQMaLL"
   },
   "outputs": [],
   "source": [
    "client = client.set_index('client_id') \n",
    "client = client.loc[con['client_id'].unique(),:]"
   ]
  },
  {
   "cell_type": "code",
   "execution_count": 28,
   "metadata": {
    "colab": {
     "base_uri": "https://localhost:8080/",
     "height": 235
    },
    "colab_type": "code",
    "id": "wYrzS37wUlV-",
    "outputId": "0968510e-8ac4-442f-8beb-1a49010dfe8b"
   },
   "outputs": [
    {
     "data": {
      "text/html": [
       "<div>\n",
       "<style scoped>\n",
       "    .dataframe tbody tr th:only-of-type {\n",
       "        vertical-align: middle;\n",
       "    }\n",
       "\n",
       "    .dataframe tbody tr th {\n",
       "        vertical-align: top;\n",
       "    }\n",
       "\n",
       "    .dataframe thead th {\n",
       "        text-align: right;\n",
       "    }\n",
       "</style>\n",
       "<table border=\"1\" class=\"dataframe\">\n",
       "  <thead>\n",
       "    <tr style=\"text-align: right;\">\n",
       "      <th></th>\n",
       "      <th>district</th>\n",
       "      <th>client_catg</th>\n",
       "      <th>region</th>\n",
       "      <th>creation</th>\n",
       "      <th>Fraud</th>\n",
       "    </tr>\n",
       "    <tr>\n",
       "      <th>client_id</th>\n",
       "      <th></th>\n",
       "      <th></th>\n",
       "      <th></th>\n",
       "      <th></th>\n",
       "      <th></th>\n",
       "    </tr>\n",
       "  </thead>\n",
       "  <tbody>\n",
       "    <tr>\n",
       "      <th>001235600</th>\n",
       "      <td>60</td>\n",
       "      <td>11</td>\n",
       "      <td>0101</td>\n",
       "      <td>0</td>\n",
       "      <td>None</td>\n",
       "    </tr>\n",
       "    <tr>\n",
       "      <th>001166361</th>\n",
       "      <td>60</td>\n",
       "      <td>11</td>\n",
       "      <td>0101</td>\n",
       "      <td>0</td>\n",
       "      <td>None</td>\n",
       "    </tr>\n",
       "    <tr>\n",
       "      <th>001298400</th>\n",
       "      <td>60</td>\n",
       "      <td>11</td>\n",
       "      <td>0101</td>\n",
       "      <td>0</td>\n",
       "      <td>None</td>\n",
       "    </tr>\n",
       "    <tr>\n",
       "      <th>001024230</th>\n",
       "      <td>60</td>\n",
       "      <td>11</td>\n",
       "      <td>0101</td>\n",
       "      <td>0</td>\n",
       "      <td>None</td>\n",
       "    </tr>\n",
       "    <tr>\n",
       "      <th>001831120</th>\n",
       "      <td>60</td>\n",
       "      <td>11</td>\n",
       "      <td>0101</td>\n",
       "      <td>0</td>\n",
       "      <td>None</td>\n",
       "    </tr>\n",
       "  </tbody>\n",
       "</table>\n",
       "</div>"
      ],
      "text/plain": [
       "          district client_catg region creation Fraud\n",
       "client_id                                           \n",
       "001235600       60          11   0101        0  None\n",
       "001166361       60          11   0101        0  None\n",
       "001298400       60          11   0101        0  None\n",
       "001024230       60          11   0101        0  None\n",
       "001831120       60          11   0101        0  None"
      ]
     },
     "execution_count": 28,
     "metadata": {
      "tags": []
     },
     "output_type": "execute_result"
    }
   ],
   "source": [
    "client.head()"
   ]
  },
  {
   "cell_type": "code",
   "execution_count": 29,
   "metadata": {
    "colab": {
     "base_uri": "https://localhost:8080/",
     "height": 102
    },
    "colab_type": "code",
    "id": "OzFp3PK-5met",
    "outputId": "22459ce3-447c-4781-bb55-9b70d3c684a5"
   },
   "outputs": [
    {
     "data": {
      "text/plain": [
       "0    98932\n",
       "1     2554\n",
       "2       14\n",
       "3        6\n",
       "Name: Fraud, dtype: int64"
      ]
     },
     "execution_count": 29,
     "metadata": {
      "tags": []
     },
     "output_type": "execute_result"
    }
   ],
   "source": [
    "client.Fraud.value_counts()"
   ]
  },
  {
   "cell_type": "markdown",
   "metadata": {
    "colab_type": "text",
    "id": "DnJaC9ml5TI7"
   },
   "source": [
    "On constate que dans la dataset des clients nous avons des valeurs manquantes ainsi que des valeurs aberrantes dans le champs 'Fraud' qui indique une consommation fradulente ou pas. Ces valeurs sont à éliminer."
   ]
  },
  {
   "cell_type": "code",
   "execution_count": 0,
   "metadata": {
    "colab": {},
    "colab_type": "code",
    "id": "Z5QxVkBSOFaN"
   },
   "outputs": [],
   "source": [
    "client.drop(client[client['Fraud'].isnull()].index,inplace=True)"
   ]
  },
  {
   "cell_type": "code",
   "execution_count": 0,
   "metadata": {
    "colab": {},
    "colab_type": "code",
    "id": "eM9aXzIM6WY5"
   },
   "outputs": [],
   "source": [
    "client['Fraud'] = client['Fraud'].astype('int')\n",
    "client = client[client['Fraud']<2]"
   ]
  },
  {
   "cell_type": "markdown",
   "metadata": {
    "colab_type": "text",
    "id": "0av7lBvL6_bR"
   },
   "source": [
    "**Le nombre de compteurs de chaque clients**"
   ]
  },
  {
   "cell_type": "code",
   "execution_count": 0,
   "metadata": {
    "colab": {},
    "colab_type": "code",
    "id": "Vtyuc5pDM_OB"
   },
   "outputs": [],
   "source": [
    "def how_many_counter(x) : \n",
    "  return len(set(x)) \n",
    "\n",
    "new = con.groupby('client_id')['counter_number'].agg([how_many_counter])\n",
    "client = pd.merge(client,new, how = 'left',on = 'client_id')"
   ]
  },
  {
   "cell_type": "markdown",
   "metadata": {
    "colab_type": "text",
    "id": "xyFq5I-m7djH"
   },
   "source": [
    "**Un coup d'oeil sur la distribution des nombres de compteurs pour les clients**"
   ]
  },
  {
   "cell_type": "code",
   "execution_count": 33,
   "metadata": {
    "colab": {
     "base_uri": "https://localhost:8080/",
     "height": 514
    },
    "colab_type": "code",
    "id": "XSSPcvhnfkkg",
    "outputId": "5dab7e52-40ca-423e-f327-e11c45ac9cfc"
   },
   "outputs": [
    {
     "data": {
      "image/png": "[encoded data removed]",
      "text/plain": [
       "<Figure size 1296x576 with 2 Axes>"
      ]
     },
     "metadata": {
      "needs_background": "light",
      "tags": []
     },
     "output_type": "display_data"
    }
   ],
   "source": [
    "f,ax=plt.subplots(1,2,figsize=(18,8))\n",
    "client[['how_many_counter','Fraud']].groupby(['how_many_counter']).mean().plot.bar(ax=ax[0])\n",
    "ax[0].set_title('Nombre de compteurs et Fraud')\n",
    "sns.countplot('how_many_counter',hue='Fraud',data=client,ax=ax[1])\n",
    "ax[1].set_title('Nombre des compteurs : Fraud vs Non Fraud')\n",
    "plt.show()"
   ]
  },
  {
   "cell_type": "markdown",
   "metadata": {
    "colab_type": "text",
    "id": "MMHG9W3I7p8a"
   },
   "source": [
    "Malgré que les figures ci dessus montrent que la probabilité de fraud chez un client possedant un seul compteur est la plus faible. On ne va garder que ces clients là (avec un seul compteur). Enfait, la recherche de fraud va se faire par compteur et non pas par client car si un client possède plus qu'un compteur et il est fraudeur, on ne peut pas déterminer si la fraude se passe sur un ou plusieurs compteurs."
   ]
  },
  {
   "cell_type": "code",
   "execution_count": 0,
   "metadata": {
    "colab": {},
    "colab_type": "code",
    "id": "KbQ4EVfshlQ8"
   },
   "outputs": [],
   "source": [
    "client = client[client['how_many_counter']==1]"
   ]
  },
  {
   "cell_type": "code",
   "execution_count": 35,
   "metadata": {
    "colab": {
     "base_uri": "https://localhost:8080/",
     "height": 34
    },
    "colab_type": "code",
    "id": "WVqMiSdzOkr2",
    "outputId": "ba3e0e11-cde6-4136-c3fe-14819c56265e"
   },
   "outputs": [
    {
     "data": {
      "text/plain": [
       "0"
      ]
     },
     "execution_count": 35,
     "metadata": {
      "tags": []
     },
     "output_type": "execute_result"
    }
   ],
   "source": [
    "gc.collect()"
   ]
  },
  {
   "cell_type": "code",
   "execution_count": 36,
   "metadata": {
    "colab": {
     "base_uri": "https://localhost:8080/",
     "height": 51
    },
    "colab_type": "code",
    "id": "0qylL5IlhoN8",
    "outputId": "c509fb57-d38c-4f0c-b5b6-ffeb35e31dbb"
   },
   "outputs": [
    {
     "name": "stdout",
     "output_type": "stream",
     "text": [
      "84104\n",
      "116076\n"
     ]
    }
   ],
   "source": [
    "print(client.index.nunique())\n",
    "print(con['client_id'].nunique())"
   ]
  },
  {
   "cell_type": "markdown",
   "metadata": {
    "colab_type": "text",
    "id": "u_XMqCRd8YhM"
   },
   "source": [
    "En gradeant que les clients possèdant un seul compteur dans la dataset des clients, on garde que ces mêmes clients dans la dataset des consommations pour faire la correspondance."
   ]
  },
  {
   "cell_type": "code",
   "execution_count": 0,
   "metadata": {
    "colab": {},
    "colab_type": "code",
    "id": "mxF6uLpeOmsy"
   },
   "outputs": [],
   "source": [
    "con = con.set_index('client_id') \n",
    "con = con.loc[client.index , : ]"
   ]
  },
  {
   "cell_type": "code",
   "execution_count": 0,
   "metadata": {
    "colab": {},
    "colab_type": "code",
    "id": "fk-LEZjnOrcp"
   },
   "outputs": [],
   "source": [
    "con.reset_index(inplace = True)"
   ]
  },
  {
   "cell_type": "markdown",
   "metadata": {
    "colab_type": "text",
    "id": "OD-CNER5O29I"
   },
   "source": [
    "#Preparation de la data pour la partie Machine Learning"
   ]
  },
  {
   "cell_type": "code",
   "execution_count": 39,
   "metadata": {
    "colab": {
     "base_uri": "https://localhost:8080/",
     "height": 68
    },
    "colab_type": "code",
    "id": "uh0lmUFfWpsq",
    "outputId": "c0073b3e-da76-4367-bd78-0358d5ea887c"
   },
   "outputs": [
    {
     "data": {
      "text/plain": [
       "client_id         84104\n",
       "counter_number    69687\n",
       "dtype: int64"
      ]
     },
     "execution_count": 39,
     "metadata": {
      "tags": []
     },
     "output_type": "execute_result"
    }
   ],
   "source": [
    "con[['client_id','counter_number']].nunique()"
   ]
  },
  {
   "cell_type": "markdown",
   "metadata": {
    "colab_type": "text",
    "id": "roirnlCSsHAj"
   },
   "source": [
    "On va supprimer les lignes dupliquées pour pouvoir affecter à chaque client le numéro de son compteur dans la base de données des clients"
   ]
  },
  {
   "cell_type": "code",
   "execution_count": 0,
   "metadata": {
    "colab": {},
    "colab_type": "code",
    "id": "SuZd3ekYO5zR"
   },
   "outputs": [],
   "source": [
    "fix_con = con[['client_id','counter_number']].drop_duplicates() \n",
    "fix_con.set_index('client_id',inplace = True )\n",
    "client.loc[fix_con.index , \"counter_number\"] = fix_con"
   ]
  },
  {
   "cell_type": "code",
   "execution_count": 41,
   "metadata": {
    "colab": {
     "base_uri": "https://localhost:8080/",
     "height": 153
    },
    "colab_type": "code",
    "id": "lnVJtzwtXxTG",
    "outputId": "e468a779-07d3-4388-c5ef-c665d0b6efb2"
   },
   "outputs": [
    {
     "data": {
      "text/plain": [
       "district                4\n",
       "client_catg             3\n",
       "region                 13\n",
       "creation             6844\n",
       "Fraud                   2\n",
       "how_many_counter        1\n",
       "counter_number      69687\n",
       "dtype: int64"
      ]
     },
     "execution_count": 41,
     "metadata": {
      "tags": []
     },
     "output_type": "execute_result"
    }
   ],
   "source": [
    "client.nunique()"
   ]
  },
  {
   "cell_type": "code",
   "execution_count": 0,
   "metadata": {
    "colab": {},
    "colab_type": "code",
    "id": "FN9-iq4lO8bw"
   },
   "outputs": [],
   "source": [
    "client[['district','client_catg','region']] = client[['district','client_catg','region']].astype(int) \n",
    "client['creation'] = pd.to_datetime(client['creation'])"
   ]
  },
  {
   "cell_type": "code",
   "execution_count": 0,
   "metadata": {
    "colab": {},
    "colab_type": "code",
    "id": "AvUJQlh8ISp0"
   },
   "outputs": [],
   "source": [
    "client['end'] = con.groupby('client_id')['year'].agg({'max'})\n",
    "ML_client = client.copy()"
   ]
  },
  {
   "cell_type": "code",
   "execution_count": 0,
   "metadata": {
    "colab": {},
    "colab_type": "code",
    "id": "Pw8zLR8dIWKe"
   },
   "outputs": [],
   "source": [
    "ML_client.reset_index(inplace=True)"
   ]
  },
  {
   "cell_type": "code",
   "execution_count": 0,
   "metadata": {
    "colab": {},
    "colab_type": "code",
    "id": "v-ED0XkuYTKc"
   },
   "outputs": [],
   "source": [
    "con = con.set_index('client_id') \n",
    "con = con.loc[ML_client['client_id'].unique(),:]"
   ]
  },
  {
   "cell_type": "code",
   "execution_count": 46,
   "metadata": {
    "colab": {
     "base_uri": "https://localhost:8080/",
     "height": 204
    },
    "colab_type": "code",
    "id": "8RqrPm5WJHG5",
    "outputId": "06bb23f2-62eb-444f-c761-4339225c6148"
   },
   "outputs": [
    {
     "data": {
      "text/html": [
       "<div>\n",
       "<style scoped>\n",
       "    .dataframe tbody tr th:only-of-type {\n",
       "        vertical-align: middle;\n",
       "    }\n",
       "\n",
       "    .dataframe tbody tr th {\n",
       "        vertical-align: top;\n",
       "    }\n",
       "\n",
       "    .dataframe thead th {\n",
       "        text-align: right;\n",
       "    }\n",
       "</style>\n",
       "<table border=\"1\" class=\"dataframe\">\n",
       "  <thead>\n",
       "    <tr style=\"text-align: right;\">\n",
       "      <th></th>\n",
       "      <th>client_id</th>\n",
       "      <th>district</th>\n",
       "      <th>client_catg</th>\n",
       "      <th>region</th>\n",
       "      <th>creation</th>\n",
       "      <th>Fraud</th>\n",
       "      <th>how_many_counter</th>\n",
       "      <th>counter_number</th>\n",
       "      <th>end</th>\n",
       "      <th>mean_consumption</th>\n",
       "    </tr>\n",
       "  </thead>\n",
       "  <tbody>\n",
       "    <tr>\n",
       "      <th>0</th>\n",
       "      <td>254102051</td>\n",
       "      <td>62</td>\n",
       "      <td>11</td>\n",
       "      <td>301</td>\n",
       "      <td>1977-05-25</td>\n",
       "      <td>0</td>\n",
       "      <td>1</td>\n",
       "      <td>8512846</td>\n",
       "      <td>1978</td>\n",
       "      <td>23.666667</td>\n",
       "    </tr>\n",
       "    <tr>\n",
       "      <th>1</th>\n",
       "      <td>253402200</td>\n",
       "      <td>62</td>\n",
       "      <td>11</td>\n",
       "      <td>301</td>\n",
       "      <td>1978-03-01</td>\n",
       "      <td>0</td>\n",
       "      <td>1</td>\n",
       "      <td>8501916</td>\n",
       "      <td>1979</td>\n",
       "      <td>134.800000</td>\n",
       "    </tr>\n",
       "    <tr>\n",
       "      <th>2</th>\n",
       "      <td>217932640</td>\n",
       "      <td>69</td>\n",
       "      <td>11</td>\n",
       "      <td>105</td>\n",
       "      <td>1978-10-24</td>\n",
       "      <td>0</td>\n",
       "      <td>1</td>\n",
       "      <td>814057</td>\n",
       "      <td>1979</td>\n",
       "      <td>13.166667</td>\n",
       "    </tr>\n",
       "    <tr>\n",
       "      <th>3</th>\n",
       "      <td>253446700</td>\n",
       "      <td>62</td>\n",
       "      <td>11</td>\n",
       "      <td>301</td>\n",
       "      <td>1977-08-11</td>\n",
       "      <td>0</td>\n",
       "      <td>1</td>\n",
       "      <td>8502044</td>\n",
       "      <td>1978</td>\n",
       "      <td>36.750000</td>\n",
       "    </tr>\n",
       "    <tr>\n",
       "      <th>4</th>\n",
       "      <td>256224200</td>\n",
       "      <td>62</td>\n",
       "      <td>11</td>\n",
       "      <td>301</td>\n",
       "      <td>1977-11-10</td>\n",
       "      <td>0</td>\n",
       "      <td>1</td>\n",
       "      <td>7991162</td>\n",
       "      <td>1979</td>\n",
       "      <td>32.333333</td>\n",
       "    </tr>\n",
       "  </tbody>\n",
       "</table>\n",
       "</div>"
      ],
      "text/plain": [
       "   client_id  district  client_catg  ...  counter_number   end  mean_consumption\n",
       "0  254102051        62           11  ...         8512846  1978         23.666667\n",
       "1  253402200        62           11  ...         8501916  1979        134.800000\n",
       "2  217932640        69           11  ...          814057  1979         13.166667\n",
       "3  253446700        62           11  ...         8502044  1978         36.750000\n",
       "4  256224200        62           11  ...         7991162  1979         32.333333\n",
       "\n",
       "[5 rows x 10 columns]"
      ]
     },
     "execution_count": 46,
     "metadata": {
      "tags": []
     },
     "output_type": "execute_result"
    }
   ],
   "source": [
    "new = con.groupby('client_id')['consumption_per_month'].agg({\"mean\"})\n",
    "new.columns = ['mean_consumption']\n",
    "ML_client = pd.merge(ML_client,new , how ='left' , on ='client_id' )\n",
    "ML_client.head()"
   ]
  },
  {
   "cell_type": "code",
   "execution_count": 47,
   "metadata": {
    "colab": {
     "base_uri": "https://localhost:8080/",
     "height": 204
    },
    "colab_type": "code",
    "id": "8jW5wZhxJLOi",
    "outputId": "4f7018c4-18d2-41af-cf65-2b6482dc181f"
   },
   "outputs": [
    {
     "data": {
      "text/html": [
       "<div>\n",
       "<style scoped>\n",
       "    .dataframe tbody tr th:only-of-type {\n",
       "        vertical-align: middle;\n",
       "    }\n",
       "\n",
       "    .dataframe tbody tr th {\n",
       "        vertical-align: top;\n",
       "    }\n",
       "\n",
       "    .dataframe thead th {\n",
       "        text-align: right;\n",
       "    }\n",
       "</style>\n",
       "<table border=\"1\" class=\"dataframe\">\n",
       "  <thead>\n",
       "    <tr style=\"text-align: right;\">\n",
       "      <th></th>\n",
       "      <th>client_id</th>\n",
       "      <th>district</th>\n",
       "      <th>client_catg</th>\n",
       "      <th>region</th>\n",
       "      <th>creation</th>\n",
       "      <th>Fraud</th>\n",
       "      <th>how_many_counter</th>\n",
       "      <th>counter_number</th>\n",
       "      <th>end</th>\n",
       "      <th>mean_consumption</th>\n",
       "      <th>min_consumption</th>\n",
       "    </tr>\n",
       "  </thead>\n",
       "  <tbody>\n",
       "    <tr>\n",
       "      <th>0</th>\n",
       "      <td>254102051</td>\n",
       "      <td>62</td>\n",
       "      <td>11</td>\n",
       "      <td>301</td>\n",
       "      <td>1977-05-25</td>\n",
       "      <td>0</td>\n",
       "      <td>1</td>\n",
       "      <td>8512846</td>\n",
       "      <td>1978</td>\n",
       "      <td>23.666667</td>\n",
       "      <td>1.5</td>\n",
       "    </tr>\n",
       "    <tr>\n",
       "      <th>1</th>\n",
       "      <td>253402200</td>\n",
       "      <td>62</td>\n",
       "      <td>11</td>\n",
       "      <td>301</td>\n",
       "      <td>1978-03-01</td>\n",
       "      <td>0</td>\n",
       "      <td>1</td>\n",
       "      <td>8501916</td>\n",
       "      <td>1979</td>\n",
       "      <td>134.800000</td>\n",
       "      <td>125.5</td>\n",
       "    </tr>\n",
       "    <tr>\n",
       "      <th>2</th>\n",
       "      <td>217932640</td>\n",
       "      <td>69</td>\n",
       "      <td>11</td>\n",
       "      <td>105</td>\n",
       "      <td>1978-10-24</td>\n",
       "      <td>0</td>\n",
       "      <td>1</td>\n",
       "      <td>814057</td>\n",
       "      <td>1979</td>\n",
       "      <td>13.166667</td>\n",
       "      <td>0.0</td>\n",
       "    </tr>\n",
       "    <tr>\n",
       "      <th>3</th>\n",
       "      <td>253446700</td>\n",
       "      <td>62</td>\n",
       "      <td>11</td>\n",
       "      <td>301</td>\n",
       "      <td>1977-08-11</td>\n",
       "      <td>0</td>\n",
       "      <td>1</td>\n",
       "      <td>8502044</td>\n",
       "      <td>1978</td>\n",
       "      <td>36.750000</td>\n",
       "      <td>25.5</td>\n",
       "    </tr>\n",
       "    <tr>\n",
       "      <th>4</th>\n",
       "      <td>256224200</td>\n",
       "      <td>62</td>\n",
       "      <td>11</td>\n",
       "      <td>301</td>\n",
       "      <td>1977-11-10</td>\n",
       "      <td>0</td>\n",
       "      <td>1</td>\n",
       "      <td>7991162</td>\n",
       "      <td>1979</td>\n",
       "      <td>32.333333</td>\n",
       "      <td>15.5</td>\n",
       "    </tr>\n",
       "  </tbody>\n",
       "</table>\n",
       "</div>"
      ],
      "text/plain": [
       "   client_id  district  client_catg  ...   end mean_consumption  min_consumption\n",
       "0  254102051        62           11  ...  1978        23.666667              1.5\n",
       "1  253402200        62           11  ...  1979       134.800000            125.5\n",
       "2  217932640        69           11  ...  1979        13.166667              0.0\n",
       "3  253446700        62           11  ...  1978        36.750000             25.5\n",
       "4  256224200        62           11  ...  1979        32.333333             15.5\n",
       "\n",
       "[5 rows x 11 columns]"
      ]
     },
     "execution_count": 47,
     "metadata": {
      "tags": []
     },
     "output_type": "execute_result"
    }
   ],
   "source": [
    "new = con.groupby('client_id')['consumption_per_month'].agg({\"min\"})\n",
    "new.columns = ['min_consumption']\n",
    "ML_client = pd.merge(ML_client,new , how ='left' , on ='client_id' )\n",
    "ML_client.head()"
   ]
  },
  {
   "cell_type": "code",
   "execution_count": 48,
   "metadata": {
    "colab": {
     "base_uri": "https://localhost:8080/",
     "height": 204
    },
    "colab_type": "code",
    "id": "d8uNrCImJ5UC",
    "outputId": "fd0e1e43-e818-4f19-dfda-fcb99143d1a1"
   },
   "outputs": [
    {
     "data": {
      "text/html": [
       "<div>\n",
       "<style scoped>\n",
       "    .dataframe tbody tr th:only-of-type {\n",
       "        vertical-align: middle;\n",
       "    }\n",
       "\n",
       "    .dataframe tbody tr th {\n",
       "        vertical-align: top;\n",
       "    }\n",
       "\n",
       "    .dataframe thead th {\n",
       "        text-align: right;\n",
       "    }\n",
       "</style>\n",
       "<table border=\"1\" class=\"dataframe\">\n",
       "  <thead>\n",
       "    <tr style=\"text-align: right;\">\n",
       "      <th></th>\n",
       "      <th>client_id</th>\n",
       "      <th>district</th>\n",
       "      <th>client_catg</th>\n",
       "      <th>region</th>\n",
       "      <th>creation</th>\n",
       "      <th>Fraud</th>\n",
       "      <th>how_many_counter</th>\n",
       "      <th>counter_number</th>\n",
       "      <th>end</th>\n",
       "      <th>mean_consumption</th>\n",
       "      <th>min_consumption</th>\n",
       "      <th>std_consumption</th>\n",
       "    </tr>\n",
       "  </thead>\n",
       "  <tbody>\n",
       "    <tr>\n",
       "      <th>0</th>\n",
       "      <td>254102051</td>\n",
       "      <td>62</td>\n",
       "      <td>11</td>\n",
       "      <td>301</td>\n",
       "      <td>1977-05-25</td>\n",
       "      <td>0</td>\n",
       "      <td>1</td>\n",
       "      <td>8512846</td>\n",
       "      <td>1978</td>\n",
       "      <td>23.666667</td>\n",
       "      <td>1.5</td>\n",
       "      <td>19.470062</td>\n",
       "    </tr>\n",
       "    <tr>\n",
       "      <th>1</th>\n",
       "      <td>253402200</td>\n",
       "      <td>62</td>\n",
       "      <td>11</td>\n",
       "      <td>301</td>\n",
       "      <td>1978-03-01</td>\n",
       "      <td>0</td>\n",
       "      <td>1</td>\n",
       "      <td>8501916</td>\n",
       "      <td>1979</td>\n",
       "      <td>134.800000</td>\n",
       "      <td>125.5</td>\n",
       "      <td>9.915896</td>\n",
       "    </tr>\n",
       "    <tr>\n",
       "      <th>2</th>\n",
       "      <td>217932640</td>\n",
       "      <td>69</td>\n",
       "      <td>11</td>\n",
       "      <td>105</td>\n",
       "      <td>1978-10-24</td>\n",
       "      <td>0</td>\n",
       "      <td>1</td>\n",
       "      <td>814057</td>\n",
       "      <td>1979</td>\n",
       "      <td>13.166667</td>\n",
       "      <td>0.0</td>\n",
       "      <td>19.444365</td>\n",
       "    </tr>\n",
       "    <tr>\n",
       "      <th>3</th>\n",
       "      <td>253446700</td>\n",
       "      <td>62</td>\n",
       "      <td>11</td>\n",
       "      <td>301</td>\n",
       "      <td>1977-08-11</td>\n",
       "      <td>0</td>\n",
       "      <td>1</td>\n",
       "      <td>8502044</td>\n",
       "      <td>1978</td>\n",
       "      <td>36.750000</td>\n",
       "      <td>25.5</td>\n",
       "      <td>15.909903</td>\n",
       "    </tr>\n",
       "    <tr>\n",
       "      <th>4</th>\n",
       "      <td>256224200</td>\n",
       "      <td>62</td>\n",
       "      <td>11</td>\n",
       "      <td>301</td>\n",
       "      <td>1977-11-10</td>\n",
       "      <td>0</td>\n",
       "      <td>1</td>\n",
       "      <td>7991162</td>\n",
       "      <td>1979</td>\n",
       "      <td>32.333333</td>\n",
       "      <td>15.5</td>\n",
       "      <td>19.093629</td>\n",
       "    </tr>\n",
       "  </tbody>\n",
       "</table>\n",
       "</div>"
      ],
      "text/plain": [
       "   client_id  district  ...  min_consumption  std_consumption\n",
       "0  254102051        62  ...              1.5        19.470062\n",
       "1  253402200        62  ...            125.5         9.915896\n",
       "2  217932640        69  ...              0.0        19.444365\n",
       "3  253446700        62  ...             25.5        15.909903\n",
       "4  256224200        62  ...             15.5        19.093629\n",
       "\n",
       "[5 rows x 12 columns]"
      ]
     },
     "execution_count": 48,
     "metadata": {
      "tags": []
     },
     "output_type": "execute_result"
    }
   ],
   "source": [
    "new = con.groupby('client_id')['consumption_per_month'].agg({\"std\"})\n",
    "new.columns = ['std_consumption']\n",
    "ML_client = pd.merge(ML_client,new , how ='left' , on ='client_id' )\n",
    "ML_client.head()"
   ]
  },
  {
   "cell_type": "code",
   "execution_count": 0,
   "metadata": {
    "colab": {},
    "colab_type": "code",
    "id": "9rfJ5TpOJ7ln"
   },
   "outputs": [],
   "source": [
    "ML_client['Fraud'] = ML_client['Fraud'].astype('int')"
   ]
  },
  {
   "cell_type": "code",
   "execution_count": 50,
   "metadata": {
    "colab": {
     "base_uri": "https://localhost:8080/",
     "height": 309
    },
    "colab_type": "code",
    "id": "gyGNxExjJ-DG",
    "outputId": "bb72fd18-e64c-4c55-f988-5b50e6fd428e"
   },
   "outputs": [
    {
     "data": {
      "text/html": [
       "<div>\n",
       "<style scoped>\n",
       "    .dataframe tbody tr th:only-of-type {\n",
       "        vertical-align: middle;\n",
       "    }\n",
       "\n",
       "    .dataframe tbody tr th {\n",
       "        vertical-align: top;\n",
       "    }\n",
       "\n",
       "    .dataframe thead th {\n",
       "        text-align: right;\n",
       "    }\n",
       "</style>\n",
       "<table border=\"1\" class=\"dataframe\">\n",
       "  <thead>\n",
       "    <tr style=\"text-align: right;\">\n",
       "      <th></th>\n",
       "      <th>client_id</th>\n",
       "      <th>district</th>\n",
       "      <th>client_catg</th>\n",
       "      <th>region</th>\n",
       "      <th>creation</th>\n",
       "      <th>Fraud</th>\n",
       "      <th>how_many_counter</th>\n",
       "      <th>counter_number</th>\n",
       "      <th>end</th>\n",
       "      <th>mean_consumption</th>\n",
       "      <th>min_consumption</th>\n",
       "      <th>std_consumption</th>\n",
       "      <th>max_consumption</th>\n",
       "    </tr>\n",
       "  </thead>\n",
       "  <tbody>\n",
       "    <tr>\n",
       "      <th>0</th>\n",
       "      <td>254102051</td>\n",
       "      <td>62</td>\n",
       "      <td>11</td>\n",
       "      <td>301</td>\n",
       "      <td>1977-05-25</td>\n",
       "      <td>0</td>\n",
       "      <td>1</td>\n",
       "      <td>8512846</td>\n",
       "      <td>1978</td>\n",
       "      <td>23.666667</td>\n",
       "      <td>1.5</td>\n",
       "      <td>19.470062</td>\n",
       "      <td>38.0</td>\n",
       "    </tr>\n",
       "    <tr>\n",
       "      <th>1</th>\n",
       "      <td>253402200</td>\n",
       "      <td>62</td>\n",
       "      <td>11</td>\n",
       "      <td>301</td>\n",
       "      <td>1978-03-01</td>\n",
       "      <td>0</td>\n",
       "      <td>1</td>\n",
       "      <td>8501916</td>\n",
       "      <td>1979</td>\n",
       "      <td>134.800000</td>\n",
       "      <td>125.5</td>\n",
       "      <td>9.915896</td>\n",
       "      <td>148.5</td>\n",
       "    </tr>\n",
       "    <tr>\n",
       "      <th>2</th>\n",
       "      <td>217932640</td>\n",
       "      <td>69</td>\n",
       "      <td>11</td>\n",
       "      <td>105</td>\n",
       "      <td>1978-10-24</td>\n",
       "      <td>0</td>\n",
       "      <td>1</td>\n",
       "      <td>814057</td>\n",
       "      <td>1979</td>\n",
       "      <td>13.166667</td>\n",
       "      <td>0.0</td>\n",
       "      <td>19.444365</td>\n",
       "      <td>35.5</td>\n",
       "    </tr>\n",
       "    <tr>\n",
       "      <th>3</th>\n",
       "      <td>253446700</td>\n",
       "      <td>62</td>\n",
       "      <td>11</td>\n",
       "      <td>301</td>\n",
       "      <td>1977-08-11</td>\n",
       "      <td>0</td>\n",
       "      <td>1</td>\n",
       "      <td>8502044</td>\n",
       "      <td>1978</td>\n",
       "      <td>36.750000</td>\n",
       "      <td>25.5</td>\n",
       "      <td>15.909903</td>\n",
       "      <td>48.0</td>\n",
       "    </tr>\n",
       "    <tr>\n",
       "      <th>4</th>\n",
       "      <td>256224200</td>\n",
       "      <td>62</td>\n",
       "      <td>11</td>\n",
       "      <td>301</td>\n",
       "      <td>1977-11-10</td>\n",
       "      <td>0</td>\n",
       "      <td>1</td>\n",
       "      <td>7991162</td>\n",
       "      <td>1979</td>\n",
       "      <td>32.333333</td>\n",
       "      <td>15.5</td>\n",
       "      <td>19.093629</td>\n",
       "      <td>63.0</td>\n",
       "    </tr>\n",
       "  </tbody>\n",
       "</table>\n",
       "</div>"
      ],
      "text/plain": [
       "   client_id  district  ...  std_consumption  max_consumption\n",
       "0  254102051        62  ...        19.470062             38.0\n",
       "1  253402200        62  ...         9.915896            148.5\n",
       "2  217932640        69  ...        19.444365             35.5\n",
       "3  253446700        62  ...        15.909903             48.0\n",
       "4  256224200        62  ...        19.093629             63.0\n",
       "\n",
       "[5 rows x 13 columns]"
      ]
     },
     "execution_count": 50,
     "metadata": {
      "tags": []
     },
     "output_type": "execute_result"
    }
   ],
   "source": [
    "new = con.groupby('client_id')['consumption_per_month'].agg({\"max\"})\n",
    "new.columns = ['max_consumption']\n",
    "ML_client = pd.merge(ML_client,new , how ='left' , on ='client_id' )\n",
    "ML_client.head()"
   ]
  },
  {
   "cell_type": "code",
   "execution_count": 51,
   "metadata": {
    "colab": {
     "base_uri": "https://localhost:8080/",
     "height": 309
    },
    "colab_type": "code",
    "id": "4Kp1-0ICOeMn",
    "outputId": "a5d01c80-3cda-403c-a26b-02fbedc0aae5"
   },
   "outputs": [
    {
     "data": {
      "text/html": [
       "<div>\n",
       "<style scoped>\n",
       "    .dataframe tbody tr th:only-of-type {\n",
       "        vertical-align: middle;\n",
       "    }\n",
       "\n",
       "    .dataframe tbody tr th {\n",
       "        vertical-align: top;\n",
       "    }\n",
       "\n",
       "    .dataframe thead th {\n",
       "        text-align: right;\n",
       "    }\n",
       "</style>\n",
       "<table border=\"1\" class=\"dataframe\">\n",
       "  <thead>\n",
       "    <tr style=\"text-align: right;\">\n",
       "      <th></th>\n",
       "      <th>client_id</th>\n",
       "      <th>district</th>\n",
       "      <th>client_catg</th>\n",
       "      <th>region</th>\n",
       "      <th>creation</th>\n",
       "      <th>Fraud</th>\n",
       "      <th>how_many_counter</th>\n",
       "      <th>counter_number</th>\n",
       "      <th>end</th>\n",
       "      <th>mean_consumption</th>\n",
       "      <th>min_consumption</th>\n",
       "      <th>std_consumption</th>\n",
       "      <th>max_consumption</th>\n",
       "      <th>mean_quarter1</th>\n",
       "      <th>mean_quarter2</th>\n",
       "      <th>mean_quarter3</th>\n",
       "      <th>mean_quarter4</th>\n",
       "    </tr>\n",
       "  </thead>\n",
       "  <tbody>\n",
       "    <tr>\n",
       "      <th>0</th>\n",
       "      <td>254102051</td>\n",
       "      <td>62</td>\n",
       "      <td>11</td>\n",
       "      <td>301</td>\n",
       "      <td>1977-05-25</td>\n",
       "      <td>0</td>\n",
       "      <td>1</td>\n",
       "      <td>8512846</td>\n",
       "      <td>1978</td>\n",
       "      <td>23.666667</td>\n",
       "      <td>1.5</td>\n",
       "      <td>19.470062</td>\n",
       "      <td>38.0</td>\n",
       "      <td>NaN</td>\n",
       "      <td>NaN</td>\n",
       "      <td>23.666667</td>\n",
       "      <td>NaN</td>\n",
       "    </tr>\n",
       "    <tr>\n",
       "      <th>1</th>\n",
       "      <td>253402200</td>\n",
       "      <td>62</td>\n",
       "      <td>11</td>\n",
       "      <td>301</td>\n",
       "      <td>1978-03-01</td>\n",
       "      <td>0</td>\n",
       "      <td>1</td>\n",
       "      <td>8501916</td>\n",
       "      <td>1979</td>\n",
       "      <td>134.800000</td>\n",
       "      <td>125.5</td>\n",
       "      <td>9.915896</td>\n",
       "      <td>148.5</td>\n",
       "      <td>134.8</td>\n",
       "      <td>NaN</td>\n",
       "      <td>NaN</td>\n",
       "      <td>NaN</td>\n",
       "    </tr>\n",
       "    <tr>\n",
       "      <th>2</th>\n",
       "      <td>217932640</td>\n",
       "      <td>69</td>\n",
       "      <td>11</td>\n",
       "      <td>105</td>\n",
       "      <td>1978-10-24</td>\n",
       "      <td>0</td>\n",
       "      <td>1</td>\n",
       "      <td>814057</td>\n",
       "      <td>1979</td>\n",
       "      <td>13.166667</td>\n",
       "      <td>0.0</td>\n",
       "      <td>19.444365</td>\n",
       "      <td>35.5</td>\n",
       "      <td>NaN</td>\n",
       "      <td>0.0</td>\n",
       "      <td>19.750000</td>\n",
       "      <td>NaN</td>\n",
       "    </tr>\n",
       "    <tr>\n",
       "      <th>3</th>\n",
       "      <td>253446700</td>\n",
       "      <td>62</td>\n",
       "      <td>11</td>\n",
       "      <td>301</td>\n",
       "      <td>1977-08-11</td>\n",
       "      <td>0</td>\n",
       "      <td>1</td>\n",
       "      <td>8502044</td>\n",
       "      <td>1978</td>\n",
       "      <td>36.750000</td>\n",
       "      <td>25.5</td>\n",
       "      <td>15.909903</td>\n",
       "      <td>48.0</td>\n",
       "      <td>NaN</td>\n",
       "      <td>NaN</td>\n",
       "      <td>25.500000</td>\n",
       "      <td>48.0</td>\n",
       "    </tr>\n",
       "    <tr>\n",
       "      <th>4</th>\n",
       "      <td>256224200</td>\n",
       "      <td>62</td>\n",
       "      <td>11</td>\n",
       "      <td>301</td>\n",
       "      <td>1977-11-10</td>\n",
       "      <td>0</td>\n",
       "      <td>1</td>\n",
       "      <td>7991162</td>\n",
       "      <td>1979</td>\n",
       "      <td>32.333333</td>\n",
       "      <td>15.5</td>\n",
       "      <td>19.093629</td>\n",
       "      <td>63.0</td>\n",
       "      <td>NaN</td>\n",
       "      <td>NaN</td>\n",
       "      <td>29.000000</td>\n",
       "      <td>33.0</td>\n",
       "    </tr>\n",
       "  </tbody>\n",
       "</table>\n",
       "</div>"
      ],
      "text/plain": [
       "   client_id  district  ...  mean_quarter3  mean_quarter4\n",
       "0  254102051        62  ...      23.666667            NaN\n",
       "1  253402200        62  ...            NaN            NaN\n",
       "2  217932640        69  ...      19.750000            NaN\n",
       "3  253446700        62  ...      25.500000           48.0\n",
       "4  256224200        62  ...      29.000000           33.0\n",
       "\n",
       "[5 rows x 17 columns]"
      ]
     },
     "execution_count": 51,
     "metadata": {
      "tags": []
     },
     "output_type": "execute_result"
    }
   ],
   "source": [
    "new = con.groupby(['client_id', 'quarter'])['consumption_per_month'].agg({\"mean\"})\n",
    "new.columns = ['mean_quarter_consumption']\n",
    "new = new.reset_index()\n",
    "new = new.pivot(index='client_id', columns='quarter', values = 'mean_quarter_consumption')\n",
    "new.columns = ['mean_quarter'+str(i) for i in range (1,5)]\n",
    "ML_client = pd.merge(ML_client, new, how ='left', on= 'client_id')\n",
    "ML_client.head()"
   ]
  },
  {
   "cell_type": "code",
   "execution_count": 0,
   "metadata": {
    "colab": {},
    "colab_type": "code",
    "id": "LtD9rOJIToLB"
   },
   "outputs": [],
   "source": [
    "new = con.groupby(['client_id', 'quarter'])['consumption_per_month'].agg({\"min\"})\n",
    "new.columns = ['min_quarter_consumption']\n",
    "new = new.reset_index()\n",
    "new = new.pivot(index='client_id', columns='quarter', values = 'min_quarter_consumption')\n",
    "new.columns = ['min_quarter'+str(i) for i in range (1,5)]\n",
    "ML_client = pd.merge(ML_client, new, how ='left', on= 'client_id')"
   ]
  },
  {
   "cell_type": "code",
   "execution_count": 0,
   "metadata": {
    "colab": {},
    "colab_type": "code",
    "id": "Z96VNr-fTIXO"
   },
   "outputs": [],
   "source": [
    "new = con.groupby(['client_id', 'quarter'])['consumption_per_month'].agg({\"max\"})\n",
    "new.columns = ['max_quarter_consumption']\n",
    "new = new.reset_index()\n",
    "new = new.pivot(index='client_id', columns='quarter', values = 'max_quarter_consumption')\n",
    "new.columns = ['max_quarter'+str(i) for i in range (1,5)]\n",
    "ML_client = pd.merge(ML_client, new, how ='left', on= 'client_id')"
   ]
  },
  {
   "cell_type": "code",
   "execution_count": 54,
   "metadata": {
    "colab": {
     "base_uri": "https://localhost:8080/",
     "height": 34
    },
    "colab_type": "code",
    "id": "Xpt2KiB0QAQY",
    "outputId": "e83ce898-86d8-4d4a-b595-8b57014a65c0"
   },
   "outputs": [
    {
     "data": {
      "text/plain": [
       "0"
      ]
     },
     "execution_count": 54,
     "metadata": {
      "tags": []
     },
     "output_type": "execute_result"
    }
   ],
   "source": [
    "gc.collect()"
   ]
  },
  {
   "cell_type": "code",
   "execution_count": 55,
   "metadata": {
    "colab": {
     "base_uri": "https://localhost:8080/",
     "height": 309
    },
    "colab_type": "code",
    "id": "YurlhJFS3VYl",
    "outputId": "b0eea50c-94c3-4aed-8c1d-70e552b1ab1a"
   },
   "outputs": [
    {
     "data": {
      "text/html": [
       "<div>\n",
       "<style scoped>\n",
       "    .dataframe tbody tr th:only-of-type {\n",
       "        vertical-align: middle;\n",
       "    }\n",
       "\n",
       "    .dataframe tbody tr th {\n",
       "        vertical-align: top;\n",
       "    }\n",
       "\n",
       "    .dataframe thead th {\n",
       "        text-align: right;\n",
       "    }\n",
       "</style>\n",
       "<table border=\"1\" class=\"dataframe\">\n",
       "  <thead>\n",
       "    <tr style=\"text-align: right;\">\n",
       "      <th></th>\n",
       "      <th>client_id</th>\n",
       "      <th>district</th>\n",
       "      <th>client_catg</th>\n",
       "      <th>region</th>\n",
       "      <th>creation</th>\n",
       "      <th>Fraud</th>\n",
       "      <th>how_many_counter</th>\n",
       "      <th>counter_number</th>\n",
       "      <th>end</th>\n",
       "      <th>mean_consumption</th>\n",
       "      <th>min_consumption</th>\n",
       "      <th>std_consumption</th>\n",
       "      <th>max_consumption</th>\n",
       "      <th>mean_quarter1</th>\n",
       "      <th>mean_quarter2</th>\n",
       "      <th>mean_quarter3</th>\n",
       "      <th>mean_quarter4</th>\n",
       "      <th>min_quarter1</th>\n",
       "      <th>min_quarter2</th>\n",
       "      <th>min_quarter3</th>\n",
       "      <th>min_quarter4</th>\n",
       "      <th>max_quarter1</th>\n",
       "      <th>max_quarter2</th>\n",
       "      <th>max_quarter3</th>\n",
       "      <th>max_quarter4</th>\n",
       "      <th>num_observ</th>\n",
       "    </tr>\n",
       "  </thead>\n",
       "  <tbody>\n",
       "    <tr>\n",
       "      <th>0</th>\n",
       "      <td>254102051</td>\n",
       "      <td>62</td>\n",
       "      <td>11</td>\n",
       "      <td>301</td>\n",
       "      <td>1977-05-25</td>\n",
       "      <td>0</td>\n",
       "      <td>1</td>\n",
       "      <td>8512846</td>\n",
       "      <td>1978</td>\n",
       "      <td>23.666667</td>\n",
       "      <td>1.5</td>\n",
       "      <td>19.470062</td>\n",
       "      <td>38.0</td>\n",
       "      <td>NaN</td>\n",
       "      <td>NaN</td>\n",
       "      <td>23.666667</td>\n",
       "      <td>NaN</td>\n",
       "      <td>NaN</td>\n",
       "      <td>NaN</td>\n",
       "      <td>1.5</td>\n",
       "      <td>NaN</td>\n",
       "      <td>NaN</td>\n",
       "      <td>NaN</td>\n",
       "      <td>38.0</td>\n",
       "      <td>NaN</td>\n",
       "      <td>3</td>\n",
       "    </tr>\n",
       "    <tr>\n",
       "      <th>1</th>\n",
       "      <td>253402200</td>\n",
       "      <td>62</td>\n",
       "      <td>11</td>\n",
       "      <td>301</td>\n",
       "      <td>1978-03-01</td>\n",
       "      <td>0</td>\n",
       "      <td>1</td>\n",
       "      <td>8501916</td>\n",
       "      <td>1979</td>\n",
       "      <td>134.800000</td>\n",
       "      <td>125.5</td>\n",
       "      <td>9.915896</td>\n",
       "      <td>148.5</td>\n",
       "      <td>134.8</td>\n",
       "      <td>NaN</td>\n",
       "      <td>NaN</td>\n",
       "      <td>NaN</td>\n",
       "      <td>125.5</td>\n",
       "      <td>NaN</td>\n",
       "      <td>NaN</td>\n",
       "      <td>NaN</td>\n",
       "      <td>148.5</td>\n",
       "      <td>NaN</td>\n",
       "      <td>NaN</td>\n",
       "      <td>NaN</td>\n",
       "      <td>5</td>\n",
       "    </tr>\n",
       "    <tr>\n",
       "      <th>2</th>\n",
       "      <td>217932640</td>\n",
       "      <td>69</td>\n",
       "      <td>11</td>\n",
       "      <td>105</td>\n",
       "      <td>1978-10-24</td>\n",
       "      <td>0</td>\n",
       "      <td>1</td>\n",
       "      <td>814057</td>\n",
       "      <td>1979</td>\n",
       "      <td>13.166667</td>\n",
       "      <td>0.0</td>\n",
       "      <td>19.444365</td>\n",
       "      <td>35.5</td>\n",
       "      <td>NaN</td>\n",
       "      <td>0.0</td>\n",
       "      <td>19.750000</td>\n",
       "      <td>NaN</td>\n",
       "      <td>NaN</td>\n",
       "      <td>0.0</td>\n",
       "      <td>4.0</td>\n",
       "      <td>NaN</td>\n",
       "      <td>NaN</td>\n",
       "      <td>0.0</td>\n",
       "      <td>35.5</td>\n",
       "      <td>NaN</td>\n",
       "      <td>3</td>\n",
       "    </tr>\n",
       "    <tr>\n",
       "      <th>3</th>\n",
       "      <td>253446700</td>\n",
       "      <td>62</td>\n",
       "      <td>11</td>\n",
       "      <td>301</td>\n",
       "      <td>1977-08-11</td>\n",
       "      <td>0</td>\n",
       "      <td>1</td>\n",
       "      <td>8502044</td>\n",
       "      <td>1978</td>\n",
       "      <td>36.750000</td>\n",
       "      <td>25.5</td>\n",
       "      <td>15.909903</td>\n",
       "      <td>48.0</td>\n",
       "      <td>NaN</td>\n",
       "      <td>NaN</td>\n",
       "      <td>25.500000</td>\n",
       "      <td>48.0</td>\n",
       "      <td>NaN</td>\n",
       "      <td>NaN</td>\n",
       "      <td>25.5</td>\n",
       "      <td>48.0</td>\n",
       "      <td>NaN</td>\n",
       "      <td>NaN</td>\n",
       "      <td>25.5</td>\n",
       "      <td>48.0</td>\n",
       "      <td>2</td>\n",
       "    </tr>\n",
       "    <tr>\n",
       "      <th>4</th>\n",
       "      <td>256224200</td>\n",
       "      <td>62</td>\n",
       "      <td>11</td>\n",
       "      <td>301</td>\n",
       "      <td>1977-11-10</td>\n",
       "      <td>0</td>\n",
       "      <td>1</td>\n",
       "      <td>7991162</td>\n",
       "      <td>1979</td>\n",
       "      <td>32.333333</td>\n",
       "      <td>15.5</td>\n",
       "      <td>19.093629</td>\n",
       "      <td>63.0</td>\n",
       "      <td>NaN</td>\n",
       "      <td>NaN</td>\n",
       "      <td>29.000000</td>\n",
       "      <td>33.0</td>\n",
       "      <td>NaN</td>\n",
       "      <td>NaN</td>\n",
       "      <td>29.0</td>\n",
       "      <td>15.5</td>\n",
       "      <td>NaN</td>\n",
       "      <td>NaN</td>\n",
       "      <td>29.0</td>\n",
       "      <td>63.0</td>\n",
       "      <td>6</td>\n",
       "    </tr>\n",
       "  </tbody>\n",
       "</table>\n",
       "</div>"
      ],
      "text/plain": [
       "   client_id  district  client_catg  ...  max_quarter3 max_quarter4  num_observ\n",
       "0  254102051        62           11  ...          38.0          NaN           3\n",
       "1  253402200        62           11  ...           NaN          NaN           5\n",
       "2  217932640        69           11  ...          35.5          NaN           3\n",
       "3  253446700        62           11  ...          25.5         48.0           2\n",
       "4  256224200        62           11  ...          29.0         63.0           6\n",
       "\n",
       "[5 rows x 26 columns]"
      ]
     },
     "execution_count": 55,
     "metadata": {
      "tags": []
     },
     "output_type": "execute_result"
    }
   ],
   "source": [
    "new = con.groupby('client_id')['consumption_per_month'].agg({\"count\"})\n",
    "new.columns = ['num_observ']\n",
    "ML_client = pd.merge(ML_client,new , how ='left' , on ='client_id' )\n",
    "ML_client.head()"
   ]
  },
  {
   "cell_type": "code",
   "execution_count": 0,
   "metadata": {
    "colab": {},
    "colab_type": "code",
    "id": "eZstiviX8FBS"
   },
   "outputs": [],
   "source": [
    "ML_client = ML_client[ML_client['num_observ']>5]"
   ]
  },
  {
   "cell_type": "code",
   "execution_count": 0,
   "metadata": {
    "colab": {},
    "colab_type": "code",
    "id": "k7OuFZQQ3Vdu"
   },
   "outputs": [],
   "source": [
    "ML_client.loc[ML_client[ML_client['mean_quarter1'].isnull()].index, 'mean_quarter1'] = ML_client.loc[ML_client[ML_client['mean_quarter1'].isnull()].index, 'mean_consumption']\n",
    "ML_client.loc[ML_client[ML_client['mean_quarter2'].isnull()].index, 'mean_quarter2'] = ML_client.loc[ML_client[ML_client['mean_quarter2'].isnull()].index, 'mean_consumption']\n",
    "ML_client.loc[ML_client[ML_client['mean_quarter3'].isnull()].index, 'mean_quarter3'] = ML_client.loc[ML_client[ML_client['mean_quarter3'].isnull()].index, 'mean_consumption']\n",
    "ML_client.loc[ML_client[ML_client['mean_quarter4'].isnull()].index, 'mean_quarter4'] = ML_client.loc[ML_client[ML_client['mean_quarter4'].isnull()].index, 'mean_consumption']\n"
   ]
  },
  {
   "cell_type": "code",
   "execution_count": 0,
   "metadata": {
    "colab": {},
    "colab_type": "code",
    "id": "OWC6ciq73Vo7"
   },
   "outputs": [],
   "source": [
    "ML_client.loc[ML_client[ML_client['max_quarter1'].isnull()].index, 'max_quarter1'] = ML_client.loc[ML_client[ML_client['max_quarter1'].isnull()].index, 'max_consumption']\n",
    "ML_client.loc[ML_client[ML_client['max_quarter2'].isnull()].index, 'max_quarter2'] = ML_client.loc[ML_client[ML_client['max_quarter2'].isnull()].index, 'max_consumption']\n",
    "ML_client.loc[ML_client[ML_client['max_quarter3'].isnull()].index, 'max_quarter3'] = ML_client.loc[ML_client[ML_client['max_quarter3'].isnull()].index, 'max_consumption']\n",
    "ML_client.loc[ML_client[ML_client['max_quarter4'].isnull()].index, 'max_quarter4'] = ML_client.loc[ML_client[ML_client['max_quarter4'].isnull()].index, 'max_consumption']\n"
   ]
  },
  {
   "cell_type": "code",
   "execution_count": 0,
   "metadata": {
    "colab": {},
    "colab_type": "code",
    "id": "KWEf663X3VmJ"
   },
   "outputs": [],
   "source": [
    "ML_client.loc[ML_client[ML_client['min_quarter1'].isnull()].index, 'min_quarter1'] = ML_client.loc[ML_client[ML_client['min_quarter1'].isnull()].index, 'min_consumption']\n",
    "ML_client.loc[ML_client[ML_client['min_quarter2'].isnull()].index, 'min_quarter2'] = ML_client.loc[ML_client[ML_client['min_quarter2'].isnull()].index, 'min_consumption']\n",
    "ML_client.loc[ML_client[ML_client['min_quarter3'].isnull()].index, 'min_quarter3'] = ML_client.loc[ML_client[ML_client['min_quarter3'].isnull()].index, 'min_consumption']\n",
    "ML_client.loc[ML_client[ML_client['min_quarter4'].isnull()].index, 'min_quarter4'] = ML_client.loc[ML_client[ML_client['min_quarter4'].isnull()].index, 'min_consumption']\n"
   ]
  },
  {
   "cell_type": "code",
   "execution_count": 60,
   "metadata": {
    "colab": {
     "base_uri": "https://localhost:8080/",
     "height": 309
    },
    "colab_type": "code",
    "id": "fJHaEgU_3Vj3",
    "outputId": "c69f8104-428d-48d0-d6b6-693e631613d2"
   },
   "outputs": [
    {
     "data": {
      "text/html": [
       "<div>\n",
       "<style scoped>\n",
       "    .dataframe tbody tr th:only-of-type {\n",
       "        vertical-align: middle;\n",
       "    }\n",
       "\n",
       "    .dataframe tbody tr th {\n",
       "        vertical-align: top;\n",
       "    }\n",
       "\n",
       "    .dataframe thead th {\n",
       "        text-align: right;\n",
       "    }\n",
       "</style>\n",
       "<table border=\"1\" class=\"dataframe\">\n",
       "  <thead>\n",
       "    <tr style=\"text-align: right;\">\n",
       "      <th></th>\n",
       "      <th>client_id</th>\n",
       "      <th>district</th>\n",
       "      <th>client_catg</th>\n",
       "      <th>region</th>\n",
       "      <th>creation</th>\n",
       "      <th>Fraud</th>\n",
       "      <th>how_many_counter</th>\n",
       "      <th>counter_number</th>\n",
       "      <th>end</th>\n",
       "      <th>mean_consumption</th>\n",
       "      <th>min_consumption</th>\n",
       "      <th>std_consumption</th>\n",
       "      <th>max_consumption</th>\n",
       "      <th>mean_quarter1</th>\n",
       "      <th>mean_quarter2</th>\n",
       "      <th>mean_quarter3</th>\n",
       "      <th>mean_quarter4</th>\n",
       "      <th>min_quarter1</th>\n",
       "      <th>min_quarter2</th>\n",
       "      <th>min_quarter3</th>\n",
       "      <th>min_quarter4</th>\n",
       "      <th>max_quarter1</th>\n",
       "      <th>max_quarter2</th>\n",
       "      <th>max_quarter3</th>\n",
       "      <th>max_quarter4</th>\n",
       "      <th>num_observ</th>\n",
       "      <th>var_consumption</th>\n",
       "    </tr>\n",
       "  </thead>\n",
       "  <tbody>\n",
       "    <tr>\n",
       "      <th>0</th>\n",
       "      <td>256224200</td>\n",
       "      <td>62</td>\n",
       "      <td>11</td>\n",
       "      <td>301</td>\n",
       "      <td>1977-11-10</td>\n",
       "      <td>0</td>\n",
       "      <td>1</td>\n",
       "      <td>7991162</td>\n",
       "      <td>1979</td>\n",
       "      <td>32.333333</td>\n",
       "      <td>15.5</td>\n",
       "      <td>19.093629</td>\n",
       "      <td>63.0</td>\n",
       "      <td>32.333333</td>\n",
       "      <td>32.333333</td>\n",
       "      <td>29.0</td>\n",
       "      <td>33.0</td>\n",
       "      <td>15.5</td>\n",
       "      <td>15.5</td>\n",
       "      <td>29.0</td>\n",
       "      <td>15.5</td>\n",
       "      <td>63.0</td>\n",
       "      <td>63.0</td>\n",
       "      <td>29.0</td>\n",
       "      <td>63.0</td>\n",
       "      <td>6</td>\n",
       "      <td>364.566667</td>\n",
       "    </tr>\n",
       "    <tr>\n",
       "      <th>1</th>\n",
       "      <td>217390400</td>\n",
       "      <td>69</td>\n",
       "      <td>11</td>\n",
       "      <td>107</td>\n",
       "      <td>1978-04-08</td>\n",
       "      <td>0</td>\n",
       "      <td>1</td>\n",
       "      <td>350923</td>\n",
       "      <td>1980</td>\n",
       "      <td>0.000000</td>\n",
       "      <td>0.0</td>\n",
       "      <td>0.000000</td>\n",
       "      <td>0.0</td>\n",
       "      <td>0.000000</td>\n",
       "      <td>0.000000</td>\n",
       "      <td>0.0</td>\n",
       "      <td>0.0</td>\n",
       "      <td>0.0</td>\n",
       "      <td>0.0</td>\n",
       "      <td>0.0</td>\n",
       "      <td>0.0</td>\n",
       "      <td>0.0</td>\n",
       "      <td>0.0</td>\n",
       "      <td>0.0</td>\n",
       "      <td>0.0</td>\n",
       "      <td>6</td>\n",
       "      <td>0.000000</td>\n",
       "    </tr>\n",
       "    <tr>\n",
       "      <th>2</th>\n",
       "      <td>254832200</td>\n",
       "      <td>62</td>\n",
       "      <td>11</td>\n",
       "      <td>301</td>\n",
       "      <td>1979-12-11</td>\n",
       "      <td>0</td>\n",
       "      <td>1</td>\n",
       "      <td>8626937</td>\n",
       "      <td>1981</td>\n",
       "      <td>33.500000</td>\n",
       "      <td>2.5</td>\n",
       "      <td>36.313909</td>\n",
       "      <td>102.5</td>\n",
       "      <td>33.500000</td>\n",
       "      <td>33.500000</td>\n",
       "      <td>29.0</td>\n",
       "      <td>34.4</td>\n",
       "      <td>2.5</td>\n",
       "      <td>2.5</td>\n",
       "      <td>29.0</td>\n",
       "      <td>2.5</td>\n",
       "      <td>102.5</td>\n",
       "      <td>102.5</td>\n",
       "      <td>29.0</td>\n",
       "      <td>102.5</td>\n",
       "      <td>6</td>\n",
       "      <td>1318.700000</td>\n",
       "    </tr>\n",
       "    <tr>\n",
       "      <th>3</th>\n",
       "      <td>254831100</td>\n",
       "      <td>62</td>\n",
       "      <td>11</td>\n",
       "      <td>301</td>\n",
       "      <td>1979-07-26</td>\n",
       "      <td>0</td>\n",
       "      <td>1</td>\n",
       "      <td>8630278</td>\n",
       "      <td>1981</td>\n",
       "      <td>70.583333</td>\n",
       "      <td>50.0</td>\n",
       "      <td>21.329362</td>\n",
       "      <td>98.0</td>\n",
       "      <td>70.583333</td>\n",
       "      <td>70.583333</td>\n",
       "      <td>72.0</td>\n",
       "      <td>70.3</td>\n",
       "      <td>50.0</td>\n",
       "      <td>50.0</td>\n",
       "      <td>72.0</td>\n",
       "      <td>50.0</td>\n",
       "      <td>98.0</td>\n",
       "      <td>98.0</td>\n",
       "      <td>72.0</td>\n",
       "      <td>98.0</td>\n",
       "      <td>6</td>\n",
       "      <td>454.941667</td>\n",
       "    </tr>\n",
       "    <tr>\n",
       "      <th>4</th>\n",
       "      <td>000850400</td>\n",
       "      <td>60</td>\n",
       "      <td>11</td>\n",
       "      <td>101</td>\n",
       "      <td>1980-04-09</td>\n",
       "      <td>0</td>\n",
       "      <td>1</td>\n",
       "      <td>1255468</td>\n",
       "      <td>1982</td>\n",
       "      <td>41.000000</td>\n",
       "      <td>20.0</td>\n",
       "      <td>35.959700</td>\n",
       "      <td>113.0</td>\n",
       "      <td>46.625000</td>\n",
       "      <td>29.750000</td>\n",
       "      <td>41.0</td>\n",
       "      <td>41.0</td>\n",
       "      <td>20.0</td>\n",
       "      <td>20.5</td>\n",
       "      <td>20.0</td>\n",
       "      <td>20.0</td>\n",
       "      <td>113.0</td>\n",
       "      <td>39.0</td>\n",
       "      <td>113.0</td>\n",
       "      <td>113.0</td>\n",
       "      <td>6</td>\n",
       "      <td>1293.100000</td>\n",
       "    </tr>\n",
       "  </tbody>\n",
       "</table>\n",
       "</div>"
      ],
      "text/plain": [
       "   client_id  district  client_catg  ...  max_quarter4 num_observ  var_consumption\n",
       "0  256224200        62           11  ...          63.0          6       364.566667\n",
       "1  217390400        69           11  ...           0.0          6         0.000000\n",
       "2  254832200        62           11  ...         102.5          6      1318.700000\n",
       "3  254831100        62           11  ...          98.0          6       454.941667\n",
       "4  000850400        60           11  ...         113.0          6      1293.100000\n",
       "\n",
       "[5 rows x 27 columns]"
      ]
     },
     "execution_count": 60,
     "metadata": {
      "tags": []
     },
     "output_type": "execute_result"
    }
   ],
   "source": [
    "new = con.groupby('client_id')['consumption_per_month'].agg({\"var\"})\n",
    "new.columns = ['var_consumption']\n",
    "ML_client = pd.merge(ML_client,new , how ='left' , on ='client_id' )\n",
    "ML_client.head()"
   ]
  },
  {
   "cell_type": "code",
   "execution_count": 61,
   "metadata": {
    "colab": {
     "base_uri": "https://localhost:8080/",
     "height": 34
    },
    "colab_type": "code",
    "id": "eHey1WrO3Vh7",
    "outputId": "b4801352-d5b9-4176-bb51-7cf9592230ea"
   },
   "outputs": [
    {
     "data": {
      "text/plain": [
       "0"
      ]
     },
     "execution_count": 61,
     "metadata": {
      "tags": []
     },
     "output_type": "execute_result"
    }
   ],
   "source": [
    "ML_client.isnull().sum().sum()"
   ]
  },
  {
   "cell_type": "code",
   "execution_count": 0,
   "metadata": {
    "colab": {},
    "colab_type": "code",
    "id": "YkWwePhx3VbY"
   },
   "outputs": [],
   "source": [
    "def q75(x) : \n",
    "    return x.quantile(0.75)\n",
    "def q25(x) : \n",
    "    return x.quantile(0.25)\n",
    "def q10(x) : \n",
    "    return x.quantile(0.1)\n",
    "def q90(x) : \n",
    "    return x.quantile(0.90)"
   ]
  },
  {
   "cell_type": "code",
   "execution_count": 0,
   "metadata": {
    "colab": {},
    "colab_type": "code",
    "id": "6y4lCV-TFTtm"
   },
   "outputs": [],
   "source": [
    "new = con.groupby('client_id')['consumption_per_month'].agg([q25])\n",
    "new.columns = ['q25']\n",
    "ML_client = pd.merge(ML_client,new , how ='left' , on ='client_id' )"
   ]
  },
  {
   "cell_type": "code",
   "execution_count": 64,
   "metadata": {
    "colab": {
     "base_uri": "https://localhost:8080/",
     "height": 34
    },
    "colab_type": "code",
    "id": "sm5EZJkjGBux",
    "outputId": "a3dfa150-fa91-4c60-b5b3-696277911157"
   },
   "outputs": [
    {
     "data": {
      "text/plain": [
       "0"
      ]
     },
     "execution_count": 64,
     "metadata": {
      "tags": []
     },
     "output_type": "execute_result"
    }
   ],
   "source": [
    "gc.collect()"
   ]
  },
  {
   "cell_type": "code",
   "execution_count": 0,
   "metadata": {
    "colab": {},
    "colab_type": "code",
    "id": "xDOQi_gEFT4u"
   },
   "outputs": [],
   "source": [
    "new = con.groupby('client_id')['consumption_per_month'].agg([q75])\n",
    "new.columns = ['q75']\n",
    "ML_client = pd.merge(ML_client,new , how ='left' , on ='client_id' )"
   ]
  },
  {
   "cell_type": "code",
   "execution_count": 66,
   "metadata": {
    "colab": {
     "base_uri": "https://localhost:8080/",
     "height": 34
    },
    "colab_type": "code",
    "id": "-YsJKj4BFT2I",
    "outputId": "f5cfe128-db93-448c-a870-f5a1e8f1a93e"
   },
   "outputs": [
    {
     "data": {
      "text/plain": [
       "0"
      ]
     },
     "execution_count": 66,
     "metadata": {
      "tags": []
     },
     "output_type": "execute_result"
    }
   ],
   "source": [
    "gc.collect()"
   ]
  },
  {
   "cell_type": "code",
   "execution_count": 0,
   "metadata": {
    "colab": {},
    "colab_type": "code",
    "id": "A_ALAOffFTwm"
   },
   "outputs": [],
   "source": [
    "new = con.groupby('client_id')['consumption_per_month'].agg([q10])\n",
    "new.columns = ['q10']\n",
    "ML_client = pd.merge(ML_client,new , how ='left' , on ='client_id' )"
   ]
  },
  {
   "cell_type": "code",
   "execution_count": 68,
   "metadata": {
    "colab": {
     "base_uri": "https://localhost:8080/",
     "height": 34
    },
    "colab_type": "code",
    "id": "N2Ny0O9oG00a",
    "outputId": "45127186-e565-48e5-c5dc-4ef77e36c94f"
   },
   "outputs": [
    {
     "data": {
      "text/plain": [
       "0"
      ]
     },
     "execution_count": 68,
     "metadata": {
      "tags": []
     },
     "output_type": "execute_result"
    }
   ],
   "source": [
    "gc.collect()"
   ]
  },
  {
   "cell_type": "code",
   "execution_count": 0,
   "metadata": {
    "colab": {},
    "colab_type": "code",
    "id": "HQrjRIivG042"
   },
   "outputs": [],
   "source": [
    "new = con.groupby('client_id')['consumption_per_month'].agg([q90])\n",
    "new.columns = ['q90']\n",
    "ML_client = pd.merge(ML_client,new , how ='left' , on ='client_id' )"
   ]
  },
  {
   "cell_type": "markdown",
   "metadata": {
    "colab_type": "text",
    "id": "qx2OfiMNvpQK"
   },
   "source": [
    "Des indicateurs de la fluctuation de la consommation des client"
   ]
  },
  {
   "cell_type": "code",
   "execution_count": 0,
   "metadata": {
    "colab": {},
    "colab_type": "code",
    "id": "F8hrUv0rG087"
   },
   "outputs": [],
   "source": [
    "ML_client['Range_consump']=2*(ML_client['max_consumption']-ML_client['min_consumption'])/(ML_client['max_consumption']+ML_client['min_consumption'])\n",
    "ML_client['Q']=0.5*(ML_client['q75'] - ML_client['q25'])\n",
    "ML_client['CD']=(ML_client['q75']-ML_client['q25'])/(ML_client['q75']+ML_client['q25'])\n",
    "ML_client['BSD']=ML_client['std_consumption']/ML_client['mean_consumption']\n",
    "ML_client['VD']=ML_client['var_consumption']/ML_client['mean_consumption']\n",
    "ML_client['CDq']=(ML_client['q90']-ML_client['q10'])/(ML_client['q90']+ML_client['q10'])"
   ]
  },
  {
   "cell_type": "code",
   "execution_count": 71,
   "metadata": {
    "colab": {
     "base_uri": "https://localhost:8080/",
     "height": 34
    },
    "colab_type": "code",
    "id": "mjkwfuhJV6z6",
    "outputId": "66291453-826d-456c-a714-ed227c42c0bb"
   },
   "outputs": [
    {
     "data": {
      "text/plain": [
       "39"
      ]
     },
     "execution_count": 71,
     "metadata": {
      "tags": []
     },
     "output_type": "execute_result"
    }
   ],
   "source": [
    "gc.collect()"
   ]
  },
  {
   "cell_type": "code",
   "execution_count": 0,
   "metadata": {
    "colab": {},
    "colab_type": "code",
    "id": "AG5-rgzDG03c"
   },
   "outputs": [],
   "source": [
    "ML_client.drop(ML_client[ML_client['CDq'].isnull()].index, inplace=True)"
   ]
  },
  {
   "cell_type": "code",
   "execution_count": 0,
   "metadata": {
    "colab": {},
    "colab_type": "code",
    "id": "aMZX5BaPaRGv"
   },
   "outputs": [],
   "source": [
    "ML_client.drop(ML_client[ML_client['CD'].isnull()].index, inplace=True)"
   ]
  },
  {
   "cell_type": "code",
   "execution_count": 74,
   "metadata": {
    "colab": {
     "base_uri": "https://localhost:8080/",
     "height": 34
    },
    "colab_type": "code",
    "id": "13ZD7R8TcJ2L",
    "outputId": "396c4232-e830-448c-f120-3d32a6045e6d"
   },
   "outputs": [
    {
     "data": {
      "text/plain": [
       "0"
      ]
     },
     "execution_count": 74,
     "metadata": {
      "tags": []
     },
     "output_type": "execute_result"
    }
   ],
   "source": [
    "gc.collect()"
   ]
  },
  {
   "cell_type": "code",
   "execution_count": 75,
   "metadata": {
    "colab": {
     "base_uri": "https://localhost:8080/",
     "height": 34
    },
    "colab_type": "code",
    "id": "tHDgpd5TcKgh",
    "outputId": "0569a304-89e1-435d-9882-78dc63816272"
   },
   "outputs": [
    {
     "data": {
      "text/plain": [
       "0"
      ]
     },
     "execution_count": 75,
     "metadata": {
      "tags": []
     },
     "output_type": "execute_result"
    }
   ],
   "source": [
    "ML_client.isnull().sum().sum()"
   ]
  },
  {
   "cell_type": "markdown",
   "metadata": {
    "colab_type": "text",
    "id": "C0d0o998_DYd"
   },
   "source": [
    "#Preparation de la data pour la partie Deep Learning"
   ]
  },
  {
   "cell_type": "code",
   "execution_count": 0,
   "metadata": {
    "colab": {},
    "colab_type": "code",
    "id": "Lae3r9u7WILM"
   },
   "outputs": [],
   "source": [
    "ML_client = ML_client.set_index('client_id')\n",
    "con = con.loc[ML_client.index,:]\n",
    "con = con.reset_index()"
   ]
  },
  {
   "cell_type": "markdown",
   "metadata": {
    "colab_type": "text",
    "id": "pigTqSVItTJ4"
   },
   "source": [
    "Prétraitements sur les features de la sequence de consommation."
   ]
  },
  {
   "cell_type": "code",
   "execution_count": 0,
   "metadata": {
    "colab": {},
    "colab_type": "code",
    "id": "7YLaevbPaoBX"
   },
   "outputs": [],
   "source": [
    "#Data preprocessing \n",
    "fix_columns = ['year','month','level','quarter','months_number']\n",
    "for f in fix_columns : \n",
    "  label_encoder = preprocessing.LabelEncoder()\n",
    "  label_encoder.fit(con[f].astype('str'))\n",
    "  con[f] = label_encoder.transform(con[f].astype('str').fillna('-1'))"
   ]
  },
  {
   "cell_type": "code",
   "execution_count": 0,
   "metadata": {
    "colab": {},
    "colab_type": "code",
    "id": "ZjDAW9bt_JUR"
   },
   "outputs": [],
   "source": [
    "num_features = 'consumption_per_month'\n",
    "scale = preprocessing.MinMaxScaler()\n",
    "scale.fit(con[num_features].values.reshape(-1,1))\n",
    "con[num_features] = scale.transform(con[num_features].values.reshape(-1,1))"
   ]
  },
  {
   "cell_type": "code",
   "execution_count": 79,
   "metadata": {
    "colab": {
     "base_uri": "https://localhost:8080/",
     "height": 66,
     "referenced_widgets": [
      "4ca1ca351f314919822fcbe6470d0a9d",
      "b55393664fb540e987517f48cd3b9da6",
      "8f60af3794954e84acdf3d555c15d9c5",
      "d11629f29f324a389b22ec6bff82a6dc",
      "324fd718b5a2483fba29243dfc753bec",
      "2095b701862b47278414efb9f0cca659",
      "eb0e3a7c5e5540389253d7aad022c41a",
      "201732e9ce9d4c6b84bbada27d4c6626"
     ]
    },
    "colab_type": "code",
    "id": "Udzoaf3d_LQ9",
    "outputId": "72ced03f-ff3c-4607-91e3-bfbd678cd6cc"
   },
   "outputs": [
    {
     "data": {
      "application/vnd.jupyter.widget-view+json": {
       "model_id": "4ca1ca351f314919822fcbe6470d0a9d",
       "version_major": 2,
       "version_minor": 0
      },
      "text/plain": [
       "HBox(children=(FloatProgress(value=0.0, max=64853.0), HTML(value='')))"
      ]
     },
     "metadata": {
      "tags": []
     },
     "output_type": "display_data"
    },
    {
     "name": "stdout",
     "output_type": "stream",
     "text": [
      "\n"
     ]
    }
   ],
   "source": [
    "tqdm.pandas()\n",
    "grouped = con.groupby('client_id',as_index = False)\n",
    "grouped_compteur_number = grouped.progress_apply(lambda x: x.reset_index(drop = True)).reset_index()\n",
    "grouped_compteur_number['columns'] = 'seq(t= ' + grouped_compteur_number['level_1'].astype('str')+ ')'"
   ]
  },
  {
   "cell_type": "markdown",
   "metadata": {
    "colab_type": "text",
    "id": "IYAp8jaOuRXC"
   },
   "source": [
    "Nous avons générer des nouveaux features qui décrivent la consommation par mois de chaque client décalée de ± 3 observations ainsi des indicateurs statistiques sur cette consommation par mois."
   ]
  },
  {
   "cell_type": "code",
   "execution_count": 0,
   "metadata": {
    "colab": {},
    "colab_type": "code",
    "id": "LtypuzCE_QKS"
   },
   "outputs": [],
   "source": [
    "windows = [1,2,3]\n",
    "for window in windows:    \n",
    "  grouped_compteur_number['consumption_shift_pos_' + str(window)] = grouped_compteur_number.groupby('client_id')['consumption_per_month'].shift(window).fillna(0)\n",
    "  grouped_compteur_number['consumption_shift_neg_' + str(window)] = grouped_compteur_number.groupby('client_id')['consumption_per_month'].shift(-1 * window).fillna(0)"
   ]
  },
  {
   "cell_type": "code",
   "execution_count": 0,
   "metadata": {
    "colab": {},
    "colab_type": "code",
    "id": "fcO0r5Cy_Sp1"
   },
   "outputs": [],
   "source": [
    "feat = ['consumption_shift_neg_' + str(window) for window in windows ] + ['consumption_per_month'] + ['consumption_shift_pos_' + str(window) for window in windows ]\n",
    "grouped_compteur_number['mean_lag'] = grouped_compteur_number[feat].mean(axis = 1 )\n",
    "grouped_compteur_number['max_lag'] = grouped_compteur_number[feat].max(axis = 1 )\n",
    "grouped_compteur_number['min_lag'] =grouped_compteur_number[feat].min(axis = 1 )\n",
    "grouped_compteur_number['std_lag'] = grouped_compteur_number[feat].std(axis = 1 )\n",
    "grouped_compteur_number['var_lag'] = grouped_compteur_number[feat].var(axis = 1 )"
   ]
  },
  {
   "cell_type": "code",
   "execution_count": 0,
   "metadata": {
    "colab": {},
    "colab_type": "code",
    "id": "3kufB63g_V17"
   },
   "outputs": [],
   "source": [
    "new = grouped_compteur_number.groupby('client_id')['level_1'].agg('count')\n",
    "new = new.reset_index()\n",
    "new.columns = ['client_id','seq_len']\n",
    "grouped_compteur_number = pd.merge(grouped_compteur_number,new , how ='left',on='client_id')"
   ]
  },
  {
   "cell_type": "code",
   "execution_count": 83,
   "metadata": {
    "colab": {
     "base_uri": "https://localhost:8080/",
     "height": 417
    },
    "colab_type": "code",
    "id": "-kjruyCN_Y8E",
    "outputId": "7f543322-8fc5-4860-ab22-bb12ffb3e831"
   },
   "outputs": [
    {
     "data": {
      "text/html": [
       "<div>\n",
       "<style scoped>\n",
       "    .dataframe tbody tr th:only-of-type {\n",
       "        vertical-align: middle;\n",
       "    }\n",
       "\n",
       "    .dataframe tbody tr th {\n",
       "        vertical-align: top;\n",
       "    }\n",
       "\n",
       "    .dataframe thead tr th {\n",
       "        text-align: left;\n",
       "    }\n",
       "\n",
       "    .dataframe thead tr:last-of-type th {\n",
       "        text-align: right;\n",
       "    }\n",
       "</style>\n",
       "<table border=\"1\" class=\"dataframe\">\n",
       "  <thead>\n",
       "    <tr>\n",
       "      <th></th>\n",
       "      <th colspan=\"40\" halign=\"left\">consumption_per_month</th>\n",
       "      <th>...</th>\n",
       "      <th colspan=\"40\" halign=\"left\">var_lag</th>\n",
       "    </tr>\n",
       "    <tr>\n",
       "      <th>columns</th>\n",
       "      <th>seq(t= 0)</th>\n",
       "      <th>seq(t= 1)</th>\n",
       "      <th>seq(t= 10)</th>\n",
       "      <th>seq(t= 100)</th>\n",
       "      <th>seq(t= 101)</th>\n",
       "      <th>seq(t= 102)</th>\n",
       "      <th>seq(t= 103)</th>\n",
       "      <th>seq(t= 104)</th>\n",
       "      <th>seq(t= 105)</th>\n",
       "      <th>seq(t= 106)</th>\n",
       "      <th>seq(t= 107)</th>\n",
       "      <th>seq(t= 108)</th>\n",
       "      <th>seq(t= 109)</th>\n",
       "      <th>seq(t= 11)</th>\n",
       "      <th>seq(t= 110)</th>\n",
       "      <th>seq(t= 111)</th>\n",
       "      <th>seq(t= 112)</th>\n",
       "      <th>seq(t= 113)</th>\n",
       "      <th>seq(t= 114)</th>\n",
       "      <th>seq(t= 115)</th>\n",
       "      <th>seq(t= 116)</th>\n",
       "      <th>seq(t= 117)</th>\n",
       "      <th>seq(t= 118)</th>\n",
       "      <th>seq(t= 119)</th>\n",
       "      <th>seq(t= 12)</th>\n",
       "      <th>seq(t= 120)</th>\n",
       "      <th>seq(t= 121)</th>\n",
       "      <th>seq(t= 122)</th>\n",
       "      <th>seq(t= 123)</th>\n",
       "      <th>seq(t= 124)</th>\n",
       "      <th>seq(t= 125)</th>\n",
       "      <th>seq(t= 126)</th>\n",
       "      <th>seq(t= 127)</th>\n",
       "      <th>seq(t= 128)</th>\n",
       "      <th>seq(t= 129)</th>\n",
       "      <th>seq(t= 13)</th>\n",
       "      <th>seq(t= 130)</th>\n",
       "      <th>seq(t= 131)</th>\n",
       "      <th>seq(t= 132)</th>\n",
       "      <th>seq(t= 133)</th>\n",
       "      <th>...</th>\n",
       "      <th>seq(t= 63)</th>\n",
       "      <th>seq(t= 64)</th>\n",
       "      <th>seq(t= 65)</th>\n",
       "      <th>seq(t= 66)</th>\n",
       "      <th>seq(t= 67)</th>\n",
       "      <th>seq(t= 68)</th>\n",
       "      <th>seq(t= 69)</th>\n",
       "      <th>seq(t= 7)</th>\n",
       "      <th>seq(t= 70)</th>\n",
       "      <th>seq(t= 71)</th>\n",
       "      <th>seq(t= 72)</th>\n",
       "      <th>seq(t= 73)</th>\n",
       "      <th>seq(t= 74)</th>\n",
       "      <th>seq(t= 75)</th>\n",
       "      <th>seq(t= 76)</th>\n",
       "      <th>seq(t= 77)</th>\n",
       "      <th>seq(t= 78)</th>\n",
       "      <th>seq(t= 79)</th>\n",
       "      <th>seq(t= 8)</th>\n",
       "      <th>seq(t= 80)</th>\n",
       "      <th>seq(t= 81)</th>\n",
       "      <th>seq(t= 82)</th>\n",
       "      <th>seq(t= 83)</th>\n",
       "      <th>seq(t= 84)</th>\n",
       "      <th>seq(t= 85)</th>\n",
       "      <th>seq(t= 86)</th>\n",
       "      <th>seq(t= 87)</th>\n",
       "      <th>seq(t= 88)</th>\n",
       "      <th>seq(t= 89)</th>\n",
       "      <th>seq(t= 9)</th>\n",
       "      <th>seq(t= 90)</th>\n",
       "      <th>seq(t= 91)</th>\n",
       "      <th>seq(t= 92)</th>\n",
       "      <th>seq(t= 93)</th>\n",
       "      <th>seq(t= 94)</th>\n",
       "      <th>seq(t= 95)</th>\n",
       "      <th>seq(t= 96)</th>\n",
       "      <th>seq(t= 97)</th>\n",
       "      <th>seq(t= 98)</th>\n",
       "      <th>seq(t= 99)</th>\n",
       "    </tr>\n",
       "    <tr>\n",
       "      <th>client_id</th>\n",
       "      <th></th>\n",
       "      <th></th>\n",
       "      <th></th>\n",
       "      <th></th>\n",
       "      <th></th>\n",
       "      <th></th>\n",
       "      <th></th>\n",
       "      <th></th>\n",
       "      <th></th>\n",
       "      <th></th>\n",
       "      <th></th>\n",
       "      <th></th>\n",
       "      <th></th>\n",
       "      <th></th>\n",
       "      <th></th>\n",
       "      <th></th>\n",
       "      <th></th>\n",
       "      <th></th>\n",
       "      <th></th>\n",
       "      <th></th>\n",
       "      <th></th>\n",
       "      <th></th>\n",
       "      <th></th>\n",
       "      <th></th>\n",
       "      <th></th>\n",
       "      <th></th>\n",
       "      <th></th>\n",
       "      <th></th>\n",
       "      <th></th>\n",
       "      <th></th>\n",
       "      <th></th>\n",
       "      <th></th>\n",
       "      <th></th>\n",
       "      <th></th>\n",
       "      <th></th>\n",
       "      <th></th>\n",
       "      <th></th>\n",
       "      <th></th>\n",
       "      <th></th>\n",
       "      <th></th>\n",
       "      <th></th>\n",
       "      <th></th>\n",
       "      <th></th>\n",
       "      <th></th>\n",
       "      <th></th>\n",
       "      <th></th>\n",
       "      <th></th>\n",
       "      <th></th>\n",
       "      <th></th>\n",
       "      <th></th>\n",
       "      <th></th>\n",
       "      <th></th>\n",
       "      <th></th>\n",
       "      <th></th>\n",
       "      <th></th>\n",
       "      <th></th>\n",
       "      <th></th>\n",
       "      <th></th>\n",
       "      <th></th>\n",
       "      <th></th>\n",
       "      <th></th>\n",
       "      <th></th>\n",
       "      <th></th>\n",
       "      <th></th>\n",
       "      <th></th>\n",
       "      <th></th>\n",
       "      <th></th>\n",
       "      <th></th>\n",
       "      <th></th>\n",
       "      <th></th>\n",
       "      <th></th>\n",
       "      <th></th>\n",
       "      <th></th>\n",
       "      <th></th>\n",
       "      <th></th>\n",
       "      <th></th>\n",
       "      <th></th>\n",
       "      <th></th>\n",
       "      <th></th>\n",
       "      <th></th>\n",
       "      <th></th>\n",
       "    </tr>\n",
       "  </thead>\n",
       "  <tbody>\n",
       "    <tr>\n",
       "      <th>000110050</th>\n",
       "      <td>0.024840</td>\n",
       "      <td>0.027990</td>\n",
       "      <td>0.054526</td>\n",
       "      <td>0.023873</td>\n",
       "      <td>0.022863</td>\n",
       "      <td>0.022956</td>\n",
       "      <td>0.021163</td>\n",
       "      <td>0.015219</td>\n",
       "      <td>0.016467</td>\n",
       "      <td>0.016571</td>\n",
       "      <td>0.021366</td>\n",
       "      <td>0.019474</td>\n",
       "      <td>0.019485</td>\n",
       "      <td>0.046719</td>\n",
       "      <td>0.023757</td>\n",
       "      <td>0.017953</td>\n",
       "      <td>0.01595</td>\n",
       "      <td>0.021261</td>\n",
       "      <td>0.023531</td>\n",
       "      <td>0.024849</td>\n",
       "      <td>0.023757</td>\n",
       "      <td>0.031471</td>\n",
       "      <td>0.018609</td>\n",
       "      <td>0.021128</td>\n",
       "      <td>0.034524</td>\n",
       "      <td>0.022689</td>\n",
       "      <td>0.027362</td>\n",
       "      <td>0.021383</td>\n",
       "      <td>0.025824</td>\n",
       "      <td>0.028018</td>\n",
       "      <td>0.024703</td>\n",
       "      <td>0.026874</td>\n",
       "      <td>0.025963</td>\n",
       "      <td>0.025222</td>\n",
       "      <td>0.020658</td>\n",
       "      <td>0.045767</td>\n",
       "      <td>0.024564</td>\n",
       "      <td>0.026166</td>\n",
       "      <td>0.023972</td>\n",
       "      <td>0.027489</td>\n",
       "      <td>...</td>\n",
       "      <td>0.000006</td>\n",
       "      <td>0.000012</td>\n",
       "      <td>0.000007</td>\n",
       "      <td>0.000007</td>\n",
       "      <td>0.000013</td>\n",
       "      <td>0.000025</td>\n",
       "      <td>0.000024</td>\n",
       "      <td>7.535117e-05</td>\n",
       "      <td>0.000023</td>\n",
       "      <td>0.000017</td>\n",
       "      <td>0.000014</td>\n",
       "      <td>0.000014</td>\n",
       "      <td>0.000014</td>\n",
       "      <td>0.000007</td>\n",
       "      <td>0.000012</td>\n",
       "      <td>0.000022</td>\n",
       "      <td>0.000020</td>\n",
       "      <td>0.000022</td>\n",
       "      <td>7.257119e-05</td>\n",
       "      <td>0.000029</td>\n",
       "      <td>0.000027</td>\n",
       "      <td>0.000028</td>\n",
       "      <td>0.000017</td>\n",
       "      <td>0.000016</td>\n",
       "      <td>0.000013</td>\n",
       "      <td>0.000014</td>\n",
       "      <td>0.000034</td>\n",
       "      <td>0.000034</td>\n",
       "      <td>0.000030</td>\n",
       "      <td>5.439251e-05</td>\n",
       "      <td>0.000029</td>\n",
       "      <td>0.000037</td>\n",
       "      <td>0.000035</td>\n",
       "      <td>0.000037</td>\n",
       "      <td>0.000014</td>\n",
       "      <td>0.000007</td>\n",
       "      <td>0.000013</td>\n",
       "      <td>0.000013</td>\n",
       "      <td>0.00001</td>\n",
       "      <td>0.000008</td>\n",
       "    </tr>\n",
       "    <tr>\n",
       "      <th>000110070</th>\n",
       "      <td>0.000067</td>\n",
       "      <td>0.015666</td>\n",
       "      <td>0.012381</td>\n",
       "      <td>NaN</td>\n",
       "      <td>NaN</td>\n",
       "      <td>NaN</td>\n",
       "      <td>NaN</td>\n",
       "      <td>NaN</td>\n",
       "      <td>NaN</td>\n",
       "      <td>NaN</td>\n",
       "      <td>NaN</td>\n",
       "      <td>NaN</td>\n",
       "      <td>NaN</td>\n",
       "      <td>0.018253</td>\n",
       "      <td>NaN</td>\n",
       "      <td>NaN</td>\n",
       "      <td>NaN</td>\n",
       "      <td>NaN</td>\n",
       "      <td>NaN</td>\n",
       "      <td>NaN</td>\n",
       "      <td>NaN</td>\n",
       "      <td>NaN</td>\n",
       "      <td>NaN</td>\n",
       "      <td>NaN</td>\n",
       "      <td>0.016931</td>\n",
       "      <td>NaN</td>\n",
       "      <td>NaN</td>\n",
       "      <td>NaN</td>\n",
       "      <td>NaN</td>\n",
       "      <td>NaN</td>\n",
       "      <td>NaN</td>\n",
       "      <td>NaN</td>\n",
       "      <td>NaN</td>\n",
       "      <td>NaN</td>\n",
       "      <td>NaN</td>\n",
       "      <td>0.012613</td>\n",
       "      <td>NaN</td>\n",
       "      <td>NaN</td>\n",
       "      <td>NaN</td>\n",
       "      <td>NaN</td>\n",
       "      <td>...</td>\n",
       "      <td>0.000029</td>\n",
       "      <td>0.000021</td>\n",
       "      <td>0.000022</td>\n",
       "      <td>0.000021</td>\n",
       "      <td>0.000023</td>\n",
       "      <td>0.000039</td>\n",
       "      <td>0.000032</td>\n",
       "      <td>5.966705e-06</td>\n",
       "      <td>0.000028</td>\n",
       "      <td>0.000028</td>\n",
       "      <td>0.000027</td>\n",
       "      <td>0.000025</td>\n",
       "      <td>0.000031</td>\n",
       "      <td>0.000042</td>\n",
       "      <td>0.000043</td>\n",
       "      <td>0.000041</td>\n",
       "      <td>0.000039</td>\n",
       "      <td>0.000051</td>\n",
       "      <td>7.404003e-06</td>\n",
       "      <td>0.000058</td>\n",
       "      <td>0.000061</td>\n",
       "      <td>0.000041</td>\n",
       "      <td>0.000040</td>\n",
       "      <td>0.000041</td>\n",
       "      <td>0.000041</td>\n",
       "      <td>0.000070</td>\n",
       "      <td>0.000065</td>\n",
       "      <td>0.000073</td>\n",
       "      <td>0.000066</td>\n",
       "      <td>7.515139e-06</td>\n",
       "      <td>0.000060</td>\n",
       "      <td>0.000049</td>\n",
       "      <td>0.000009</td>\n",
       "      <td>NaN</td>\n",
       "      <td>NaN</td>\n",
       "      <td>NaN</td>\n",
       "      <td>NaN</td>\n",
       "      <td>NaN</td>\n",
       "      <td>NaN</td>\n",
       "      <td>NaN</td>\n",
       "    </tr>\n",
       "    <tr>\n",
       "      <th>000112401</th>\n",
       "      <td>0.003004</td>\n",
       "      <td>0.002772</td>\n",
       "      <td>0.002927</td>\n",
       "      <td>NaN</td>\n",
       "      <td>NaN</td>\n",
       "      <td>NaN</td>\n",
       "      <td>NaN</td>\n",
       "      <td>NaN</td>\n",
       "      <td>NaN</td>\n",
       "      <td>NaN</td>\n",
       "      <td>NaN</td>\n",
       "      <td>NaN</td>\n",
       "      <td>NaN</td>\n",
       "      <td>0.002658</td>\n",
       "      <td>NaN</td>\n",
       "      <td>NaN</td>\n",
       "      <td>NaN</td>\n",
       "      <td>NaN</td>\n",
       "      <td>NaN</td>\n",
       "      <td>NaN</td>\n",
       "      <td>NaN</td>\n",
       "      <td>NaN</td>\n",
       "      <td>NaN</td>\n",
       "      <td>NaN</td>\n",
       "      <td>0.002764</td>\n",
       "      <td>NaN</td>\n",
       "      <td>NaN</td>\n",
       "      <td>NaN</td>\n",
       "      <td>NaN</td>\n",
       "      <td>NaN</td>\n",
       "      <td>NaN</td>\n",
       "      <td>NaN</td>\n",
       "      <td>NaN</td>\n",
       "      <td>NaN</td>\n",
       "      <td>NaN</td>\n",
       "      <td>0.002378</td>\n",
       "      <td>NaN</td>\n",
       "      <td>NaN</td>\n",
       "      <td>NaN</td>\n",
       "      <td>NaN</td>\n",
       "      <td>...</td>\n",
       "      <td>NaN</td>\n",
       "      <td>NaN</td>\n",
       "      <td>NaN</td>\n",
       "      <td>NaN</td>\n",
       "      <td>NaN</td>\n",
       "      <td>NaN</td>\n",
       "      <td>NaN</td>\n",
       "      <td>1.895837e-08</td>\n",
       "      <td>NaN</td>\n",
       "      <td>NaN</td>\n",
       "      <td>NaN</td>\n",
       "      <td>NaN</td>\n",
       "      <td>NaN</td>\n",
       "      <td>NaN</td>\n",
       "      <td>NaN</td>\n",
       "      <td>NaN</td>\n",
       "      <td>NaN</td>\n",
       "      <td>NaN</td>\n",
       "      <td>1.903648e-08</td>\n",
       "      <td>NaN</td>\n",
       "      <td>NaN</td>\n",
       "      <td>NaN</td>\n",
       "      <td>NaN</td>\n",
       "      <td>NaN</td>\n",
       "      <td>NaN</td>\n",
       "      <td>NaN</td>\n",
       "      <td>NaN</td>\n",
       "      <td>NaN</td>\n",
       "      <td>NaN</td>\n",
       "      <td>1.898373e-08</td>\n",
       "      <td>NaN</td>\n",
       "      <td>NaN</td>\n",
       "      <td>NaN</td>\n",
       "      <td>NaN</td>\n",
       "      <td>NaN</td>\n",
       "      <td>NaN</td>\n",
       "      <td>NaN</td>\n",
       "      <td>NaN</td>\n",
       "      <td>NaN</td>\n",
       "      <td>NaN</td>\n",
       "    </tr>\n",
       "    <tr>\n",
       "      <th>000112451</th>\n",
       "      <td>0.002959</td>\n",
       "      <td>0.003105</td>\n",
       "      <td>0.003565</td>\n",
       "      <td>NaN</td>\n",
       "      <td>NaN</td>\n",
       "      <td>NaN</td>\n",
       "      <td>NaN</td>\n",
       "      <td>NaN</td>\n",
       "      <td>NaN</td>\n",
       "      <td>NaN</td>\n",
       "      <td>NaN</td>\n",
       "      <td>NaN</td>\n",
       "      <td>NaN</td>\n",
       "      <td>0.002349</td>\n",
       "      <td>NaN</td>\n",
       "      <td>NaN</td>\n",
       "      <td>NaN</td>\n",
       "      <td>NaN</td>\n",
       "      <td>NaN</td>\n",
       "      <td>NaN</td>\n",
       "      <td>NaN</td>\n",
       "      <td>NaN</td>\n",
       "      <td>NaN</td>\n",
       "      <td>NaN</td>\n",
       "      <td>0.002552</td>\n",
       "      <td>NaN</td>\n",
       "      <td>NaN</td>\n",
       "      <td>NaN</td>\n",
       "      <td>NaN</td>\n",
       "      <td>NaN</td>\n",
       "      <td>NaN</td>\n",
       "      <td>NaN</td>\n",
       "      <td>NaN</td>\n",
       "      <td>NaN</td>\n",
       "      <td>NaN</td>\n",
       "      <td>0.002243</td>\n",
       "      <td>NaN</td>\n",
       "      <td>NaN</td>\n",
       "      <td>NaN</td>\n",
       "      <td>NaN</td>\n",
       "      <td>...</td>\n",
       "      <td>NaN</td>\n",
       "      <td>NaN</td>\n",
       "      <td>NaN</td>\n",
       "      <td>NaN</td>\n",
       "      <td>NaN</td>\n",
       "      <td>NaN</td>\n",
       "      <td>NaN</td>\n",
       "      <td>1.941118e-07</td>\n",
       "      <td>NaN</td>\n",
       "      <td>NaN</td>\n",
       "      <td>NaN</td>\n",
       "      <td>NaN</td>\n",
       "      <td>NaN</td>\n",
       "      <td>NaN</td>\n",
       "      <td>NaN</td>\n",
       "      <td>NaN</td>\n",
       "      <td>NaN</td>\n",
       "      <td>NaN</td>\n",
       "      <td>2.229621e-07</td>\n",
       "      <td>NaN</td>\n",
       "      <td>NaN</td>\n",
       "      <td>NaN</td>\n",
       "      <td>NaN</td>\n",
       "      <td>NaN</td>\n",
       "      <td>NaN</td>\n",
       "      <td>NaN</td>\n",
       "      <td>NaN</td>\n",
       "      <td>NaN</td>\n",
       "      <td>NaN</td>\n",
       "      <td>2.269490e-07</td>\n",
       "      <td>NaN</td>\n",
       "      <td>NaN</td>\n",
       "      <td>NaN</td>\n",
       "      <td>NaN</td>\n",
       "      <td>NaN</td>\n",
       "      <td>NaN</td>\n",
       "      <td>NaN</td>\n",
       "      <td>NaN</td>\n",
       "      <td>NaN</td>\n",
       "      <td>NaN</td>\n",
       "    </tr>\n",
       "    <tr>\n",
       "      <th>000112501</th>\n",
       "      <td>0.002320</td>\n",
       "      <td>0.002493</td>\n",
       "      <td>0.003602</td>\n",
       "      <td>NaN</td>\n",
       "      <td>NaN</td>\n",
       "      <td>NaN</td>\n",
       "      <td>NaN</td>\n",
       "      <td>NaN</td>\n",
       "      <td>NaN</td>\n",
       "      <td>NaN</td>\n",
       "      <td>NaN</td>\n",
       "      <td>NaN</td>\n",
       "      <td>NaN</td>\n",
       "      <td>0.003028</td>\n",
       "      <td>NaN</td>\n",
       "      <td>NaN</td>\n",
       "      <td>NaN</td>\n",
       "      <td>NaN</td>\n",
       "      <td>NaN</td>\n",
       "      <td>NaN</td>\n",
       "      <td>NaN</td>\n",
       "      <td>NaN</td>\n",
       "      <td>NaN</td>\n",
       "      <td>NaN</td>\n",
       "      <td>0.003351</td>\n",
       "      <td>NaN</td>\n",
       "      <td>NaN</td>\n",
       "      <td>NaN</td>\n",
       "      <td>NaN</td>\n",
       "      <td>NaN</td>\n",
       "      <td>NaN</td>\n",
       "      <td>NaN</td>\n",
       "      <td>NaN</td>\n",
       "      <td>NaN</td>\n",
       "      <td>NaN</td>\n",
       "      <td>0.003371</td>\n",
       "      <td>NaN</td>\n",
       "      <td>NaN</td>\n",
       "      <td>NaN</td>\n",
       "      <td>NaN</td>\n",
       "      <td>...</td>\n",
       "      <td>NaN</td>\n",
       "      <td>NaN</td>\n",
       "      <td>NaN</td>\n",
       "      <td>NaN</td>\n",
       "      <td>NaN</td>\n",
       "      <td>NaN</td>\n",
       "      <td>NaN</td>\n",
       "      <td>8.787098e-08</td>\n",
       "      <td>NaN</td>\n",
       "      <td>NaN</td>\n",
       "      <td>NaN</td>\n",
       "      <td>NaN</td>\n",
       "      <td>NaN</td>\n",
       "      <td>NaN</td>\n",
       "      <td>NaN</td>\n",
       "      <td>NaN</td>\n",
       "      <td>NaN</td>\n",
       "      <td>NaN</td>\n",
       "      <td>8.672128e-08</td>\n",
       "      <td>NaN</td>\n",
       "      <td>NaN</td>\n",
       "      <td>NaN</td>\n",
       "      <td>NaN</td>\n",
       "      <td>NaN</td>\n",
       "      <td>NaN</td>\n",
       "      <td>NaN</td>\n",
       "      <td>NaN</td>\n",
       "      <td>NaN</td>\n",
       "      <td>NaN</td>\n",
       "      <td>9.306556e-08</td>\n",
       "      <td>NaN</td>\n",
       "      <td>NaN</td>\n",
       "      <td>NaN</td>\n",
       "      <td>NaN</td>\n",
       "      <td>NaN</td>\n",
       "      <td>NaN</td>\n",
       "      <td>NaN</td>\n",
       "      <td>NaN</td>\n",
       "      <td>NaN</td>\n",
       "      <td>NaN</td>\n",
       "    </tr>\n",
       "  </tbody>\n",
       "</table>\n",
       "<p>5 rows × 1431 columns</p>\n",
       "</div>"
      ],
      "text/plain": [
       "          consumption_per_month            ...    var_lag           \n",
       "columns               seq(t= 0) seq(t= 1)  ... seq(t= 98) seq(t= 99)\n",
       "client_id                                  ...                      \n",
       "000110050              0.024840  0.027990  ...    0.00001   0.000008\n",
       "000110070              0.000067  0.015666  ...        NaN        NaN\n",
       "000112401              0.003004  0.002772  ...        NaN        NaN\n",
       "000112451              0.002959  0.003105  ...        NaN        NaN\n",
       "000112501              0.002320  0.002493  ...        NaN        NaN\n",
       "\n",
       "[5 rows x 1431 columns]"
      ]
     },
     "execution_count": 83,
     "metadata": {
      "tags": []
     },
     "output_type": "execute_result"
    }
   ],
   "source": [
    "final_data_deep_model = grouped_compteur_number.pivot(index='client_id',columns='columns',values=['consumption_per_month','level','quarter','months_number','mean_lag','max_lag','min_lag','std_lag','var_lag']) \n",
    "final_data_deep_model.head()"
   ]
  },
  {
   "cell_type": "code",
   "execution_count": 84,
   "metadata": {
    "colab": {
     "base_uri": "https://localhost:8080/",
     "height": 403
    },
    "colab_type": "code",
    "id": "Ra8TW5CF_-Ym",
    "outputId": "d6b97933-82ca-4bb7-e8a4-0b910305fbee"
   },
   "outputs": [
    {
     "data": {
      "text/html": [
       "<div>\n",
       "<style scoped>\n",
       "    .dataframe tbody tr th:only-of-type {\n",
       "        vertical-align: middle;\n",
       "    }\n",
       "\n",
       "    .dataframe tbody tr th {\n",
       "        vertical-align: top;\n",
       "    }\n",
       "\n",
       "    .dataframe thead th {\n",
       "        text-align: right;\n",
       "    }\n",
       "</style>\n",
       "<table border=\"1\" class=\"dataframe\">\n",
       "  <thead>\n",
       "    <tr style=\"text-align: right;\">\n",
       "      <th></th>\n",
       "      <th>(consumption_per_month, seq(t= 0))</th>\n",
       "      <th>(consumption_per_month, seq(t= 1))</th>\n",
       "      <th>(consumption_per_month, seq(t= 10))</th>\n",
       "      <th>(consumption_per_month, seq(t= 100))</th>\n",
       "      <th>(consumption_per_month, seq(t= 101))</th>\n",
       "      <th>(consumption_per_month, seq(t= 102))</th>\n",
       "      <th>(consumption_per_month, seq(t= 103))</th>\n",
       "      <th>(consumption_per_month, seq(t= 104))</th>\n",
       "      <th>(consumption_per_month, seq(t= 105))</th>\n",
       "      <th>(consumption_per_month, seq(t= 106))</th>\n",
       "      <th>(consumption_per_month, seq(t= 107))</th>\n",
       "      <th>(consumption_per_month, seq(t= 108))</th>\n",
       "      <th>(consumption_per_month, seq(t= 109))</th>\n",
       "      <th>(consumption_per_month, seq(t= 11))</th>\n",
       "      <th>(consumption_per_month, seq(t= 110))</th>\n",
       "      <th>(consumption_per_month, seq(t= 111))</th>\n",
       "      <th>(consumption_per_month, seq(t= 112))</th>\n",
       "      <th>(consumption_per_month, seq(t= 113))</th>\n",
       "      <th>(consumption_per_month, seq(t= 114))</th>\n",
       "      <th>(consumption_per_month, seq(t= 115))</th>\n",
       "      <th>(consumption_per_month, seq(t= 116))</th>\n",
       "      <th>(consumption_per_month, seq(t= 117))</th>\n",
       "      <th>(consumption_per_month, seq(t= 118))</th>\n",
       "      <th>(consumption_per_month, seq(t= 119))</th>\n",
       "      <th>(consumption_per_month, seq(t= 12))</th>\n",
       "      <th>(consumption_per_month, seq(t= 120))</th>\n",
       "      <th>(consumption_per_month, seq(t= 121))</th>\n",
       "      <th>(consumption_per_month, seq(t= 122))</th>\n",
       "      <th>(consumption_per_month, seq(t= 123))</th>\n",
       "      <th>(consumption_per_month, seq(t= 124))</th>\n",
       "      <th>(consumption_per_month, seq(t= 125))</th>\n",
       "      <th>(consumption_per_month, seq(t= 126))</th>\n",
       "      <th>(consumption_per_month, seq(t= 127))</th>\n",
       "      <th>(consumption_per_month, seq(t= 128))</th>\n",
       "      <th>(consumption_per_month, seq(t= 129))</th>\n",
       "      <th>(consumption_per_month, seq(t= 13))</th>\n",
       "      <th>(consumption_per_month, seq(t= 130))</th>\n",
       "      <th>(consumption_per_month, seq(t= 131))</th>\n",
       "      <th>(consumption_per_month, seq(t= 132))</th>\n",
       "      <th>(consumption_per_month, seq(t= 133))</th>\n",
       "      <th>...</th>\n",
       "      <th>(var_lag, seq(t= 99))</th>\n",
       "      <th>district</th>\n",
       "      <th>client_catg</th>\n",
       "      <th>region</th>\n",
       "      <th>creation</th>\n",
       "      <th>Fraud</th>\n",
       "      <th>how_many_counter</th>\n",
       "      <th>counter_number</th>\n",
       "      <th>end</th>\n",
       "      <th>mean_consumption</th>\n",
       "      <th>min_consumption</th>\n",
       "      <th>std_consumption</th>\n",
       "      <th>max_consumption</th>\n",
       "      <th>mean_quarter1</th>\n",
       "      <th>mean_quarter2</th>\n",
       "      <th>mean_quarter3</th>\n",
       "      <th>mean_quarter4</th>\n",
       "      <th>min_quarter1</th>\n",
       "      <th>min_quarter2</th>\n",
       "      <th>min_quarter3</th>\n",
       "      <th>min_quarter4</th>\n",
       "      <th>max_quarter1</th>\n",
       "      <th>max_quarter2</th>\n",
       "      <th>max_quarter3</th>\n",
       "      <th>max_quarter4</th>\n",
       "      <th>num_observ</th>\n",
       "      <th>var_consumption</th>\n",
       "      <th>q25</th>\n",
       "      <th>q75</th>\n",
       "      <th>q10</th>\n",
       "      <th>q90</th>\n",
       "      <th>Range_consump</th>\n",
       "      <th>Q</th>\n",
       "      <th>CD</th>\n",
       "      <th>BSD</th>\n",
       "      <th>VD</th>\n",
       "      <th>CDq</th>\n",
       "      <th>counter_coefficient</th>\n",
       "      <th>Tarif</th>\n",
       "      <th>seq_len</th>\n",
       "    </tr>\n",
       "    <tr>\n",
       "      <th>client_id</th>\n",
       "      <th></th>\n",
       "      <th></th>\n",
       "      <th></th>\n",
       "      <th></th>\n",
       "      <th></th>\n",
       "      <th></th>\n",
       "      <th></th>\n",
       "      <th></th>\n",
       "      <th></th>\n",
       "      <th></th>\n",
       "      <th></th>\n",
       "      <th></th>\n",
       "      <th></th>\n",
       "      <th></th>\n",
       "      <th></th>\n",
       "      <th></th>\n",
       "      <th></th>\n",
       "      <th></th>\n",
       "      <th></th>\n",
       "      <th></th>\n",
       "      <th></th>\n",
       "      <th></th>\n",
       "      <th></th>\n",
       "      <th></th>\n",
       "      <th></th>\n",
       "      <th></th>\n",
       "      <th></th>\n",
       "      <th></th>\n",
       "      <th></th>\n",
       "      <th></th>\n",
       "      <th></th>\n",
       "      <th></th>\n",
       "      <th></th>\n",
       "      <th></th>\n",
       "      <th></th>\n",
       "      <th></th>\n",
       "      <th></th>\n",
       "      <th></th>\n",
       "      <th></th>\n",
       "      <th></th>\n",
       "      <th></th>\n",
       "      <th></th>\n",
       "      <th></th>\n",
       "      <th></th>\n",
       "      <th></th>\n",
       "      <th></th>\n",
       "      <th></th>\n",
       "      <th></th>\n",
       "      <th></th>\n",
       "      <th></th>\n",
       "      <th></th>\n",
       "      <th></th>\n",
       "      <th></th>\n",
       "      <th></th>\n",
       "      <th></th>\n",
       "      <th></th>\n",
       "      <th></th>\n",
       "      <th></th>\n",
       "      <th></th>\n",
       "      <th></th>\n",
       "      <th></th>\n",
       "      <th></th>\n",
       "      <th></th>\n",
       "      <th></th>\n",
       "      <th></th>\n",
       "      <th></th>\n",
       "      <th></th>\n",
       "      <th></th>\n",
       "      <th></th>\n",
       "      <th></th>\n",
       "      <th></th>\n",
       "      <th></th>\n",
       "      <th></th>\n",
       "      <th></th>\n",
       "      <th></th>\n",
       "      <th></th>\n",
       "      <th></th>\n",
       "      <th></th>\n",
       "      <th></th>\n",
       "      <th></th>\n",
       "      <th></th>\n",
       "    </tr>\n",
       "  </thead>\n",
       "  <tbody>\n",
       "    <tr>\n",
       "      <th>000110050</th>\n",
       "      <td>0.024840</td>\n",
       "      <td>0.027990</td>\n",
       "      <td>0.054526</td>\n",
       "      <td>0.023873</td>\n",
       "      <td>0.022863</td>\n",
       "      <td>0.022956</td>\n",
       "      <td>0.021163</td>\n",
       "      <td>0.015219</td>\n",
       "      <td>0.016467</td>\n",
       "      <td>0.016571</td>\n",
       "      <td>0.021366</td>\n",
       "      <td>0.019474</td>\n",
       "      <td>0.019485</td>\n",
       "      <td>0.046719</td>\n",
       "      <td>0.023757</td>\n",
       "      <td>0.017953</td>\n",
       "      <td>0.01595</td>\n",
       "      <td>0.021261</td>\n",
       "      <td>0.023531</td>\n",
       "      <td>0.024849</td>\n",
       "      <td>0.023757</td>\n",
       "      <td>0.031471</td>\n",
       "      <td>0.018609</td>\n",
       "      <td>0.021128</td>\n",
       "      <td>0.034524</td>\n",
       "      <td>0.022689</td>\n",
       "      <td>0.027362</td>\n",
       "      <td>0.021383</td>\n",
       "      <td>0.025824</td>\n",
       "      <td>0.028018</td>\n",
       "      <td>0.024703</td>\n",
       "      <td>0.026874</td>\n",
       "      <td>0.025963</td>\n",
       "      <td>0.025222</td>\n",
       "      <td>0.020658</td>\n",
       "      <td>0.045767</td>\n",
       "      <td>0.024564</td>\n",
       "      <td>0.026166</td>\n",
       "      <td>0.023972</td>\n",
       "      <td>0.027489</td>\n",
       "      <td>...</td>\n",
       "      <td>0.000008</td>\n",
       "      <td>60</td>\n",
       "      <td>51</td>\n",
       "      <td>101</td>\n",
       "      <td>2004-08-10</td>\n",
       "      <td>0</td>\n",
       "      <td>1</td>\n",
       "      <td>124416</td>\n",
       "      <td>2019</td>\n",
       "      <td>4600.844807</td>\n",
       "      <td>0.000</td>\n",
       "      <td>1897.136498</td>\n",
       "      <td>14303.00</td>\n",
       "      <td>4436.192593</td>\n",
       "      <td>4987.448864</td>\n",
       "      <td>4487.833333</td>\n",
       "      <td>2748.000000</td>\n",
       "      <td>0.000</td>\n",
       "      <td>1053.0</td>\n",
       "      <td>4279.500</td>\n",
       "      <td>2748.000</td>\n",
       "      <td>10021.00</td>\n",
       "      <td>14303.00</td>\n",
       "      <td>4699.0</td>\n",
       "      <td>2748.00</td>\n",
       "      <td>138</td>\n",
       "      <td>3.599127e+06</td>\n",
       "      <td>3576.0000</td>\n",
       "      <td>4854.0000</td>\n",
       "      <td>3009.50</td>\n",
       "      <td>7140.025</td>\n",
       "      <td>2.000000</td>\n",
       "      <td>639.0000</td>\n",
       "      <td>0.151601</td>\n",
       "      <td>0.412345</td>\n",
       "      <td>782.275222</td>\n",
       "      <td>0.406967</td>\n",
       "      <td>1.0</td>\n",
       "      <td>11.0</td>\n",
       "      <td>138</td>\n",
       "    </tr>\n",
       "    <tr>\n",
       "      <th>000110070</th>\n",
       "      <td>0.000067</td>\n",
       "      <td>0.015666</td>\n",
       "      <td>0.012381</td>\n",
       "      <td>NaN</td>\n",
       "      <td>NaN</td>\n",
       "      <td>NaN</td>\n",
       "      <td>NaN</td>\n",
       "      <td>NaN</td>\n",
       "      <td>NaN</td>\n",
       "      <td>NaN</td>\n",
       "      <td>NaN</td>\n",
       "      <td>NaN</td>\n",
       "      <td>NaN</td>\n",
       "      <td>0.018253</td>\n",
       "      <td>NaN</td>\n",
       "      <td>NaN</td>\n",
       "      <td>NaN</td>\n",
       "      <td>NaN</td>\n",
       "      <td>NaN</td>\n",
       "      <td>NaN</td>\n",
       "      <td>NaN</td>\n",
       "      <td>NaN</td>\n",
       "      <td>NaN</td>\n",
       "      <td>NaN</td>\n",
       "      <td>0.016931</td>\n",
       "      <td>NaN</td>\n",
       "      <td>NaN</td>\n",
       "      <td>NaN</td>\n",
       "      <td>NaN</td>\n",
       "      <td>NaN</td>\n",
       "      <td>NaN</td>\n",
       "      <td>NaN</td>\n",
       "      <td>NaN</td>\n",
       "      <td>NaN</td>\n",
       "      <td>NaN</td>\n",
       "      <td>0.012613</td>\n",
       "      <td>NaN</td>\n",
       "      <td>NaN</td>\n",
       "      <td>NaN</td>\n",
       "      <td>NaN</td>\n",
       "      <td>...</td>\n",
       "      <td>NaN</td>\n",
       "      <td>60</td>\n",
       "      <td>51</td>\n",
       "      <td>101</td>\n",
       "      <td>2008-08-10</td>\n",
       "      <td>0</td>\n",
       "      <td>1</td>\n",
       "      <td>171147</td>\n",
       "      <td>2019</td>\n",
       "      <td>2745.472222</td>\n",
       "      <td>0.000</td>\n",
       "      <td>941.154713</td>\n",
       "      <td>5487.00</td>\n",
       "      <td>2762.645480</td>\n",
       "      <td>2687.744444</td>\n",
       "      <td>3016.166667</td>\n",
       "      <td>2652.000000</td>\n",
       "      <td>0.000</td>\n",
       "      <td>683.0</td>\n",
       "      <td>2534.000</td>\n",
       "      <td>2652.000</td>\n",
       "      <td>5021.00</td>\n",
       "      <td>5487.00</td>\n",
       "      <td>3637.0</td>\n",
       "      <td>2652.00</td>\n",
       "      <td>93</td>\n",
       "      <td>8.857722e+05</td>\n",
       "      <td>2289.0000</td>\n",
       "      <td>3209.0000</td>\n",
       "      <td>1868.00</td>\n",
       "      <td>3630.800</td>\n",
       "      <td>2.000000</td>\n",
       "      <td>460.0000</td>\n",
       "      <td>0.167334</td>\n",
       "      <td>0.342802</td>\n",
       "      <td>322.630179</td>\n",
       "      <td>0.320579</td>\n",
       "      <td>1.0</td>\n",
       "      <td>11.0</td>\n",
       "      <td>93</td>\n",
       "    </tr>\n",
       "    <tr>\n",
       "      <th>000112401</th>\n",
       "      <td>0.003004</td>\n",
       "      <td>0.002772</td>\n",
       "      <td>0.002927</td>\n",
       "      <td>NaN</td>\n",
       "      <td>NaN</td>\n",
       "      <td>NaN</td>\n",
       "      <td>NaN</td>\n",
       "      <td>NaN</td>\n",
       "      <td>NaN</td>\n",
       "      <td>NaN</td>\n",
       "      <td>NaN</td>\n",
       "      <td>NaN</td>\n",
       "      <td>NaN</td>\n",
       "      <td>0.002658</td>\n",
       "      <td>NaN</td>\n",
       "      <td>NaN</td>\n",
       "      <td>NaN</td>\n",
       "      <td>NaN</td>\n",
       "      <td>NaN</td>\n",
       "      <td>NaN</td>\n",
       "      <td>NaN</td>\n",
       "      <td>NaN</td>\n",
       "      <td>NaN</td>\n",
       "      <td>NaN</td>\n",
       "      <td>0.002764</td>\n",
       "      <td>NaN</td>\n",
       "      <td>NaN</td>\n",
       "      <td>NaN</td>\n",
       "      <td>NaN</td>\n",
       "      <td>NaN</td>\n",
       "      <td>NaN</td>\n",
       "      <td>NaN</td>\n",
       "      <td>NaN</td>\n",
       "      <td>NaN</td>\n",
       "      <td>NaN</td>\n",
       "      <td>0.002378</td>\n",
       "      <td>NaN</td>\n",
       "      <td>NaN</td>\n",
       "      <td>NaN</td>\n",
       "      <td>NaN</td>\n",
       "      <td>...</td>\n",
       "      <td>NaN</td>\n",
       "      <td>60</td>\n",
       "      <td>11</td>\n",
       "      <td>101</td>\n",
       "      <td>2000-07-20</td>\n",
       "      <td>0</td>\n",
       "      <td>1</td>\n",
       "      <td>300317</td>\n",
       "      <td>2019</td>\n",
       "      <td>441.000000</td>\n",
       "      <td>185.500</td>\n",
       "      <td>67.418522</td>\n",
       "      <td>541.00</td>\n",
       "      <td>452.067308</td>\n",
       "      <td>423.250000</td>\n",
       "      <td>452.625000</td>\n",
       "      <td>441.000000</td>\n",
       "      <td>410.500</td>\n",
       "      <td>185.5</td>\n",
       "      <td>348.500</td>\n",
       "      <td>185.500</td>\n",
       "      <td>540.25</td>\n",
       "      <td>509.50</td>\n",
       "      <td>541.0</td>\n",
       "      <td>541.00</td>\n",
       "      <td>36</td>\n",
       "      <td>4.545257e+03</td>\n",
       "      <td>410.3125</td>\n",
       "      <td>478.9375</td>\n",
       "      <td>371.75</td>\n",
       "      <td>511.625</td>\n",
       "      <td>0.978665</td>\n",
       "      <td>34.3125</td>\n",
       "      <td>0.077172</td>\n",
       "      <td>0.152876</td>\n",
       "      <td>10.306706</td>\n",
       "      <td>0.158342</td>\n",
       "      <td>1.0</td>\n",
       "      <td>11.0</td>\n",
       "      <td>36</td>\n",
       "    </tr>\n",
       "    <tr>\n",
       "      <th>000112451</th>\n",
       "      <td>0.002959</td>\n",
       "      <td>0.003105</td>\n",
       "      <td>0.003565</td>\n",
       "      <td>NaN</td>\n",
       "      <td>NaN</td>\n",
       "      <td>NaN</td>\n",
       "      <td>NaN</td>\n",
       "      <td>NaN</td>\n",
       "      <td>NaN</td>\n",
       "      <td>NaN</td>\n",
       "      <td>NaN</td>\n",
       "      <td>NaN</td>\n",
       "      <td>NaN</td>\n",
       "      <td>0.002349</td>\n",
       "      <td>NaN</td>\n",
       "      <td>NaN</td>\n",
       "      <td>NaN</td>\n",
       "      <td>NaN</td>\n",
       "      <td>NaN</td>\n",
       "      <td>NaN</td>\n",
       "      <td>NaN</td>\n",
       "      <td>NaN</td>\n",
       "      <td>NaN</td>\n",
       "      <td>NaN</td>\n",
       "      <td>0.002552</td>\n",
       "      <td>NaN</td>\n",
       "      <td>NaN</td>\n",
       "      <td>NaN</td>\n",
       "      <td>NaN</td>\n",
       "      <td>NaN</td>\n",
       "      <td>NaN</td>\n",
       "      <td>NaN</td>\n",
       "      <td>NaN</td>\n",
       "      <td>NaN</td>\n",
       "      <td>NaN</td>\n",
       "      <td>0.002243</td>\n",
       "      <td>NaN</td>\n",
       "      <td>NaN</td>\n",
       "      <td>NaN</td>\n",
       "      <td>NaN</td>\n",
       "      <td>...</td>\n",
       "      <td>NaN</td>\n",
       "      <td>60</td>\n",
       "      <td>11</td>\n",
       "      <td>101</td>\n",
       "      <td>2000-07-20</td>\n",
       "      <td>0</td>\n",
       "      <td>1</td>\n",
       "      <td>300115</td>\n",
       "      <td>2019</td>\n",
       "      <td>467.689189</td>\n",
       "      <td>254.000</td>\n",
       "      <td>70.796710</td>\n",
       "      <td>614.25</td>\n",
       "      <td>484.250000</td>\n",
       "      <td>456.383333</td>\n",
       "      <td>462.611111</td>\n",
       "      <td>467.689189</td>\n",
       "      <td>404.750</td>\n",
       "      <td>254.0</td>\n",
       "      <td>372.250</td>\n",
       "      <td>254.000</td>\n",
       "      <td>578.00</td>\n",
       "      <td>614.25</td>\n",
       "      <td>522.5</td>\n",
       "      <td>614.25</td>\n",
       "      <td>37</td>\n",
       "      <td>5.012174e+03</td>\n",
       "      <td>421.3750</td>\n",
       "      <td>509.7500</td>\n",
       "      <td>395.80</td>\n",
       "      <td>559.350</td>\n",
       "      <td>0.829830</td>\n",
       "      <td>44.1875</td>\n",
       "      <td>0.094912</td>\n",
       "      <td>0.151376</td>\n",
       "      <td>10.716891</td>\n",
       "      <td>0.171230</td>\n",
       "      <td>1.0</td>\n",
       "      <td>11.0</td>\n",
       "      <td>37</td>\n",
       "    </tr>\n",
       "    <tr>\n",
       "      <th>000112501</th>\n",
       "      <td>0.002320</td>\n",
       "      <td>0.002493</td>\n",
       "      <td>0.003602</td>\n",
       "      <td>NaN</td>\n",
       "      <td>NaN</td>\n",
       "      <td>NaN</td>\n",
       "      <td>NaN</td>\n",
       "      <td>NaN</td>\n",
       "      <td>NaN</td>\n",
       "      <td>NaN</td>\n",
       "      <td>NaN</td>\n",
       "      <td>NaN</td>\n",
       "      <td>NaN</td>\n",
       "      <td>0.003028</td>\n",
       "      <td>NaN</td>\n",
       "      <td>NaN</td>\n",
       "      <td>NaN</td>\n",
       "      <td>NaN</td>\n",
       "      <td>NaN</td>\n",
       "      <td>NaN</td>\n",
       "      <td>NaN</td>\n",
       "      <td>NaN</td>\n",
       "      <td>NaN</td>\n",
       "      <td>NaN</td>\n",
       "      <td>0.003351</td>\n",
       "      <td>NaN</td>\n",
       "      <td>NaN</td>\n",
       "      <td>NaN</td>\n",
       "      <td>NaN</td>\n",
       "      <td>NaN</td>\n",
       "      <td>NaN</td>\n",
       "      <td>NaN</td>\n",
       "      <td>NaN</td>\n",
       "      <td>NaN</td>\n",
       "      <td>NaN</td>\n",
       "      <td>0.003371</td>\n",
       "      <td>NaN</td>\n",
       "      <td>NaN</td>\n",
       "      <td>NaN</td>\n",
       "      <td>NaN</td>\n",
       "      <td>...</td>\n",
       "      <td>NaN</td>\n",
       "      <td>60</td>\n",
       "      <td>11</td>\n",
       "      <td>101</td>\n",
       "      <td>2000-07-20</td>\n",
       "      <td>0</td>\n",
       "      <td>1</td>\n",
       "      <td>300401</td>\n",
       "      <td>2019</td>\n",
       "      <td>520.219595</td>\n",
       "      <td>371.125</td>\n",
       "      <td>77.916402</td>\n",
       "      <td>687.50</td>\n",
       "      <td>517.461538</td>\n",
       "      <td>543.700000</td>\n",
       "      <td>485.069444</td>\n",
       "      <td>520.219595</td>\n",
       "      <td>379.375</td>\n",
       "      <td>379.5</td>\n",
       "      <td>371.125</td>\n",
       "      <td>371.125</td>\n",
       "      <td>628.50</td>\n",
       "      <td>687.50</td>\n",
       "      <td>619.0</td>\n",
       "      <td>687.50</td>\n",
       "      <td>37</td>\n",
       "      <td>6.070966e+03</td>\n",
       "      <td>478.5000</td>\n",
       "      <td>579.7500</td>\n",
       "      <td>392.35</td>\n",
       "      <td>604.750</td>\n",
       "      <td>0.597709</td>\n",
       "      <td>50.6250</td>\n",
       "      <td>0.095677</td>\n",
       "      <td>0.149776</td>\n",
       "      <td>11.670006</td>\n",
       "      <td>0.213018</td>\n",
       "      <td>1.0</td>\n",
       "      <td>11.0</td>\n",
       "      <td>37</td>\n",
       "    </tr>\n",
       "  </tbody>\n",
       "</table>\n",
       "<p>5 rows × 1470 columns</p>\n",
       "</div>"
      ],
      "text/plain": [
       "           (consumption_per_month, seq(t= 0))  ...  seq_len\n",
       "client_id                                      ...         \n",
       "000110050                            0.024840  ...      138\n",
       "000110070                            0.000067  ...       93\n",
       "000112401                            0.003004  ...       36\n",
       "000112451                            0.002959  ...       37\n",
       "000112501                            0.002320  ...       37\n",
       "\n",
       "[5 rows x 1470 columns]"
      ]
     },
     "execution_count": 84,
     "metadata": {
      "tags": []
     },
     "output_type": "execute_result"
    }
   ],
   "source": [
    "grouped_compteur_number = grouped_compteur_number.set_index('client_id')\n",
    "grouped_compteur_number = grouped_compteur_number.loc[ML_client.index,:]\n",
    "grouped_compteur_number  = grouped_compteur_number.reset_index()\n",
    "ML_client = ML_client.reset_index()\n",
    "DL_client = grouped_compteur_number[['client_id','counter_coefficient','Tarif','seq_len']].drop_duplicates()\n",
    "DL_client['counter_coefficient'] = DL_client['counter_coefficient'].astype(float)\n",
    "DL_client['Tarif'] = DL_client['Tarif'].astype(float)\n",
    "DL_client = DL_client.groupby('client_id')[['counter_coefficient','Tarif','seq_len']].agg('max')\n",
    "DL_client = DL_client.reset_index()\n",
    "ML_client = ML_client.set_index('client_id')\n",
    "ML_client = ML_client.loc[DL_client['client_id'].unique(),:]\n",
    "DL_client = DL_client.set_index('client_id')\n",
    "DL_client = pd.concat([ML_client,DL_client],axis=1)\n",
    "final_data_deep_model = pd.concat([final_data_deep_model,DL_client],axis=1)\n",
    "final_data_deep_model.head()"
   ]
  },
  {
   "cell_type": "code",
   "execution_count": 85,
   "metadata": {
    "colab": {
     "base_uri": "https://localhost:8080/",
     "height": 102
    },
    "colab_type": "code",
    "id": "XpI6oL6kABT_",
    "outputId": "126a7833-23a4-42d1-c71f-42c1e67ea42e"
   },
   "outputs": [
    {
     "name": "stdout",
     "output_type": "stream",
     "text": [
      "<class 'pandas.core.frame.DataFrame'>\n",
      "Index: 64853 entries, 000110050 to 258982002\n",
      "Columns: 1470 entries, ('consumption_per_month', 'seq(t= 0)') to seq_len\n",
      "dtypes: datetime64[ns](1), float64(1460), int64(8), object(1)\n",
      "memory usage: 727.8+ MB\n"
     ]
    }
   ],
   "source": [
    "final_data_deep_model.info()"
   ]
  },
  {
   "cell_type": "markdown",
   "metadata": {
    "colab_type": "text",
    "id": "R4-Civ9JWeCV"
   },
   "source": [
    "# Train Test split "
   ]
  },
  {
   "cell_type": "code",
   "execution_count": 0,
   "metadata": {
    "colab": {},
    "colab_type": "code",
    "id": "BtMdk8KJAS55"
   },
   "outputs": [],
   "source": [
    "from sklearn.model_selection import train_test_split\n",
    "train_client , test_client  = train_test_split(ML_client,test_size = 0.2 , random_state=42 , stratify = ML_client['Fraud'].values)"
   ]
  },
  {
   "cell_type": "code",
   "execution_count": 0,
   "metadata": {
    "colab": {},
    "colab_type": "code",
    "id": "IwglxVtAWijE"
   },
   "outputs": [],
   "source": [
    "DL_train_client = final_data_deep_model.loc[train_client.index , : ]\n",
    "DL_test_client = final_data_deep_model.loc[test_client.index , : ]"
   ]
  },
  {
   "cell_type": "code",
   "execution_count": 0,
   "metadata": {
    "colab": {},
    "colab_type": "code",
    "id": "iVurZhodWjfA"
   },
   "outputs": [],
   "source": [
    "train_client.to_csv('/content/drive/My Drive/colab/train_client.csv')\n",
    "test_client.to_csv('/content/drive/My Drive/colab/test_client.csv')\n",
    "DL_train_client.to_csv('/content/drive/My Drive/colab/DL_train_client.csv')\n",
    "DL_test_client.to_csv('/content/drive/My Drive/colab/DL_test_client.csv')"
   ]
  },
  {
   "cell_type": "code",
   "execution_count": 89,
   "metadata": {
    "colab": {
     "base_uri": "https://localhost:8080/",
     "height": 34
    },
    "colab_type": "code",
    "id": "zHRm7giSa7qH",
    "outputId": "fae9a679-fb91-4d79-ea5d-b6e43ea99b1b"
   },
   "outputs": [
    {
     "data": {
      "text/plain": [
       "3"
      ]
     },
     "execution_count": 89,
     "metadata": {
      "tags": []
     },
     "output_type": "execute_result"
    }
   ],
   "source": [
    "gc.collect()"
   ]
  },
  {
   "cell_type": "code",
   "execution_count": 0,
   "metadata": {
    "colab": {},
    "colab_type": "code",
    "id": "x7nW5bWc0oFm"
   },
   "outputs": [],
   "source": []
  }
 ],
 "metadata": {
  "colab": {
   "collapsed_sections": [],
   "name": "Steg pb.ipynb",
   "provenance": []
  },
  "kernelspec": {
   "display_name": "Python 3",
   "language": "python",
   "name": "python3"
  },
  "language_info": {
   "codemirror_mode": {
    "name": "ipython",
    "version": 3
   },
   "file_extension": ".py",
   "mimetype": "text/x-python",
   "name": "python",
   "nbconvert_exporter": "python",
   "pygments_lexer": "ipython3",
   "version": "3.7.4"
  },
  "widgets": {
   "application/vnd.jupyter.widget-state+json": {
    "201732e9ce9d4c6b84bbada27d4c6626": {
     "model_module": "@jupyter-widgets/base",
     "model_name": "LayoutModel",
     "state": {
      "_model_module": "@jupyter-widgets/base",
      "_model_module_version": "1.2.0",
      "_model_name": "LayoutModel",
      "_view_count": null,
      "_view_module": "@jupyter-widgets/base",
      "_view_module_version": "1.2.0",
      "_view_name": "LayoutView",
      "align_content": null,
      "align_items": null,
      "align_self": null,
      "border": null,
      "bottom": null,
      "display": null,
      "flex": null,
      "flex_flow": null,
      "grid_area": null,
      "grid_auto_columns": null,
      "grid_auto_flow": null,
      "grid_auto_rows": null,
      "grid_column": null,
      "grid_gap": null,
      "grid_row": null,
      "grid_template_areas": null,
      "grid_template_columns": null,
      "grid_template_rows": null,
      "height": null,
      "justify_content": null,
      "justify_items": null,
      "left": null,
      "margin": null,
      "max_height": null,
      "max_width": null,
      "min_height": null,
      "min_width": null,
      "object_fit": null,
      "object_position": null,
      "order": null,
      "overflow": null,
      "overflow_x": null,
      "overflow_y": null,
      "padding": null,
      "right": null,
      "top": null,
      "visibility": null,
      "width": null
     }
    },
    "2095b701862b47278414efb9f0cca659": {
     "model_module": "@jupyter-widgets/base",
     "model_name": "LayoutModel",
     "state": {
      "_model_module": "@jupyter-widgets/base",
      "_model_module_version": "1.2.0",
      "_model_name": "LayoutModel",
      "_view_count": null,
      "_view_module": "@jupyter-widgets/base",
      "_view_module_version": "1.2.0",
      "_view_name": "LayoutView",
      "align_content": null,
      "align_items": null,
      "align_self": null,
      "border": null,
      "bottom": null,
      "display": null,
      "flex": null,
      "flex_flow": null,
      "grid_area": null,
      "grid_auto_columns": null,
      "grid_auto_flow": null,
      "grid_auto_rows": null,
      "grid_column": null,
      "grid_gap": null,
      "grid_row": null,
      "grid_template_areas": null,
      "grid_template_columns": null,
      "grid_template_rows": null,
      "height": null,
      "justify_content": null,
      "justify_items": null,
      "left": null,
      "margin": null,
      "max_height": null,
      "max_width": null,
      "min_height": null,
      "min_width": null,
      "object_fit": null,
      "object_position": null,
      "order": null,
      "overflow": null,
      "overflow_x": null,
      "overflow_y": null,
      "padding": null,
      "right": null,
      "top": null,
      "visibility": null,
      "width": null
     }
    },
    "324fd718b5a2483fba29243dfc753bec": {
     "model_module": "@jupyter-widgets/controls",
     "model_name": "ProgressStyleModel",
     "state": {
      "_model_module": "@jupyter-widgets/controls",
      "_model_module_version": "1.5.0",
      "_model_name": "ProgressStyleModel",
      "_view_count": null,
      "_view_module": "@jupyter-widgets/base",
      "_view_module_version": "1.2.0",
      "_view_name": "StyleView",
      "bar_color": null,
      "description_width": "initial"
     }
    },
    "4ca1ca351f314919822fcbe6470d0a9d": {
     "model_module": "@jupyter-widgets/controls",
     "model_name": "HBoxModel",
     "state": {
      "_dom_classes": [],
      "_model_module": "@jupyter-widgets/controls",
      "_model_module_version": "1.5.0",
      "_model_name": "HBoxModel",
      "_view_count": null,
      "_view_module": "@jupyter-widgets/controls",
      "_view_module_version": "1.5.0",
      "_view_name": "HBoxView",
      "box_style": "",
      "children": [
       "IPY_MODEL_8f60af3794954e84acdf3d555c15d9c5",
       "IPY_MODEL_d11629f29f324a389b22ec6bff82a6dc"
      ],
      "layout": "IPY_MODEL_b55393664fb540e987517f48cd3b9da6"
     }
    },
    "8f60af3794954e84acdf3d555c15d9c5": {
     "model_module": "@jupyter-widgets/controls",
     "model_name": "FloatProgressModel",
     "state": {
      "_dom_classes": [],
      "_model_module": "@jupyter-widgets/controls",
      "_model_module_version": "1.5.0",
      "_model_name": "FloatProgressModel",
      "_view_count": null,
      "_view_module": "@jupyter-widgets/controls",
      "_view_module_version": "1.5.0",
      "_view_name": "ProgressView",
      "bar_style": "success",
      "description": "100%",
      "description_tooltip": null,
      "layout": "IPY_MODEL_2095b701862b47278414efb9f0cca659",
      "max": 64853,
      "min": 0,
      "orientation": "horizontal",
      "style": "IPY_MODEL_324fd718b5a2483fba29243dfc753bec",
      "value": 64853
     }
    },
    "b55393664fb540e987517f48cd3b9da6": {
     "model_module": "@jupyter-widgets/base",
     "model_name": "LayoutModel",
     "state": {
      "_model_module": "@jupyter-widgets/base",
      "_model_module_version": "1.2.0",
      "_model_name": "LayoutModel",
      "_view_count": null,
      "_view_module": "@jupyter-widgets/base",
      "_view_module_version": "1.2.0",
      "_view_name": "LayoutView",
      "align_content": null,
      "align_items": null,
      "align_self": null,
      "border": null,
      "bottom": null,
      "display": null,
      "flex": null,
      "flex_flow": null,
      "grid_area": null,
      "grid_auto_columns": null,
      "grid_auto_flow": null,
      "grid_auto_rows": null,
      "grid_column": null,
      "grid_gap": null,
      "grid_row": null,
      "grid_template_areas": null,
      "grid_template_columns": null,
      "grid_template_rows": null,
      "height": null,
      "justify_content": null,
      "justify_items": null,
      "left": null,
      "margin": null,
      "max_height": null,
      "max_width": null,
      "min_height": null,
      "min_width": null,
      "object_fit": null,
      "object_position": null,
      "order": null,
      "overflow": null,
      "overflow_x": null,
      "overflow_y": null,
      "padding": null,
      "right": null,
      "top": null,
      "visibility": null,
      "width": null
     }
    },
    "d11629f29f324a389b22ec6bff82a6dc": {
     "model_module": "@jupyter-widgets/controls",
     "model_name": "HTMLModel",
     "state": {
      "_dom_classes": [],
      "_model_module": "@jupyter-widgets/controls",
      "_model_module_version": "1.5.0",
      "_model_name": "HTMLModel",
      "_view_count": null,
      "_view_module": "@jupyter-widgets/controls",
      "_view_module_version": "1.5.0",
      "_view_name": "HTMLView",
      "description": "",
      "description_tooltip": null,
      "layout": "IPY_MODEL_201732e9ce9d4c6b84bbada27d4c6626",
      "placeholder": "​",
      "style": "IPY_MODEL_eb0e3a7c5e5540389253d7aad022c41a",
      "value": " 64853/64853 [02:58&lt;00:00, 362.75it/s]"
     }
    },
    "eb0e3a7c5e5540389253d7aad022c41a": {
     "model_module": "@jupyter-widgets/controls",
     "model_name": "DescriptionStyleModel",
     "state": {
      "_model_module": "@jupyter-widgets/controls",
      "_model_module_version": "1.5.0",
      "_model_name": "DescriptionStyleModel",
      "_view_count": null,
      "_view_module": "@jupyter-widgets/base",
      "_view_module_version": "1.2.0",
      "_view_name": "StyleView",
      "description_width": ""
     }
    }
   }
  }
 },
 "nbformat": 4,
 "nbformat_minor": 1
}
