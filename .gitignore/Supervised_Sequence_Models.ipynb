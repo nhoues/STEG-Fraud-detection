{
  "nbformat": 4,
  "nbformat_minor": 0,
  "metadata": {
    "colab": {
      "name": "Supervised Sequence Models .ipynb",
      "provenance": [],
      "private_outputs": true,
      "collapsed_sections": []
    },
    "kernelspec": {
      "name": "python3",
      "display_name": "Python 3"
    },
    "accelerator": "GPU"
  },
  "cells": [
    {
      "cell_type": "markdown",
      "metadata": {
        "id": "Kc9uy9zvlrhr",
        "colab_type": "text"
      },
      "source": [
        "<h2> <center><strong>Ecole Polytechnique de Tunisie</strong> </center> </h2> \n",
        "<center> <img src=\"https://nhoues.github.io/Infrastructure-Project/Animations/EPT.jpg\" style=\"width:5px; height:5px\"  ></center>"
      ]
    },
    {
      "cell_type": "markdown",
      "metadata": {
        "id": "QvX1IW3CnPvy",
        "colab_type": "text"
      },
      "source": [
        "<h1><center>Mini projet conception des systèmes d'information</center></h1>\n",
        "<h1><em><center>Problème de détection de fraud STEG</em></center></h1>\n",
        "<h3><center><em>Réalisé par :</em> <font color='blue'> Naim Houes & Malek Mechergui</font></center></h3> \n"
      ]
    },
    {
      "cell_type": "markdown",
      "metadata": {
        "id": "BV7wS_kvSmMq",
        "colab_type": "text"
      },
      "source": [
        "# Introduction "
      ]
    },
    {
      "cell_type": "markdown",
      "metadata": {
        "id": "TLFL0EFxSx_z",
        "colab_type": "text"
      },
      "source": [
        "Our best-performing methods for modeling sequence data use deep neural networks, usually either modified recurrent neural networks (RNNs) or attention-based Transformer blocks.  \n",
        "in this notebook we will try to use the RNN's and the attention-based Transforemr to detect the electricty frauder "
      ]
    },
    {
      "cell_type": "markdown",
      "metadata": {
        "id": "jtBNWzrcIbYs",
        "colab_type": "text"
      },
      "source": [
        "# Importaions "
      ]
    },
    {
      "cell_type": "code",
      "metadata": {
        "id": "W82scYCBNS4j",
        "colab_type": "code",
        "colab": {}
      },
      "source": [
        "!pip install transformers \n",
        "!pip install torchcontrib"
      ],
      "execution_count": 0,
      "outputs": []
    },
    {
      "cell_type": "code",
      "metadata": {
        "id": "G-zlLzfJISVe",
        "colab_type": "code",
        "colab": {}
      },
      "source": [
        "import os \n",
        "from functools import partial\n",
        "\n",
        "import pandas as pd\n",
        "from pandas import DataFrame\n",
        "from pandas import concat\n",
        "import copy , math\n",
        "import numpy as np\n",
        "import matplotlib.pyplot as plt\n",
        "from mpl_toolkits.mplot3d import Axes3D\n",
        "import seaborn as sns\n",
        "import warnings\n",
        "warnings.filterwarnings('ignore')\n",
        "\n",
        "import time, gc \n",
        "import torch \n",
        "from torch import nn,optim\n",
        "import torch.nn.functional as F\n",
        "\n",
        "from torch.autograd import Variable\n",
        "from torch.utils.data import Dataset, DataLoader\n",
        "from sklearn import preprocessing  \n",
        "import transformers \n",
        "from tqdm.notebook import tqdm\n",
        "from torchcontrib.optim import SWA\n",
        "import torchcontrib\n",
        "\n",
        "import random\n",
        "\n",
        "from sklearn.metrics import precision_score, recall_score, f1_score, roc_auc_score, accuracy_score, classification_report\n",
        "from sklearn.model_selection import train_test_split\n",
        "from sklearn.metrics import classification_report,confusion_matrix,roc_curve,auc,precision_recall_curve,roc_curve\n",
        "from sklearn import model_selection\n",
        "from sklearn import metrics\n",
        "from transformers import AdamW\n",
        "from transformers import get_linear_schedule_with_warmup\n",
        "tqdm.pandas()\n",
        "\n",
        "from collections import defaultdict\n",
        "\n",
        "from torch.utils.data.distributed import DistributedSampler\n",
        "from typing import Iterator, List, Optional\n",
        "from torch.utils.data.sampler import Sampler\n",
        "from torch.utils.data.dataset import Dataset\n",
        "from operator import itemgetter\n",
        "\n",
        "%matplotlib inline\n"
      ],
      "execution_count": 0,
      "outputs": []
    },
    {
      "cell_type": "code",
      "metadata": {
        "id": "hhj91N09ZsU9",
        "colab_type": "code",
        "colab": {}
      },
      "source": [
        "SEED = 1234\n",
        "\n",
        "random.seed(SEED)\n",
        "np.random.seed(SEED)\n",
        "torch.manual_seed(SEED)\n",
        "torch.cuda.manual_seed(SEED)\n",
        "torch.backends.cudnn.deterministic = True"
      ],
      "execution_count": 0,
      "outputs": []
    },
    {
      "cell_type": "markdown",
      "metadata": {
        "id": "jSgNovkaJLyg",
        "colab_type": "text"
      },
      "source": [
        "# Load the data "
      ]
    },
    {
      "cell_type": "code",
      "metadata": {
        "id": "4ItGpTW2e_N5",
        "colab_type": "code",
        "colab": {}
      },
      "source": [
        "train =pd.read_csv('/content/drive/My Drive/min projet/DL_train_client.csv')\n",
        "test = pd.read_csv('/content/drive/My Drive/min projet/DL_test_client.csv')"
      ],
      "execution_count": 0,
      "outputs": []
    },
    {
      "cell_type": "code",
      "metadata": {
        "id": "EhIBxtdJiIWB",
        "colab_type": "code",
        "colab": {}
      },
      "source": [
        "f,ax=plt.subplots(1,2,figsize=(18,8))\n",
        "train['Fraud'].value_counts().plot.pie(explode=[0,0.1],autopct='%1.1f%%',ax=ax[0],shadow=True)\n",
        "ax[0].set_title('Fraud')\n",
        "ax[0].set_ylabel('')\n",
        "sns.countplot('Fraud',data=train,ax=ax[1])\n",
        "ax[1].set_title('Fraud')\n",
        "plt.show()"
      ],
      "execution_count": 0,
      "outputs": []
    },
    {
      "cell_type": "code",
      "metadata": {
        "id": "1umh6UkpJ0M8",
        "colab_type": "code",
        "colab": {}
      },
      "source": [
        "train['seq_len'].hist()"
      ],
      "execution_count": 0,
      "outputs": []
    },
    {
      "cell_type": "code",
      "metadata": {
        "id": "Vx499mPXKeDF",
        "colab_type": "code",
        "colab": {}
      },
      "source": [
        "train['seq_len_input'] = train['seq_len']\n",
        "test['seq_len_input'] = test['seq_len']"
      ],
      "execution_count": 0,
      "outputs": []
    },
    {
      "cell_type": "markdown",
      "metadata": {
        "id": "vqFCCN632RJL",
        "colab_type": "text"
      },
      "source": [
        "# Data preporecessing "
      ]
    },
    {
      "cell_type": "code",
      "metadata": {
        "id": "1SWEBIwrPwc6",
        "colab_type": "code",
        "colab": {}
      },
      "source": [
        "fix_columns = [  'district' , 'client_catg' , 'region' ,'counter_coefficient'\t,'Tarif'\t,\t'seq_len_input']\n",
        "num_colmuns = ['max_consumption','min_consumption','std_consumption','mean_consumption']\n",
        "target =  'Fraud'"
      ],
      "execution_count": 0,
      "outputs": []
    },
    {
      "cell_type": "code",
      "metadata": {
        "id": "8fuafhto2Up5",
        "colab_type": "code",
        "colab": {}
      },
      "source": [
        "all_data = pd.concat([train,test])\n",
        "for f in fix_columns : \n",
        "  label_encoder = preprocessing.LabelEncoder()\n",
        "  label_encoder.fit(all_data[f].astype('str'))\n",
        "  train[f] = label_encoder.transform(train[f].astype('str').fillna('-1'))\n",
        "  test[f] = label_encoder.transform(test[f].astype('str').fillna('-1'))"
      ],
      "execution_count": 0,
      "outputs": []
    },
    {
      "cell_type": "code",
      "metadata": {
        "id": "QIKosN5Y51Uz",
        "colab_type": "code",
        "colab": {}
      },
      "source": [
        "for f in num_colmuns : \n",
        "  scale = preprocessing.MinMaxScaler()\n",
        "  scale.fit(train[f].values.reshape(-1,1))\n",
        "  train[f] = scale.transform(train[f].values.reshape(-1,1))\n",
        "  test[f] = scale.transform(test[f].values.reshape(-1,1))"
      ],
      "execution_count": 0,
      "outputs": []
    },
    {
      "cell_type": "markdown",
      "metadata": {
        "id": "FlX21nAfi-YK",
        "colab_type": "text"
      },
      "source": [
        "# Entity Embedding dim "
      ]
    },
    {
      "cell_type": "markdown",
      "metadata": {
        "id": "DRyKC9teTsdR",
        "colab_type": "text"
      },
      "source": [
        "since we have decided to use embeddings layers to encode the categorical features in this section we will create a function that returns a list that maps each categorical feature to there embedding dimension.  \n",
        "\n",
        "Entity Embeddings paper : https://arxiv.org/abs/1604.06737"
      ]
    },
    {
      "cell_type": "code",
      "metadata": {
        "id": "R3LEk5JzjDHv",
        "colab_type": "code",
        "colab": {}
      },
      "source": [
        "def get_emb_dim(df,categorical):\n",
        "    output=[]\n",
        "    for categorical_var in categorical:\n",
        "\n",
        "      cat_emb_name= categorical_var.replace(\" \", \"\")+'_Embedding'\n",
        "\n",
        "      no_of_unique_cat  = df[categorical_var].nunique()\n",
        "      embedding_size = int(min(np.ceil((no_of_unique_cat)/2), 32))\n",
        "      output.append((no_of_unique_cat,embedding_size))    \n",
        "      print('Categorica Variable:', categorical_var,\n",
        "          'Unique Categories:', no_of_unique_cat,\n",
        "          'Embedding Size:', embedding_size)\n",
        "  \n",
        "      \n",
        "    return output"
      ],
      "execution_count": 0,
      "outputs": []
    },
    {
      "cell_type": "code",
      "metadata": {
        "id": "KzhBqvJZjLjP",
        "colab_type": "code",
        "colab": {}
      },
      "source": [
        "entity_dim = get_emb_dim(train ,fix_columns)"
      ],
      "execution_count": 0,
      "outputs": []
    },
    {
      "cell_type": "markdown",
      "metadata": {
        "id": "MEF2suIkWTye",
        "colab_type": "text"
      },
      "source": [
        "# Dataset class "
      ]
    },
    {
      "cell_type": "markdown",
      "metadata": {
        "id": "s_PQfeRXTtwU",
        "colab_type": "text"
      },
      "source": [
        "we have created a dataset class for our Steg client dataset. We will read the data in __init__ but leave the reading of the rows  to __getitem__. This is memory efficient because all the dataset rows are not stored in the GPU memory at once but read as required.\n"
      ]
    },
    {
      "cell_type": "code",
      "metadata": {
        "id": "aNcFY9NzCrbW",
        "colab_type": "code",
        "colab": {}
      },
      "source": [
        "seq_cat = dict()\n",
        "seq_num = dict()\n",
        "for f in ['consumption_per_month','mean_lag','max_lag','min_lag','std_lag','var_lag'] : \n",
        "  seq_num[f] = consumption_columns = [f\"('{f}', 'seq(t= {i})')\" for i in range(train['seq_len'].max())]\n",
        "for f in ['level','quarter'] : \n",
        "  seq_cat[f] = consumption_columns = [f\"('{f}', 'seq(t= {i})')\" for i in range(train['seq_len'].max())]"
      ],
      "execution_count": 0,
      "outputs": []
    },
    {
      "cell_type": "code",
      "metadata": {
        "id": "XQDJp8I9sHQv",
        "colab_type": "code",
        "colab": {}
      },
      "source": [
        "class steg_data_set() : \n",
        "  def __init__(self,df) : \n",
        "    \n",
        "    self.df = df \n",
        "    \n",
        "    out = dict()\n",
        "    out['num'] = df[num_colmuns].values   \n",
        "\n",
        "    for f in fix_columns  : \n",
        "      out[f] = df[f].values \n",
        "\n",
        "    for f in seq_num.keys() : \n",
        "       out[f] = df[seq_num[f]].values \n",
        "    \n",
        "    for f in seq_cat.keys() : \n",
        "       out[f] = df[seq_cat[f]].values \n",
        "    out['Fraud'] = df['Fraud'].values\n",
        "\n",
        "    out['seq_len'] = df['seq_len'].values\n",
        "    \n",
        "    \n",
        "    self.df = out\n",
        "\n",
        "\n",
        "\n",
        "  def __len__(self) : \n",
        "    return(len(self.df['Fraud']))\n",
        "  def __getitem__(self,item) : \n",
        "    out = dict()\n",
        "\n",
        "    for i in  fix_columns: \n",
        "        out[i] = torch.tensor( self.df[i][item] , dtype=torch.long )\n",
        "\n",
        "    for f in seq_num.keys() : \n",
        "       out[f] = torch.tensor(self.df[f][item] , dtype= torch.float ) \n",
        "    \n",
        "    for f in seq_cat.keys() : \n",
        "       out[f] =torch.tensor(self.df[f][item] , dtype = torch.long ) \n",
        "\n",
        "    out['seq_len'] =torch.tensor(self.df['seq_len'][item] , dtype = torch.long)\n",
        "    out['num'] = torch.tensor(self.df['num'][item] , dtype = torch.float)\n",
        "    out['Fraud'] =torch.tensor(self.df['Fraud'][item] , dtype = torch.long)\n",
        "    out['mask'] = torch.tensor((self.df['consumption_per_month'][item] != 0),dtype=torch.float).unsqueeze(-2)\n",
        "    return out\n",
        "  def get_labels(self):\n",
        "        return list(self.df['Fraud'])\n"
      ],
      "execution_count": 0,
      "outputs": []
    },
    {
      "cell_type": "markdown",
      "metadata": {
        "id": "OHmxY88UT3bH",
        "colab_type": "text"
      },
      "source": [
        "## Class Balance with PyTorch "
      ]
    },
    {
      "cell_type": "code",
      "metadata": {
        "id": "RHFl1QyLS8kO",
        "colab_type": "code",
        "colab": {}
      },
      "source": [
        "##################################\n",
        "## parts of code from catalyst: ##\n",
        "##################################\n",
        "\n",
        "class DatasetFromSampler(Dataset):\n",
        "    \"\"\"Dataset of indexes from `Sampler`.\"\"\"\n",
        "\n",
        "    def __init__(self, sampler: Sampler):\n",
        "        \"\"\"\n",
        "        Args:\n",
        "            sampler (Sampler): @TODO: Docs. Contribution is welcome\n",
        "        \"\"\"\n",
        "        self.sampler = sampler\n",
        "        self.sampler_list = None\n",
        "\n",
        "    def __getitem__(self, index: int):\n",
        "        \"\"\"Gets element of the dataset.\n",
        "        Args:\n",
        "            index (int): index of the element in the dataset\n",
        "        Returns:\n",
        "            Single element by index\n",
        "        \"\"\"\n",
        "        if self.sampler_list is None:\n",
        "            self.sampler_list = list(self.sampler)\n",
        "        return self.sampler_list[index]\n",
        "\n",
        "    def __len__(self) -> int:\n",
        "        \"\"\"\n",
        "        Returns:\n",
        "            int: length of the dataset\n",
        "        \"\"\"\n",
        "        return len(self.sampler)\n",
        "\n",
        "\n",
        "class DistributedSamplerWrapper(DistributedSampler):\n",
        "    \"\"\"\n",
        "    Wrapper over `Sampler` for distributed training.\n",
        "    Allows you to use any sampler in distributed mode.\n",
        "    It is especially useful in conjunction with\n",
        "    :class:`torch.nn.parallel.DistributedDataParallel`. In such case, each\n",
        "    process can pass a DistributedSamplerWrapper instance as a DataLoader\n",
        "    sampler, and load a subset of subsampled data of the original dataset\n",
        "    that is exclusive to it.\n",
        "    .. note::\n",
        "        Sampler is assumed to be of constant size.\n",
        "    \"\"\"\n",
        "\n",
        "    def __init__(\n",
        "        self,\n",
        "        sampler,\n",
        "        num_replicas: Optional[int] = None,\n",
        "        rank: Optional[int] = None,\n",
        "        shuffle: bool = True,\n",
        "    ):\n",
        "        \"\"\"\n",
        "        Args:\n",
        "            sampler: Sampler used for subsampling\n",
        "            num_replicas (int, optional): Number of processes participating in\n",
        "                distributed training\n",
        "            rank (int, optional): Rank of the current process\n",
        "                within ``num_replicas``\n",
        "            shuffle (bool, optional): If true (default),\n",
        "                sampler will shuffle the indices\n",
        "        \"\"\"\n",
        "        super(DistributedSamplerWrapper, self).__init__(\n",
        "            DatasetFromSampler(sampler),\n",
        "            num_replicas=num_replicas,\n",
        "            rank=rank,\n",
        "            shuffle=shuffle,\n",
        "        )\n",
        "        self.sampler = sampler\n",
        "\n",
        "    def __iter__(self):\n",
        "        \"\"\"@TODO: Docs. Contribution is welcome.\"\"\"\n",
        "        self.dataset = DatasetFromSampler(self.sampler)\n",
        "        indexes_of_indexes = super().__iter__()\n",
        "        subsampler_indexes = self.dataset\n",
        "        return iter(itemgetter(*indexes_of_indexes)(subsampler_indexes))\n",
        "\n",
        "class BalanceClassSampler(Sampler):\n",
        "    \"\"\"Abstraction over data sampler.\n",
        "    Allows you to create stratified sample on unbalanced classes.\n",
        "    \"\"\"\n",
        "\n",
        "    def __init__(self, labels: List[int], mode: str = \"downsampling\"):\n",
        "        \"\"\"\n",
        "        Args:\n",
        "            labels (List[int]): list of class label\n",
        "                for each elem in the datasety\n",
        "            mode (str): Strategy to balance classes.\n",
        "                Must be one of [downsampling, upsampling]\n",
        "        \"\"\"\n",
        "        super().__init__(labels)\n",
        "\n",
        "        labels = np.array(labels)\n",
        "        samples_per_class = {\n",
        "            label: (labels == label).sum() for label in set(labels)\n",
        "        }\n",
        "\n",
        "        self.lbl2idx = {\n",
        "            label: np.arange(len(labels))[labels == label].tolist()\n",
        "            for label in set(labels)\n",
        "        }\n",
        "\n",
        "        if isinstance(mode, str):\n",
        "            assert mode in [\"downsampling\", \"upsampling\"]\n",
        "\n",
        "        if isinstance(mode, int) or mode == \"upsampling\":\n",
        "            samples_per_class = (\n",
        "                mode\n",
        "                if isinstance(mode, int)\n",
        "                else max(samples_per_class.values())\n",
        "            )\n",
        "        else:\n",
        "            samples_per_class = min(samples_per_class.values())\n",
        "\n",
        "        self.labels = labels\n",
        "        self.samples_per_class = samples_per_class\n",
        "        self.length = self.samples_per_class * len(set(labels))\n",
        "\n",
        "    def __iter__(self) -> Iterator[int]:\n",
        "        \"\"\"\n",
        "        Yields:\n",
        "            indices of stratified sample\n",
        "        \"\"\"\n",
        "        indices = []\n",
        "        for key in sorted(self.lbl2idx):\n",
        "            replace_ = self.samples_per_class > len(self.lbl2idx[key])\n",
        "            indices += np.random.choice(\n",
        "                self.lbl2idx[key], self.samples_per_class, replace=replace_\n",
        "            ).tolist()\n",
        "        assert len(indices) == self.length\n",
        "        np.random.shuffle(indices)\n",
        "\n",
        "        return iter(indices)\n",
        "\n",
        "    def __len__(self) -> int:\n",
        "        \"\"\"\n",
        "        Returns:\n",
        "             length of result sample\n",
        "        \"\"\"\n",
        "        return self.length"
      ],
      "execution_count": 0,
      "outputs": []
    },
    {
      "cell_type": "markdown",
      "metadata": {
        "id": "yAyW8_o67vcd",
        "colab_type": "text"
      },
      "source": [
        "in this section we have defined a pytorch sampler from **Catalyst Team** for our loaders for retrieve balanced dataset in the streaming , also for the training distribution. \n",
        "\n",
        "**Demonstartion for this technique** "
      ]
    },
    {
      "cell_type": "code",
      "metadata": {
        "id": "lbEgXpTY9Ulw",
        "colab_type": "code",
        "colab": {}
      },
      "source": [
        "train_dataset = steg_data_set(train)"
      ],
      "execution_count": 0,
      "outputs": []
    },
    {
      "cell_type": "markdown",
      "metadata": {
        "id": "z9rrGebH9hBh",
        "colab_type": "text"
      },
      "source": [
        "Usually loader:"
      ]
    },
    {
      "cell_type": "code",
      "metadata": {
        "id": "nAWqqiFW9h7q",
        "colab_type": "code",
        "colab": {}
      },
      "source": [
        "train_loader = torch.utils.data.DataLoader(\n",
        "    train_dataset,\n",
        "    batch_size=16,\n",
        "    pin_memory=False,\n",
        "    drop_last=False,\n",
        "    num_workers=2\n",
        ")"
      ],
      "execution_count": 0,
      "outputs": []
    },
    {
      "cell_type": "code",
      "metadata": {
        "id": "3b5ZYHB59lKA",
        "colab_type": "code",
        "colab": {}
      },
      "source": [
        "result = {'Fraud': []}\n",
        "for labels in tqdm(train_loader, total=len(train_loader)):\n",
        "    result['Fraud'].extend(labels['Fraud'].numpy())\n",
        "\n",
        "pd.DataFrame(result)['Fraud'].hist()\n",
        "plt.title('Training class distribution')\n",
        "plt.show()"
      ],
      "execution_count": 0,
      "outputs": []
    },
    {
      "cell_type": "markdown",
      "metadata": {
        "id": "AYhbvoZjADm-",
        "colab_type": "text"
      },
      "source": [
        "Using balance  sampler (Downsampling mode) :"
      ]
    },
    {
      "cell_type": "code",
      "metadata": {
        "id": "-kFCzSXFAFhP",
        "colab_type": "code",
        "colab": {}
      },
      "source": [
        "train_loader = torch.utils.data.DataLoader(\n",
        "    train_dataset,\n",
        "    batch_size=16,\n",
        "    sampler=BalanceClassSampler(labels=train_dataset.get_labels(), mode='downsampling'),  # here 2 modes: downsampling/upsampling\n",
        "    pin_memory=False,\n",
        "    drop_last=False,\n",
        "    num_workers=2\n",
        ")"
      ],
      "execution_count": 0,
      "outputs": []
    },
    {
      "cell_type": "code",
      "metadata": {
        "id": "ttNSTxB1AN_x",
        "colab_type": "code",
        "colab": {}
      },
      "source": [
        "result = {'Fraud': []}\n",
        "for labels in tqdm(train_loader, total=len(train_loader)):\n",
        "\n",
        "    result['Fraud'].extend(labels['Fraud'].numpy())\n",
        "    \n",
        "pd.DataFrame(result)['Fraud'].hist()\n",
        "plt.title('Training class distribution')\n",
        "plt.show()"
      ],
      "execution_count": 0,
      "outputs": []
    },
    {
      "cell_type": "markdown",
      "metadata": {
        "id": "S9zCTVH8WV7-",
        "colab_type": "text"
      },
      "source": [
        "# Lstm based Model "
      ]
    },
    {
      "cell_type": "markdown",
      "metadata": {
        "id": "7bRnIdZyVfay",
        "colab_type": "text"
      },
      "source": [
        "![image.png](data:image/png;base64,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)"
      ]
    },
    {
      "cell_type": "markdown",
      "metadata": {
        "id": "N9OhlW7rVoog",
        "colab_type": "text"
      },
      "source": [
        "we have tow parts in our model : \n",
        "* **Sequence Encoder :** we have used a Lstm ( Long short term memory ) block to encode the information from the sequence of consumption history.    \n",
        "\n",
        "* **Fully connected layer :**  we concated the output of the encoder block with the information of the counter . \n",
        "\n"
      ]
    },
    {
      "cell_type": "markdown",
      "metadata": {
        "id": "hBKhcxyWcnwY",
        "colab_type": "text"
      },
      "source": [
        "![image.png](data:image/png;base64,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)"
      ]
    },
    {
      "cell_type": "markdown",
      "metadata": {
        "id": "GnqklLE-cUZo",
        "colab_type": "text"
      },
      "source": [
        "### Implementation  "
      ]
    },
    {
      "cell_type": "code",
      "metadata": {
        "id": "DD_CRalXWXav",
        "colab_type": "code",
        "colab": {}
      },
      "source": [
        "class Encoder(nn.Module):\n",
        "  \n",
        "  def __init__(self,enc_hid_dim, output_dim, dropout):\n",
        "   \n",
        "    super(Encoder,self).__init__()\n",
        "    self.output_dim = output_dim\n",
        "    self.embedding_level = nn.Embedding(5, 2)\n",
        "    self.embedding_quarter = nn.Embedding(5, 2)\n",
        "    \n",
        "    self.rnn = nn.LSTM( 4 + 6 , enc_hid_dim)\n",
        "    self.fc = nn.Linear(enc_hid_dim , output_dim)\n",
        "    self.dropout = nn.Dropout(dropout)\n",
        "  def attention_net(self, lstm_output, final_state):\n",
        "    \n",
        "    hidden = final_state.squeeze(0)\n",
        "    attn_weights = torch.bmm(lstm_output, hidden.unsqueeze(2)).squeeze(2)\n",
        "    soft_attn_weights = F.softmax(attn_weights, 1)\n",
        "    new_hidden_state = torch.bmm(lstm_output.transpose(1, 2), soft_attn_weights.unsqueeze(2)).squeeze(2)\n",
        "\t\t\n",
        "    return new_hidden_state\n",
        "      \n",
        "  def forward(self,data):\n",
        "    x_cat = []\n",
        "    x = data['level'].to(device,dtype=torch.long) \n",
        "    x = x.permute(1,0)\n",
        "    x =  self.embedding_level(x) \n",
        "    x_cat.append(x)\n",
        "\n",
        "\n",
        "\n",
        "\n",
        "    x = data['quarter'].to(device,dtype=torch.long) \n",
        "    x = x.permute(1,0)\n",
        "    x =  self.embedding_quarter(x) \n",
        "    x_cat.append(x)\n",
        "\n",
        "    x_cat = torch.cat(x_cat,axis=2)\n",
        "\n",
        "\n",
        "    x_num = []\n",
        "    for f in seq_num.keys() :\n",
        "      x = data[f].to(device,dtype=torch.float) \n",
        "      x = x.permute(1,0)\n",
        "      x = x.unsqueeze(2)\n",
        "      x_num.append(x)\n",
        "    x_num = torch.cat(x_num, axis = 2 )\n",
        "\n",
        "    embedded = torch.cat( [ x_num , x_cat ] ,axis = 2 )\n",
        "   \n",
        "    packed_embedded = nn.utils.rnn.pack_padded_sequence(embedded,  data['seq_len'],enforce_sorted=False)\n",
        "    output, (final_hidden_state, final_cell_state) = self.rnn(packed_embedded) \n",
        "    outputs, _ = nn.utils.rnn.pad_packed_sequence(output)\n",
        "    outputs = outputs.permute(1, 0, 2) \n",
        "\n",
        "    attn_output  =  self.attention_net(outputs, final_hidden_state)\n",
        "    final_output =  self.fc(attn_output)\n",
        "\n",
        "    return final_output"
      ],
      "execution_count": 0,
      "outputs": []
    },
    {
      "cell_type": "code",
      "metadata": {
        "id": "FfTv5Ls3pF_-",
        "colab_type": "code",
        "colab": {}
      },
      "source": [
        "class steg_GRU_model(nn.Module) : \n",
        "  \n",
        "  def __init__(self, encoder , emb_size) : \n",
        "    \n",
        "    super(steg_GRU_model,self).__init__() \n",
        "    self.Encoder = encoder \n",
        "    self.enc_dim = encoder.output_dim\n",
        "\n",
        "    outputs_cat = nn.ModuleList() # define the Embedding layer\n",
        "    for inp , emb  in emb_size :\n",
        "        embedding_layer = nn.Embedding(inp+2,emb)\n",
        "        outputs_cat.append(embedding_layer)\n",
        "    self.outputs_cat = outputs_cat \n",
        "\n",
        "    n_emb = sum([e[1] for e in emb_size])\n",
        "\n",
        "\n",
        "    self.fc = nn.Sequential(  \n",
        "                              nn.Linear( n_emb + self.enc_dim + len(num_colmuns)  ,1024),\n",
        "                       \n",
        "                              nn.BatchNorm1d(1024),\n",
        "                              nn.Dropout(0.2),\n",
        "                              nn.ReLU(),\n",
        "                              nn.Linear( 1024 ,512),\n",
        "                              nn.BatchNorm1d(512),\n",
        "                              nn.Dropout(0.1),\n",
        "                              nn.ReLU(),\n",
        "                              nn.Linear(512,1),\n",
        "                              \n",
        "    )\n",
        "    \n",
        "  def forward(self,data) : \n",
        "   \n",
        "      enc_output = self.Encoder(data)\n",
        "      \n",
        "      \n",
        "      \n",
        "      \n",
        "      outputs_emb = [] \n",
        "      for i in range(len(fix_columns)) : \n",
        "          inputs = data[fix_columns[i]].to(device,dtype=torch.long) \n",
        "          out = self.outputs_cat[i](inputs)\n",
        "          outputs_emb.append(out.squeeze(1)) \n",
        "      x_cat = torch.cat(outputs_emb,dim= 1)\n",
        "      x_num =  data[\"num\"].to(device,dtype=torch.float) \n",
        "      x_all = torch.cat([x_cat,enc_output,x_num],dim=1)\n",
        "\n",
        "      x_out =torch.sigmoid( self.fc(x_all)).to(device,dtype=torch.float) \n",
        "      return x_out"
      ],
      "execution_count": 0,
      "outputs": []
    },
    {
      "cell_type": "markdown",
      "metadata": {
        "id": "fw27xHLrhzRJ",
        "colab_type": "text"
      },
      "source": [
        "# Engine "
      ]
    },
    {
      "cell_type": "code",
      "metadata": {
        "id": "_nQFzuzLhzEC",
        "colab_type": "code",
        "colab": {}
      },
      "source": [
        "def loss_fn(outputs, targets):\n",
        "    return nn.BCEWithLogitsLoss()(outputs, targets.view(-1, 1))\n"
      ],
      "execution_count": 0,
      "outputs": []
    },
    {
      "cell_type": "markdown",
      "metadata": {
        "id": "LpRKN80mnouz",
        "colab_type": "text"
      },
      "source": [
        "we used a the logloss as loss function "
      ]
    },
    {
      "cell_type": "code",
      "metadata": {
        "id": "3W_nMxuuhybB",
        "colab_type": "code",
        "colab": {}
      },
      "source": [
        "def train_fn(data_loader, model, optimizer,scheduler):\n",
        "  model.train()\n",
        "  \n",
        "  train_losses =[]\n",
        "  fin_targets = []\n",
        "  fin_outputs = []\n",
        "\n",
        "  for bi , d in tqdm(enumerate(data_loader), total=len(data_loader)):\n",
        "    \n",
        "    targets = d[\"Fraud\"]\n",
        "    targets = targets.to(device, dtype=torch.float)\n",
        "\n",
        "    optimizer.zero_grad()\n",
        "    \n",
        "    outputs = model(d)\n",
        "\n",
        " \n",
        "    loss = loss_fn(outputs, targets)\n",
        "    loss.backward()\n",
        "    optimizer.step()\n",
        "    scheduler.step(loss)\n",
        "    train_losses.append(loss.item())\n",
        "\n",
        "    targets_np = targets.cpu().detach().numpy().tolist()\n",
        "    outputs_np = outputs.cpu().detach().numpy().tolist()\n",
        "    fin_targets.extend(targets_np)\n",
        "    fin_outputs.extend(outputs_np)  \n",
        "     \n",
        "  return train_losses,fin_outputs,fin_targets"
      ],
      "execution_count": 0,
      "outputs": []
    },
    {
      "cell_type": "code",
      "metadata": {
        "id": "eThg9cYzimxk",
        "colab_type": "code",
        "colab": {}
      },
      "source": [
        "def eval_fn(data_loader, model):\n",
        "  model.eval()\n",
        "  \n",
        "  valid_losses=[]\n",
        "  fin_targets = []\n",
        "  fin_outputs = []\n",
        "  \n",
        "  with torch.no_grad():\n",
        "   \n",
        "    for bi, d in tqdm(enumerate(data_loader), total=len(data_loader)):\n",
        "      targets = d[\"Fraud\"]\n",
        "      targets = targets.to(device, dtype=torch.float)\n",
        "        \n",
        "      outputs = model(d)\n",
        "     \n",
        "      loss = loss_fn(outputs, targets)\n",
        "      \n",
        "      valid_losses.append(loss.item())\n",
        "      \n",
        "      targets_np = targets.cpu().detach().numpy().tolist()\n",
        "      outputs_np = outputs.cpu().detach().numpy().tolist()\n",
        "      fin_targets.extend(targets_np)\n",
        "      fin_outputs.extend(outputs_np)  \n",
        "    \n",
        "    return valid_losses, fin_outputs ,fin_targets"
      ],
      "execution_count": 0,
      "outputs": []
    },
    {
      "cell_type": "code",
      "metadata": {
        "id": "jELWFnwzisqy",
        "colab_type": "code",
        "colab": {}
      },
      "source": [
        "def run(model , validation = 'train_test_split' , mode='downsampling' , Model_type = 'GRU' ,patience = 10 ):\n",
        "    if str(validation) == 'train_test_split' : \n",
        "      df_train,df_valid = train_test_split(train , test_size = 0.2 , random_state = 42 )\n",
        "    else : \n",
        "      print(f'----------------- Training fold {validation} ---------------------')\n",
        "\n",
        "      df_train  = train[train['kfold'] != validation ]\n",
        "      df_valid  = train[train['kfold'] == validation ]\n",
        "    \n",
        "    train_dataset = steg_data_set(df_train)\n",
        "    valid_dataset = steg_data_set(df_valid)\n",
        "    \n",
        "    \n",
        "    if mode == 'unbalanced' : \n",
        "      train_dataloader = DataLoader(train_dataset, NNBATCHSIZE, shuffle=True , num_workers=16)\n",
        "    else : \n",
        "      train_dataloader = DataLoader(\n",
        "                                  train_dataset,\n",
        "                                  batch_size=NNBATCHSIZE,\n",
        "                                  sampler=BalanceClassSampler(labels=train_dataset.get_labels(), mode=mode),  # here 2 modes: downsampling/upsampling\n",
        "                                  pin_memory=False,\n",
        "                                  drop_last=False,\n",
        "                                  num_workers=2\n",
        "                              )\n",
        "\n",
        "    \n",
        "    valid_dataloader = DataLoader(valid_dataset, NNBATCHSIZE, shuffle=False)\n",
        "\n",
        "    \n",
        "    \n",
        "    param_optimizer = list(model.named_parameters())\n",
        "    no_decay = [\"bias\", \"LayerNorm.bias\", \"LayerNorm.weight\"]\n",
        "    optimizer_parameters = [\n",
        "        {'params': [p for n, p in param_optimizer if not any(nd in n for nd in no_decay)], 'weight_decay': 0.001},\n",
        "        {'params': [p for n, p in param_optimizer if any(nd in n for nd in no_decay)], 'weight_decay': 0.0},\n",
        "    ]\n",
        "\n",
        "    num_train_steps = int(len(train_dataloader)) * EPOCHS\n",
        "    optimizer = AdamW(optimizer_parameters, lr=LR)\n",
        "    scheduler = get_linear_schedule_with_warmup(\n",
        "        optimizer,\n",
        "        num_warmup_steps=0,\n",
        "        num_training_steps=num_train_steps\n",
        "    )\n",
        "    best_auc ,trials= 0 , 0 \n",
        "    \n",
        "    avg_train_losses, avg_valid_losses = [], []\n",
        "    avg_train_auc , avg_valid_auc = [],[]\n",
        "    \n",
        "    \n",
        "    model.load_state_dict(torch.load(f'/content/drive/My Drive/min projet/Models /{Model_type}_fold_{validation}_{mode}.bin'))\n",
        "    df_test = steg_data_set(test)\n",
        "    test_dataloader = DataLoader( df_test , NNBATCHSIZE, shuffle=False )\n",
        "    test_losses , test_preds , test_true = eval_fn(test_dataloader, model)\n",
        "    test_loss = np.average(test_losses)\n",
        "    test_score = metrics.roc_auc_score(np.array(test_true) ,test_preds)\n",
        "    print( \"test_loss: {:0.6f}, test_auc: {:0.6f}\".format(test_loss, test_score))\n",
        "    test['Fraud_'+mode+'_'+Model_type+'_'+str(validation)] = test_preds\n",
        "    def first(x) : \n",
        "      return x[0] \n",
        "    test['Fraud_'+mode+'_'+Model_type+'_'+str(validation)]= test['Fraud_'+mode+'_'+Model_type+'_'+str(validation)].apply(first)\n",
        "    \n",
        "    if validation == 'train_test_split' : \n",
        "      resualt = dict() \n",
        "      resualt['train_loss'] =  avg_train_losses\n",
        "      resualt['valis_loss'] = avg_valid_losses\n",
        "      resualt['train_auc'] = avg_train_auc\n",
        "      resualt['valid_auc'] = avg_valid_auc\n",
        "      return resualt"
      ],
      "execution_count": 0,
      "outputs": []
    },
    {
      "cell_type": "markdown",
      "metadata": {
        "id": "HPqn93FDnv4w",
        "colab_type": "text"
      },
      "source": [
        "we used an AdamW optimizer and a  linear schedule with warmup for learning rate scheduling.\n"
      ]
    },
    {
      "cell_type": "markdown",
      "metadata": {
        "id": "fd_i6beoiuG0",
        "colab_type": "text"
      },
      "source": [
        "# Training the Lstm based model "
      ]
    },
    {
      "cell_type": "markdown",
      "metadata": {
        "id": "Vdko9giQEeAx",
        "colab_type": "text"
      },
      "source": [
        "### Creating 5 folds for validation strategy dataset"
      ]
    },
    {
      "cell_type": "markdown",
      "metadata": {
        "id": "A2rdkHeKEwig",
        "colab_type": "text"
      },
      "source": [
        "we used StratifiedKFold from the Sklearn model_selection library to create 5 folds with the same percentage of samples for each class ."
      ]
    },
    {
      "cell_type": "code",
      "metadata": {
        "id": "PDnjLWCWEZrA",
        "colab_type": "code",
        "colab": {}
      },
      "source": [
        "train[\"kfold\"] = -1\n",
        "\n",
        "train = train.sample(frac=1).reset_index(drop=True)\n",
        "\n",
        "kf = model_selection.StratifiedKFold(n_splits=5, shuffle=True, random_state=42)\n",
        "\n",
        "for fold, (train_idx, val_idx) in enumerate(kf.split( X = train, y = train.Fraud)):\n",
        "    print(len(train_idx), len(val_idx))\n",
        "    train.loc[val_idx, 'kfold'] = fold"
      ],
      "execution_count": 0,
      "outputs": []
    },
    {
      "cell_type": "code",
      "metadata": {
        "id": "4heQtCL0KciV",
        "colab_type": "code",
        "colab": {}
      },
      "source": [
        "for fold in range(5) : \n",
        "  sub = train[train['kfold']==fold]\n",
        "  per_fraud= (sub[train['Fraud']==1].shape[0]/sub.shape[0])*100\n",
        "  print(f'there is {per_fraud}% frauder in fold {fold}')"
      ],
      "execution_count": 0,
      "outputs": []
    },
    {
      "cell_type": "markdown",
      "metadata": {
        "id": "sOQjjdCQHtQT",
        "colab_type": "text"
      },
      "source": [
        "## utils function "
      ]
    },
    {
      "cell_type": "code",
      "metadata": {
        "id": "D7VN9kOBHsd8",
        "colab_type": "code",
        "colab": {}
      },
      "source": [
        "def plot_auc(results) : \n",
        "  # summarize history for accuracy\n",
        "  plt.plot(resualts['train_auc'])\n",
        "  plt.plot(resualts['valid_auc'])\n",
        "  plt.title('Auc per epoch')\n",
        "  plt.ylabel('Auc')\n",
        "  plt.xlabel('epoch')\n",
        "  plt.legend(['train', 'val'], loc='upper right')\n",
        "  plt.show()\n",
        "def conf_matrix(y_pred,y_test) : \n",
        "  fig, ax = plt.subplots(2,2,figsize=(20,20))\n",
        "  conf_matrix = confusion_matrix(y_test, (y_pred>0.2).astype(int))\n",
        "  sns.heatmap(conf_matrix, ax=ax[0][0], annot=True)\n",
        "  ax[0, 0].set_title(\"Confusion Matrix \\n threshold = 0.2\", fontsize=14)\n",
        "  ax[0, 0].set_xticklabels(['', ''], fontsize=14, rotation=90)\n",
        "  ax[0, 0].set_yticklabels(['', ''], fontsize=14, rotation=360)\n",
        "\n",
        "  conf_matrix = confusion_matrix(y_test, (y_pred>0.5).astype(int))\n",
        "  sns.heatmap(conf_matrix, ax=ax[0][1], annot=True)\n",
        "  ax[0][1].set_title(\"Confusion Matrix \\n threshold = 0.5\", fontsize=14)\n",
        "  ax[0][1].set_xticklabels(['', ''], fontsize=14, rotation=90)\n",
        "  ax[0][1].set_yticklabels(['', ''], fontsize=14, rotation=360)\n",
        "\n",
        "  conf_matrix = confusion_matrix(y_test, (y_pred>0.7).astype(int))\n",
        "  sns.heatmap(conf_matrix, ax=ax[1][0], annot=True)\n",
        "  ax[1][0].set_title(\"Confusion Matrix \\n threshold = 0.7\", fontsize=14)\n",
        "  ax[1][0].set_xticklabels(['', ''], fontsize=14, rotation=90)\n",
        "  ax[1][0].set_yticklabels(['', ''], fontsize=14, rotation=360)\n",
        "\n",
        "  conf_matrix = confusion_matrix(y_test, (y_pred>0.9).astype(int))\n",
        "  sns.heatmap(conf_matrix, ax=ax[1][1], annot=True)\n",
        "  ax[1][1].set_title(\"Confusion Matrix \\n threshold = 0.9\", fontsize=14)\n",
        "  ax[1][1].set_xticklabels(['', ''], fontsize=14, rotation=90)\n",
        "  ax[1][1].set_yticklabels(['', ''], fontsize=14, rotation=360)\n",
        "  plt.show()\n",
        "  print(classification_report(y_test, (y_pred>0.5).astype(int)))\n"
      ],
      "execution_count": 0,
      "outputs": []
    },
    {
      "cell_type": "markdown",
      "metadata": {
        "id": "VpCj1Jr1V9IZ",
        "colab_type": "text"
      },
      "source": [
        "## Training with  unbalanced dataset   "
      ]
    },
    {
      "cell_type": "code",
      "metadata": {
        "id": "AKF8Q1U5BMvt",
        "colab_type": "code",
        "colab": {}
      },
      "source": [
        "#config \n",
        "NNBATCHSIZE = 128 \n",
        "EPOCHS = 6\n",
        "LR = 1e-4\n",
        "device = torch.device('cpu')"
      ],
      "execution_count": 0,
      "outputs": []
    },
    {
      "cell_type": "code",
      "metadata": {
        "id": "AdwXe6RynohR",
        "colab_type": "code",
        "colab": {}
      },
      "source": [
        "train = train.fillna(0)\n",
        "test = test.fillna(0)"
      ],
      "execution_count": 0,
      "outputs": []
    },
    {
      "cell_type": "code",
      "metadata": {
        "id": "RevgFSnkIMDR",
        "colab_type": "code",
        "colab": {}
      },
      "source": [
        "encoder = Encoder(256,256,0.1)\n",
        "model = steg_GRU_model(encoder,entity_dim)\n",
        "model = model.to(device)\n",
        "resualts = run(model , validation = 'train_test_split' , mode='unbalanced' , Model_type = 'GRU' ,patience = 5 )\n"
      ],
      "execution_count": 0,
      "outputs": []
    },
    {
      "cell_type": "code",
      "metadata": {
        "id": "pLaYx718sZBw",
        "colab_type": "code",
        "colab": {}
      },
      "source": [
        "conf_matrix(test['Fraud_'+'unbalanced'+'_'+'GRU'+'_'+'train_test_split'],test['Fraud'])"
      ],
      "execution_count": 0,
      "outputs": []
    },
    {
      "cell_type": "markdown",
      "metadata": {
        "id": "1cTqGa6SF7Bw",
        "colab_type": "text"
      },
      "source": [
        "## Using upsampling technique "
      ]
    },
    {
      "cell_type": "code",
      "metadata": {
        "id": "tLtgpOuYJlo6",
        "colab_type": "code",
        "colab": {}
      },
      "source": [
        "NNBATCHSIZE = 128 \n",
        "EPOCHS = 64\n",
        "LR = 1e-4\n",
        "device = torch.device('cuda')"
      ],
      "execution_count": 0,
      "outputs": []
    },
    {
      "cell_type": "code",
      "metadata": {
        "id": "HbIaTXDRJsF-",
        "colab_type": "code",
        "colab": {}
      },
      "source": [
        "encoder = Encoder(256,256,0.1)\n",
        "model = steg_GRU_model(encoder,entity_dim)\n",
        "model = model.to(device)\n",
        "resualts = run(model , validation = 'train_test_split' , mode='upsampling' , Model_type = 'GRU' ,patience = 5 )"
      ],
      "execution_count": 0,
      "outputs": []
    },
    {
      "cell_type": "code",
      "metadata": {
        "id": "ZBVgES7ZXXfY",
        "colab_type": "code",
        "colab": {}
      },
      "source": [
        "plot_auc(resualts)"
      ],
      "execution_count": 0,
      "outputs": []
    },
    {
      "cell_type": "code",
      "metadata": {
        "id": "ptonEgHfXZha",
        "colab_type": "code",
        "colab": {}
      },
      "source": [
        "conf_matrix(test['Fraud_'+'upsampling'+'_'+'GRU'+'_'+'train_test_split'].values,test['Fraud'].values)"
      ],
      "execution_count": 0,
      "outputs": []
    },
    {
      "cell_type": "code",
      "metadata": {
        "id": "2Dp4yxR_LV64",
        "colab_type": "code",
        "colab": {}
      },
      "source": [
        "print(classification_report(test['Fraud'].values , (test['Fraud_'+'upsampling'+'_'+'GRU'+'_'+'train_test_split'].values >0.2).astype(int)))\n"
      ],
      "execution_count": 0,
      "outputs": []
    },
    {
      "cell_type": "markdown",
      "metadata": {
        "id": "QkEppMOeX5LZ",
        "colab_type": "text"
      },
      "source": [
        "## Using downsampling technique"
      ]
    },
    {
      "cell_type": "code",
      "metadata": {
        "id": "1XiGlxh3Xd--",
        "colab_type": "code",
        "colab": {}
      },
      "source": [
        "NNBATCHSIZE = 32 \n",
        "EPOCHS = 100\n",
        "LR = 1e-4\n",
        "device = torch.device('cpu')"
      ],
      "execution_count": 0,
      "outputs": []
    },
    {
      "cell_type": "code",
      "metadata": {
        "id": "GESYv5DmYMuR",
        "colab_type": "code",
        "colab": {}
      },
      "source": [
        "encoder = Encoder(256,256,0.1)\n",
        "model = steg_GRU_model(encoder,entity_dim)\n",
        "model = model.to(device)\n",
        "resualts = run(model , validation = 'train_test_split' , mode='downsampling' , Model_type = 'GRU' ,patience = 10 )"
      ],
      "execution_count": 0,
      "outputs": []
    },
    {
      "cell_type": "code",
      "metadata": {
        "id": "wn-vEhvaZi8x",
        "colab_type": "code",
        "colab": {}
      },
      "source": [
        "conf_matrix(test['Fraud_'+'upsampling'+'_'+'GRU'+'_'+'train_test_split'].values,test['Fraud'].values)"
      ],
      "execution_count": 0,
      "outputs": []
    },
    {
      "cell_type": "markdown",
      "metadata": {
        "id": "xcHksI6Wea1d",
        "colab_type": "text"
      },
      "source": [
        "## 5 folds downsampling : "
      ]
    },
    {
      "cell_type": "code",
      "metadata": {
        "id": "fFUNqDw3tJhR",
        "colab_type": "code",
        "colab": {}
      },
      "source": [
        "NNBATCHSIZE = 128 \n",
        "EPOCHS = 60\n",
        "LR = 1e-4\n",
        "device = torch.device('cpu')"
      ],
      "execution_count": 0,
      "outputs": []
    },
    {
      "cell_type": "code",
      "metadata": {
        "id": "pRzAHqxGehnM",
        "colab_type": "code",
        "colab": {}
      },
      "source": [
        "for fold in range(5) : \n",
        "  encoder = Encoder(256,256,0.1)\n",
        "  model = steg_GRU_model(encoder,entity_dim)\n",
        "  model = model.to(device)\n",
        "  resualts = run(model , validation = fold , mode='downsampling' , Model_type = 'GRU' ,patience = 5 )"
      ],
      "execution_count": 0,
      "outputs": []
    },
    {
      "cell_type": "code",
      "metadata": {
        "id": "ilCLdavWew-Z",
        "colab_type": "code",
        "colab": {}
      },
      "source": [
        "f = ['Fraud_downsampling_GRU_'+str(i) for i in range(5)]\n",
        "test['5_folds_GRU'] = test[f].mean(axis=1)"
      ],
      "execution_count": 0,
      "outputs": []
    },
    {
      "cell_type": "code",
      "metadata": {
        "id": "krrF-82wGz4X",
        "colab_type": "code",
        "colab": {}
      },
      "source": [
        "conf_matrix(test['5_folds_GRU'].values,test['Fraud'].values)"
      ],
      "execution_count": 0,
      "outputs": []
    },
    {
      "cell_type": "code",
      "metadata": {
        "id": "C_zlGxLiQkTj",
        "colab_type": "code",
        "colab": {}
      },
      "source": [
        "print(classification_report(test['Fraud'].values , (test['5_folds_GRU'].values >0.2).astype(int)))\n"
      ],
      "execution_count": 0,
      "outputs": []
    },
    {
      "cell_type": "markdown",
      "metadata": {
        "id": "yjg3tqATiAm7",
        "colab_type": "text"
      },
      "source": [
        "## Transformer encoder based model "
      ]
    },
    {
      "cell_type": "markdown",
      "metadata": {
        "id": "_v5h4Q_RiNHC",
        "colab_type": "text"
      },
      "source": [
        "Whenever long-term dependencies  are involved, we know that RNNs (even with using hacks like bi-directional, multi-layer, memory-based gates — LSTMs/GRUs) suffer from vanishing gradient problem. Also, they handle the sequence of inputs 1 by 1 this resulting in an obstacle towards parallelization of the process. the transformer architecture solves this problem by using the attention mechanism so that why we have decided to try to implement a transformer encoder to encode the historical client consumption \n",
        "instead of the RNN's.  \n",
        "\n",
        "\n",
        "* Ref : \"Attention is All you Need\" paper (https://arxiv.org/pdf/1706.03762.pdf) "
      ]
    },
    {
      "cell_type": "markdown",
      "metadata": {
        "id": "N2C-DnFqiPr3",
        "colab_type": "text"
      },
      "source": [
        "### The encoder Description "
      ]
    },
    {
      "cell_type": "markdown",
      "metadata": {
        "id": "AFnZvaKhiSTW",
        "colab_type": "text"
      },
      "source": [
        "this is the Transformer encoder-decoder architecture described by the \"attention is all you need\" paper. "
      ]
    },
    {
      "cell_type": "markdown",
      "metadata": {
        "id": "0hjIiGJCiVbJ",
        "colab_type": "text"
      },
      "source": [
        "![Texte alternatif…](https://nlp.seas.harvard.edu/images/the-annotated-transformer_14_0.png)"
      ]
    },
    {
      "cell_type": "markdown",
      "metadata": {
        "id": "lHC3uHN2iXzN",
        "colab_type": "text"
      },
      "source": [
        "since our problem is a sequence to one problem we have implemented the encoder part of this architecture and we have changed the embedding input layer to be adaptative with our numerical input. then we concatenated the output of this encoder with the other computer features. "
      ]
    },
    {
      "cell_type": "markdown",
      "metadata": {
        "id": "EOGK3YrMkSWa",
        "colab_type": "text"
      },
      "source": [
        "![image.png](data:image/png;base64,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)"
      ]
    },
    {
      "cell_type": "markdown",
      "metadata": {
        "id": "tB9djouMiZ1l",
        "colab_type": "text"
      },
      "source": [
        "## Encoder implmentation "
      ]
    },
    {
      "cell_type": "markdown",
      "metadata": {
        "id": "70WNhURcib01",
        "colab_type": "text"
      },
      "source": [
        "The encoder is composed of a stack of N identical layers."
      ]
    },
    {
      "cell_type": "code",
      "metadata": {
        "id": "3BPrKfUriJ3i",
        "colab_type": "code",
        "colab": {}
      },
      "source": [
        "def clones(module, N):\n",
        "    \"Produce N identical layers.\"\n",
        "    return nn.ModuleList([copy.deepcopy(module) for _ in range(N)])"
      ],
      "execution_count": 0,
      "outputs": []
    },
    {
      "cell_type": "code",
      "metadata": {
        "id": "Ejr3lt7EidbJ",
        "colab_type": "code",
        "colab": {}
      },
      "source": [
        "class Encoder(nn.Module):\n",
        "    \"Core encoder is a stack of N layers\"\n",
        "    def __init__(self, layer, N):\n",
        "        super(Encoder, self).__init__()\n",
        "        self.layers = clones(layer, N)\n",
        "        self.norm = LayerNorm(layer.size)\n",
        "        \n",
        "    def forward(self, x, mask):\n",
        "        \"Pass the input (and mask) through each layer in turn.\"\n",
        "        for layer in self.layers:\n",
        "            x = layer(x, mask)\n",
        "        return self.norm(x)"
      ],
      "execution_count": 0,
      "outputs": []
    },
    {
      "cell_type": "code",
      "metadata": {
        "id": "l4AoS2AQiesy",
        "colab_type": "code",
        "colab": {}
      },
      "source": [
        "class Consupmtion_encoder(nn.Module):\n",
        "    \"\"\"\n",
        "    A standard Encoder-Decoder architecture. Base for this and many \n",
        "    other models.\n",
        "    \"\"\"\n",
        "    def __init__(self, encoder, src_embed, generator):\n",
        "        super(Consupmtion_encoder, self).__init__()\n",
        "        self.encoder = encoder\n",
        "        self.src_embed = src_embed\n",
        "        self.generator = generator\n",
        "        \n",
        "    def forward(self, src, src_mask):\n",
        "        \"Take in and process masked src and target sequences.\"\n",
        "        out = self.encode(src, src_mask)\n",
        "        out = self.generator(out)\n",
        "        return out\n",
        "    \n",
        "    def encode(self, src, src_mask):\n",
        "        return self.encoder(self.src_embed(src), src_mask)"
      ],
      "execution_count": 0,
      "outputs": []
    },
    {
      "cell_type": "markdown",
      "metadata": {
        "id": "iHxn034MiiEd",
        "colab_type": "text"
      },
      "source": [
        "we employ a residual connection around each of the sub-layers, followed by layer normalization."
      ]
    },
    {
      "cell_type": "code",
      "metadata": {
        "id": "Gc70-WSLifpb",
        "colab_type": "code",
        "colab": {}
      },
      "source": [
        "class LayerNorm(nn.Module):\n",
        "    \"Construct a layernorm module (See citation for details).\"\n",
        "    def __init__(self, features, eps=1e-6):\n",
        "        super(LayerNorm, self).__init__()\n",
        "        self.a_2 = nn.Parameter(torch.ones(features))\n",
        "        self.b_2 = nn.Parameter(torch.zeros(features))\n",
        "        self.eps = eps\n",
        "\n",
        "    def forward(self, x):\n",
        "        mean = x.mean(-1, keepdim=True)\n",
        "        std = x.std(-1, keepdim=True)\n",
        "        return self.a_2 * (x - mean) / (std + self.eps) + self.b_2"
      ],
      "execution_count": 0,
      "outputs": []
    },
    {
      "cell_type": "markdown",
      "metadata": {
        "id": "6jLRdPbNimn9",
        "colab_type": "text"
      },
      "source": [
        "That is, the output of each sub-layer is $LayerNorm(x+Sublayer(x))$\n",
        ", where \n",
        "$Sublayer(x)$\n",
        " is the function implemented by the sub-layer itself. We apply dropout \n",
        "to the output of each sub-layer, before it is added to the sub-layer input and normalized."
      ]
    },
    {
      "cell_type": "code",
      "metadata": {
        "id": "xEQJcA3Kijdo",
        "colab_type": "code",
        "colab": {}
      },
      "source": [
        "class SublayerConnection(nn.Module):\n",
        "    \"\"\"\n",
        "    A residual connection followed by a layer norm.\n",
        "    Note for code simplicity the norm is first as opposed to last.\n",
        "    \"\"\"\n",
        "    def __init__(self, size, dropout):\n",
        "        super(SublayerConnection, self).__init__()\n",
        "        self.norm = LayerNorm(size)\n",
        "        self.dropout = nn.Dropout(dropout)\n",
        "\n",
        "    def forward(self, x, sublayer):\n",
        "        \"Apply residual connection to any sublayer with the same size.\"\n",
        "        return x + self.dropout(sublayer(self.norm(x)))"
      ],
      "execution_count": 0,
      "outputs": []
    },
    {
      "cell_type": "markdown",
      "metadata": {
        "id": "nQDdJrN3iqJ4",
        "colab_type": "text"
      },
      "source": [
        "Each layer has two sub-layers.The first is a multi-head self-attention mechanism , and the second is a simple, position-wise fully connected feed-forawrd network ."
      ]
    },
    {
      "cell_type": "code",
      "metadata": {
        "id": "uqc69sIkip60",
        "colab_type": "code",
        "colab": {}
      },
      "source": [
        "class EncoderLayer(nn.Module):\n",
        "    \"Encoder is made up of self-attn and feed forward (defined below)\"\n",
        "    def __init__(self, size, self_attn, feed_forward, dropout):\n",
        "        super(EncoderLayer, self).__init__()\n",
        "        self.self_attn = self_attn\n",
        "        self.feed_forward = feed_forward\n",
        "        self.sublayer = clones(SublayerConnection(size, dropout), 2)\n",
        "        self.size = size\n",
        "\n",
        "    def forward(self, x, mask):\n",
        "        \"Follow Figure 1 (left) for connections.\"\n",
        "        x = self.sublayer[0](x, lambda x: self.self_attn(x, x, x, mask))\n",
        "        return self.sublayer[1](x, self.feed_forward)"
      ],
      "execution_count": 0,
      "outputs": []
    },
    {
      "cell_type": "markdown",
      "metadata": {
        "id": "kSEpsZ3uqFMW",
        "colab_type": "text"
      },
      "source": [
        "The encoder contains self-attention layers. In a self-attention layer all of the keys , values and queries come from the same place , in this case n the output of the previous layer in the encoder."
      ]
    },
    {
      "cell_type": "code",
      "metadata": {
        "id": "wzT4lYNiioWT",
        "colab_type": "code",
        "colab": {}
      },
      "source": [
        "def attention(query, key, value, mask=None, dropout=None):\n",
        "    \"Compute 'Scaled Dot Product Attention'\"\n",
        "    d_k = query.size(-1)\n",
        "    scores = torch.matmul(query, key.transpose(-2, -1)) \\\n",
        "             / math.sqrt(d_k)\n",
        "   # mask = mask.permute(3,1,2,0)\n",
        "    if mask is not None:\n",
        "        scores = scores.masked_fill(mask == 0, -1e9)\n",
        "    p_attn = F.softmax(scores, dim = -1)\n",
        "    if dropout is not None:\n",
        "        p_attn = dropout(p_attn)\n",
        "    return torch.matmul(p_attn, value), p_attn"
      ],
      "execution_count": 0,
      "outputs": []
    },
    {
      "cell_type": "markdown",
      "metadata": {
        "id": "PMwf7ToLqJ1F",
        "colab_type": "text"
      },
      "source": [
        "An attention function can be described as mapping a query and a set of key-value pairs to an output, where the query , keys , values , and output are all vectors. The output is computed as a weighted sum of the values, where the weight assigned to each value is computed by a compatibility function of the query with the corresponding key. \n",
        "$$ Attention(Q,K,V) = softmax(\\frac{QK^T}{\\sqrt{d_k}})V $$"
      ]
    },
    {
      "cell_type": "code",
      "metadata": {
        "id": "Q-cGKIkDqHxX",
        "colab_type": "code",
        "colab": {}
      },
      "source": [
        "class MultiHeadedAttention(nn.Module):\n",
        "    def __init__(self, h, d_model, dropout=0.1):\n",
        "        \"Take in model size and number of heads.\"\n",
        "        super(MultiHeadedAttention, self).__init__()\n",
        "        assert d_model % h == 0\n",
        "        # We assume d_v always equals d_k\n",
        "        self.d_k = d_model // h\n",
        "        self.h = h\n",
        "        self.linears = clones(nn.Linear(d_model, d_model), 4)\n",
        "        self.attn = None\n",
        "        self.dropout = nn.Dropout(p=dropout)\n",
        "        \n",
        "    def forward(self, query, key, value, mask=None):\n",
        "        \"Implements Figure 2\"\n",
        "        if mask is not None:\n",
        "            # Same mask applied to all h heads.\n",
        "            mask = mask.unsqueeze(1)\n",
        "        nbatches = query.size(0)\n",
        "        \n",
        "        # 1) Do all the linear projections in batch from d_model => h x d_k \n",
        "        query, key, value = \\\n",
        "            [l(x).view(nbatches, -1, self.h, self.d_k).transpose(1, 2)\n",
        "             for l, x in zip(self.linears, (query, key, value))]\n",
        "        \n",
        "        # 2) Apply attention on all the projected vectors in batch. \n",
        "        x, self.attn = attention(query, key, value, mask=mask, \n",
        "                                 dropout=self.dropout)\n",
        "        \n",
        "        # 3) \"Concat\" using a view and apply a final linear. \n",
        "        x = x.transpose(1, 2).contiguous() \\\n",
        "             .view(nbatches, -1, self.h * self.d_k)\n",
        "        return self.linears[-1](x)"
      ],
      "execution_count": 0,
      "outputs": []
    },
    {
      "cell_type": "markdown",
      "metadata": {
        "id": "U71uficBqNOt",
        "colab_type": "text"
      },
      "source": [
        "Multi-head attention allows the model to jointly attend to information from different representation subspaces at different positions. With a single attention head, averaging inhibits this. \n",
        "\n",
        "$$ MultiHead(Q,K,V) = Concat(head_1,...head_h) W^O $$\n",
        "\n",
        "\n",
        "where $ head_i= Attention(QW_i^Q,KW_i^K,VW_i^V) $"
      ]
    },
    {
      "cell_type": "code",
      "metadata": {
        "id": "euEWg8qGqNCt",
        "colab_type": "code",
        "colab": {}
      },
      "source": [
        "class MultiHeadedAttention(nn.Module):\n",
        "    def __init__(self, h, d_model, dropout=0.1):\n",
        "        \"Take in model size and number of heads.\"\n",
        "        super(MultiHeadedAttention, self).__init__()\n",
        "        assert d_model % h == 0\n",
        "        # We assume d_v always equals d_k\n",
        "        self.d_k = d_model // h\n",
        "        self.h = h\n",
        "        self.linears = clones(nn.Linear(d_model, d_model), 4)\n",
        "        self.attn = None\n",
        "        self.dropout = nn.Dropout(p=dropout)\n",
        "        \n",
        "    def forward(self, query, key, value, mask=None):\n",
        "        \"Implements Figure 2\"\n",
        "        if mask is not None:\n",
        "            # Same mask applied to all h heads.\n",
        "            mask = mask.unsqueeze(1)\n",
        "        nbatches = query.size(0)\n",
        "        \n",
        "        # 1) Do all the linear projections in batch from d_model => h x d_k \n",
        "        query, key, value = \\\n",
        "            [l(x).view(nbatches, -1, self.h, self.d_k).transpose(1, 2)\n",
        "             for l, x in zip(self.linears, (query, key, value))]\n",
        "        \n",
        "        # 2) Apply attention on all the projected vectors in batch. \n",
        "        x, self.attn = attention(query, key, value, mask=mask, \n",
        "                                 dropout=self.dropout)\n",
        "        \n",
        "        # 3) \"Concat\" using a view and apply a final linear. \n",
        "        x = x.transpose(1, 2).contiguous() \\\n",
        "             .view(nbatches, -1, self.h * self.d_k)\n",
        "        return self.linears[-1](x)\n",
        "class PositionwiseFeedForward(nn.Module):\n",
        "    \"Implements FFN equation.\"\n",
        "    def __init__(self, d_model, d_ff, dropout=0.1):\n",
        "        super(PositionwiseFeedForward, self).__init__()\n",
        "        self.w_1 = nn.Linear(d_model, d_ff)\n",
        "        self.w_2 = nn.Linear(d_ff, d_model)\n",
        "        self.dropout = nn.Dropout(dropout)\n",
        "\n",
        "    def forward(self, x):\n",
        "        return self.w_2(self.dropout(F.relu(self.w_1(x))))"
      ],
      "execution_count": 0,
      "outputs": []
    },
    {
      "cell_type": "markdown",
      "metadata": {
        "id": "s9tDYcd-qRwE",
        "colab_type": "text"
      },
      "source": [
        "## Input Layers : "
      ]
    },
    {
      "cell_type": "code",
      "metadata": {
        "id": "nTyfxdO5qLl-",
        "colab_type": "code",
        "colab": {}
      },
      "source": [
        "class Input_Layer(nn.Module):\n",
        "  def __init__(self, d_model):\n",
        "    super(Input_Layer, self).__init__()\n",
        "    self.embedding_level = nn.Embedding(5,3)\n",
        "    self.embedding_quarter = nn.Embedding(5,3)\n",
        "    self.lut = nn.Linear(12, d_model)\n",
        "    self.d_model = d_model\n",
        "\n",
        "  def forward(self, data):\n",
        "   \n",
        "    x_cat = []\n",
        "    x = data['level'].to(device,dtype=torch.long) \n",
        "    x =  self.embedding_level(x) \n",
        "    x_cat.append(x)\n",
        "\n",
        "\n",
        "\n",
        "\n",
        "    x = data['quarter'].to(device,dtype=torch.long) \n",
        "    x =  self.embedding_quarter(x) \n",
        "    x_cat.append(x)\n",
        "\n",
        "    x_cat = torch.cat(x_cat,axis=2)\n",
        "\n",
        "\n",
        "    x_num = []\n",
        "    for f in seq_num.keys() :\n",
        "      x = data[f].to(device,dtype=torch.float) \n",
        "      x = x.unsqueeze(2)\n",
        "      x_num.append(x)\n",
        "    x_num = torch.cat(x_num, axis = 2 )\n",
        "\n",
        "    embedded = torch.cat( [ x_num , x_cat ] ,axis = 2 )\n",
        "    return self.lut(embedded) * math.sqrt(self.d_model)"
      ],
      "execution_count": 0,
      "outputs": []
    },
    {
      "cell_type": "markdown",
      "metadata": {
        "id": "UqZlrEGaqVR1",
        "colab_type": "text"
      },
      "source": [
        "Since our model contains no recurrence and no convolution , in order for the model to make use of the order of the sequence , we must inject some information about the relative or absolute position of the observation of the sequnce .To this end , we add \"positional encodings\" to the input embeddings at the botttoms of the encoder stacks. "
      ]
    },
    {
      "cell_type": "code",
      "metadata": {
        "id": "65mFG0ylqTZT",
        "colab_type": "code",
        "colab": {}
      },
      "source": [
        "class PositionalEncoding(nn.Module):\n",
        "    \"Implement the PE function.\"\n",
        "    def __init__(self, d_model, dropout, max_len=170):\n",
        "        super(PositionalEncoding, self).__init__()\n",
        "        self.dropout = nn.Dropout(p=dropout)\n",
        "        \n",
        "        # Compute the positional encodings once in log space.\n",
        "        pe = torch.zeros(max_len, d_model)\n",
        "        position = torch.arange(0, max_len).unsqueeze(1)\n",
        "        div_term = torch.exp(torch.arange(0, d_model, 2) *\n",
        "                             -(math.log(10000.0) / d_model))\n",
        "        pe[:, 0::2] = torch.sin(position * div_term)\n",
        "        pe[:, 1::2] = torch.cos(position * div_term)\n",
        "        pe = pe.unsqueeze(0)\n",
        "        self.register_buffer('pe', pe)\n",
        "        \n",
        "    def forward(self, x):\n",
        "        x = x + Variable(self.pe[:, :x.size(1)], \n",
        "                         requires_grad=False)\n",
        "        return self.dropout(x)"
      ],
      "execution_count": 0,
      "outputs": []
    },
    {
      "cell_type": "code",
      "metadata": {
        "id": "wwKTSzAWqYBG",
        "colab_type": "code",
        "colab": {}
      },
      "source": [
        "class Generator(nn.Module):\n",
        "    \"Define standard linear + softmax generation step.\"\n",
        "    def __init__(self, d_model, vocab):\n",
        "      \n",
        "      super(Generator, self).__init__()\n",
        "      self.proj = nn.Linear(d_model, vocab)\n",
        "\n",
        "    def forward(self, x):\n",
        "     \n",
        "      return F.log_softmax(self.proj(x[:,-1,:]), dim=-1)"
      ],
      "execution_count": 0,
      "outputs": []
    },
    {
      "cell_type": "markdown",
      "metadata": {
        "id": "AsFpHSxDqbFG",
        "colab_type": "text"
      },
      "source": [
        "## Final Model "
      ]
    },
    {
      "cell_type": "markdown",
      "metadata": {
        "id": "WDGibfv7kurf",
        "colab_type": "text"
      },
      "source": [
        "![image.png](data:image/png;base64,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)"
      ]
    },
    {
      "cell_type": "code",
      "metadata": {
        "id": "QH1KRmpeqZ5H",
        "colab_type": "code",
        "colab": {}
      },
      "source": [
        "def Encoder_model(tgt_vocab, N=8, \n",
        "               d_model=256, d_ff=2048, h=8, dropout=0.15):\n",
        "    \"Helper: Construct a model from hyperparameters.\"\n",
        "    c = copy.deepcopy\n",
        "    attn = MultiHeadedAttention(h, d_model)\n",
        "    ff = PositionwiseFeedForward(d_model, d_ff, dropout)\n",
        "    position = PositionalEncoding(d_model, dropout)\n",
        "    model = Consupmtion_encoder(Encoder(EncoderLayer(d_model, c(attn), c(ff), dropout), N),\n",
        "        nn.Sequential(Input_Layer(d_model), c(position)),\n",
        "        Generator(d_model, tgt_vocab))\n",
        "    \n",
        "    # This was important from their code. \n",
        "    # Initialize parameters with Glorot / fan_avg.\n",
        "    for p in model.parameters():\n",
        "        if p.dim() > 1:\n",
        "            nn.init.xavier_uniform(p)\n",
        "    return model"
      ],
      "execution_count": 0,
      "outputs": []
    },
    {
      "cell_type": "code",
      "metadata": {
        "id": "wIkfzq21qciX",
        "colab_type": "code",
        "colab": {}
      },
      "source": [
        "class steg_Transformer_model(nn.Module) : \n",
        "  \n",
        "  def __init__(self, encoder , emb_size) : \n",
        "    \n",
        "    super(steg_Transformer_model,self).__init__() \n",
        "    self.Encoder = encoder \n",
        "\n",
        "    outputs_cat = nn.ModuleList() # define the Embedding layer\n",
        "    for inp , emb  in emb_size :\n",
        "        embedding_layer = nn.Embedding(inp+2,emb)\n",
        "        outputs_cat.append(embedding_layer)\n",
        "    self.outputs_cat = outputs_cat \n",
        "\n",
        "    n_emb = sum([e[1] for e in emb_size])\n",
        "\n",
        "\n",
        "    self.fc = nn.Sequential(  \n",
        "                              nn.Linear( n_emb + 256 + len(num_colmuns)  ,2048),\n",
        "                              nn.BatchNorm1d(2048),\n",
        "                              nn.Dropout(0.3),\n",
        "                              nn.PReLU(),\n",
        "                              nn.Linear(2048,1024),\n",
        "                              nn.BatchNorm1d(1024),\n",
        "                              nn.Dropout(0.1),\n",
        "                              nn.PReLU(),\n",
        "                              nn.Linear(1024,512),\n",
        "                              nn.BatchNorm1d(512),\n",
        "                              nn.Dropout(0.05),\n",
        "                              nn.PReLU(),\n",
        "                              nn.Linear(512,1)\n",
        "    )\n",
        "    \n",
        "  def forward(self,data) : \n",
        "   \n",
        "      enc_output = self.Encoder(data,data['mask'].to(device,dtype=torch.long))\n",
        "      \n",
        "      \n",
        "      \n",
        "      \n",
        "      outputs_emb = [] \n",
        "      for i in range(len(fix_columns)) : \n",
        "          inputs = data[fix_columns[i]].to(device,dtype=torch.long) \n",
        "          out = self.outputs_cat[i](inputs)\n",
        "          outputs_emb.append(out.squeeze(1)) \n",
        "      x_cat = torch.cat(outputs_emb,dim= 1)\n",
        "      x_num =  data[\"num\"].to(device,dtype=torch.float) \n",
        "      x_all = torch.cat([x_cat,enc_output,x_num],dim=1)\n",
        "\n",
        "      x_out = torch.sigmoid(self.fc(x_all)).to(device,dtype=torch.float) \n",
        "\n",
        "      return x_out"
      ],
      "execution_count": 0,
      "outputs": []
    },
    {
      "cell_type": "markdown",
      "metadata": {
        "id": "N5W0HHbKq_Nl",
        "colab_type": "text"
      },
      "source": [
        "## Training the Transforemr model "
      ]
    },
    {
      "cell_type": "markdown",
      "metadata": {
        "id": "7INHmmJjk3nv",
        "colab_type": "text"
      },
      "source": [
        "## unbalanced Data"
      ]
    },
    {
      "cell_type": "code",
      "metadata": {
        "id": "GD8ThWdz91Dh",
        "colab_type": "code",
        "colab": {}
      },
      "source": [
        "#config \n",
        "NNBATCHSIZE = 64\n",
        "EPOCHS = 2\n",
        "LR = 0.0001\n",
        "device = torch.device('cuda')"
      ],
      "execution_count": 0,
      "outputs": []
    },
    {
      "cell_type": "code",
      "metadata": {
        "id": "03Hs7YZ2qd2u",
        "colab_type": "code",
        "colab": {}
      },
      "source": [
        "encoder  = Encoder_model(256)\n",
        "model    = steg_Transformer_model(encoder,entity_dim)\n",
        "model    = model.to(device)\n",
        "resualts = run(model , validation = 'train_test_split' , mode='unbalanced' , Model_type = 'Transformer' , patience = 2 )\n"
      ],
      "execution_count": 0,
      "outputs": []
    },
    {
      "cell_type": "code",
      "metadata": {
        "id": "NZtmJ3nBCL9w",
        "colab_type": "code",
        "colab": {}
      },
      "source": [
        "conf_matrix(test['Fraud_'+'unbalanced'+'_'+'Transformer'+'_'+'train_test_split'].values,test['Fraud'].values)"
      ],
      "execution_count": 0,
      "outputs": []
    },
    {
      "cell_type": "markdown",
      "metadata": {
        "id": "R1gCRnZDk9Y_",
        "colab_type": "text"
      },
      "source": [
        "## upsampling"
      ]
    },
    {
      "cell_type": "code",
      "metadata": {
        "id": "Tjf9awpkk_xS",
        "colab_type": "code",
        "colab": {}
      },
      "source": [
        "#config \n",
        "NNBATCHSIZE = 64\n",
        "EPOCHS = 3\n",
        "LR = 0.0001\n",
        "device = torch.device('cuda')"
      ],
      "execution_count": 0,
      "outputs": []
    },
    {
      "cell_type": "code",
      "metadata": {
        "id": "Qe93nYgqCeRI",
        "colab_type": "code",
        "colab": {}
      },
      "source": [
        "encoder  = Encoder_model(256)\n",
        "model    = steg_Transformer_model(encoder,entity_dim)\n",
        "model    = model.to(device)\n",
        "resualts = run(model , validation = 'train_test_split' , mode='upsampling' , Model_type = 'Transformer' , patience = 2 )\n"
      ],
      "execution_count": 0,
      "outputs": []
    },
    {
      "cell_type": "code",
      "metadata": {
        "id": "W9JeeoHMChkx",
        "colab_type": "code",
        "colab": {}
      },
      "source": [
        "conf_matrix(test['Fraud_'+'upsampling'+'_'+'Transformer'+'_'+'train_test_split'].values,test['Fraud'].values)"
      ],
      "execution_count": 0,
      "outputs": []
    },
    {
      "cell_type": "code",
      "metadata": {
        "id": "FZiRDhapXPCy",
        "colab_type": "code",
        "colab": {}
      },
      "source": [
        "print(classification_report(test['Fraud'].values , (test['Fraud_'+'upsampling'+'_'+'Transformer'+'_'+'train_test_split'].values >0.2).astype(int)))\n"
      ],
      "execution_count": 0,
      "outputs": []
    },
    {
      "cell_type": "markdown",
      "metadata": {
        "id": "9ttrMlBvlAUI",
        "colab_type": "text"
      },
      "source": [
        "## Downsampling "
      ]
    },
    {
      "cell_type": "code",
      "metadata": {
        "id": "zmCeFXQFCohC",
        "colab_type": "code",
        "colab": {}
      },
      "source": [
        "#config \n",
        "NNBATCHSIZE = 64\n",
        "EPOCHS = 100\n",
        "LR = 0.0001\n",
        "device = torch.device('cuda')"
      ],
      "execution_count": 0,
      "outputs": []
    },
    {
      "cell_type": "code",
      "metadata": {
        "id": "vpTdT4NZlCAb",
        "colab_type": "code",
        "colab": {}
      },
      "source": [
        "encoder  = Encoder_model(256)\n",
        "model    = steg_Transformer_model(encoder,entity_dim)\n",
        "model    = model.to(device)\n",
        "resualts = run(model , validation = 'train_test_split' , mode='downsampling' , Model_type = 'Transformer' , patience = 5 )\n"
      ],
      "execution_count": 0,
      "outputs": []
    },
    {
      "cell_type": "code",
      "metadata": {
        "id": "ZQzTK9XeCq3H",
        "colab_type": "code",
        "colab": {}
      },
      "source": [
        "conf_matrix(test['Fraud_'+'downsampling'+'_'+'Transformer'+'_'+'train_test_split'].values,test['Fraud'].values)"
      ],
      "execution_count": 0,
      "outputs": []
    },
    {
      "cell_type": "code",
      "metadata": {
        "id": "AlyQ8yTXYN0W",
        "colab_type": "code",
        "colab": {}
      },
      "source": [
        "print(classification_report(test['Fraud'].values , (test['Fraud_'+'downsampling'+'_'+'Transformer'+'_'+'train_test_split'].values >0.2).astype(int)))\n"
      ],
      "execution_count": 0,
      "outputs": []
    },
    {
      "cell_type": "markdown",
      "metadata": {
        "id": "01FIMgHxlCmu",
        "colab_type": "text"
      },
      "source": [
        "## 5-Folds "
      ]
    },
    {
      "cell_type": "code",
      "metadata": {
        "id": "pSMfjAZblFL1",
        "colab_type": "code",
        "colab": {}
      },
      "source": [
        "NNBATCHSIZE = 128 \n",
        "EPOCHS = 16\n",
        "LR = 1e-3\n",
        "device = torch.device('cuda')"
      ],
      "execution_count": 0,
      "outputs": []
    },
    {
      "cell_type": "code",
      "metadata": {
        "id": "qy-WS1JMC0XT",
        "colab_type": "code",
        "colab": {}
      },
      "source": [
        "for fold in range(5) : \n",
        "  encoder  = Encoder_model(256)\n",
        "  model = steg_Transformer_model(encoder,entity_dim)\n",
        "  model = model.to(device)\n",
        "  run(model , validation = fold , mode='downsampling' , Model_type = 'Transformer' ,patience = 10 )"
      ],
      "execution_count": 0,
      "outputs": []
    },
    {
      "cell_type": "code",
      "metadata": {
        "id": "ahSkNmWoC-Jb",
        "colab_type": "code",
        "colab": {}
      },
      "source": [
        "f = ['Fraud_downsampling_Transformer_'+str(i) for i in range(5)]\n",
        "test['5_folds_Transformer'] = test[f].mean(axis=1)"
      ],
      "execution_count": 0,
      "outputs": []
    },
    {
      "cell_type": "code",
      "metadata": {
        "id": "V-FCUtVIGi3X",
        "colab_type": "code",
        "colab": {}
      },
      "source": [
        "conf_matrix(test['5_folds_Transformer'].values,test['Fraud'].values)"
      ],
      "execution_count": 0,
      "outputs": []
    },
    {
      "cell_type": "code",
      "metadata": {
        "id": "49lJtFTtdrDv",
        "colab_type": "code",
        "colab": {}
      },
      "source": [
        "print(classification_report(test['Fraud'].values , (test['5_folds_Transformer'].values >0.2).astype(int)))"
      ],
      "execution_count": 0,
      "outputs": []
    },
    {
      "cell_type": "markdown",
      "metadata": {
        "id": "CbPd-JqRHKgn",
        "colab_type": "text"
      },
      "source": [
        "# Summary  of the results"
      ]
    },
    {
      "cell_type": "code",
      "metadata": {
        "id": "1tOmk2hiHfMw",
        "colab_type": "code",
        "colab": {}
      },
      "source": [
        "plt.figure(figsize=(16,8))\n",
        "plt.title('ROC Curve ', fontsize=18)\n",
        "\n",
        "x, y, th = roc_curve(test['Fraud'], test['Fraud_upsampling_Transformer_train_test_split'])\n",
        "plt.plot(x, y, label='Transformer upsampling auc : {:.4f} '.format(roc_auc_score(test['Fraud'], test['Fraud_upsampling_Transformer_train_test_split'])))\n",
        "\n",
        "x, y, th = roc_curve(test['Fraud'], test['Fraud_downsampling_Transformer_train_test_split'])\n",
        "plt.plot(x, y, label='Transformer downsampling auc: {:.4f}'.format(roc_auc_score(test['Fraud'], test['Fraud_downsampling_Transformer_train_test_split'])))\n",
        "\n",
        "x, y, th = roc_curve(test['Fraud'], test['Fraud_unbalanced_Transformer_train_test_split'])\n",
        "plt.plot(x, y, label='Transformer unbalanced auc : {:.4f}'.format(roc_auc_score(test['Fraud'], test['Fraud_unbalanced_Transformer_train_test_split'])))\n",
        "\n",
        "x, y, th = roc_curve(test['Fraud'], test['5_folds_Transformer'])\n",
        "plt.plot(x, y, label='Transformer 5 folds auc : {:.4f}'.format(roc_auc_score(test['Fraud'], test['5_folds_Transformer'])))\n",
        "\n",
        "x, y, th = roc_curve(test['Fraud'], test['Fraud_upsampling_GRU_train_test_split'])\n",
        "plt.plot(x, y, label='LSTM model upsampling auc : {:.4f} '.format(roc_auc_score(test['Fraud'], test['Fraud_upsampling_GRU_train_test_split'])))\n",
        "\n",
        "x, y, th = roc_curve(test['Fraud'], test['Fraud_downsampling_GRU_train_test_split'])\n",
        "plt.plot(x, y, label='LSTM model downsampling auc: {:.4f}'.format(roc_auc_score(test['Fraud'], test['Fraud_downsampling_GRU_train_test_split'])))\n",
        "\n",
        "x, y, th = roc_curve(test['Fraud'], test['Fraud_unbalanced_GRU_train_test_split'])\n",
        "plt.plot(x, y, label='LSTM model unbalanced auc : {:.4f}'.format(roc_auc_score(test['Fraud'], test['Fraud_unbalanced_GRU_train_test_split'])))\n",
        "\n",
        "x, y, th = roc_curve(test['Fraud'], test['5_folds_GRU'])\n",
        "plt.plot(x, y, label='LSTM model 5 folds auc : {:.4f}'.format(roc_auc_score(test['Fraud'], test['5_folds_GRU'])))\n",
        "\n",
        "plt.plot([0, 1], [0, 1], 'k--')\n",
        "plt.axis([-0.01, 1, 0, 1])\n",
        "plt.xlabel('False Positive Rate', fontsize=16)\n",
        "plt.ylabel('True Positive Rate', fontsize=16)\n",
        "\n",
        "plt.legend()\n",
        "plt.show()"
      ],
      "execution_count": 0,
      "outputs": []
    }
  ]
}